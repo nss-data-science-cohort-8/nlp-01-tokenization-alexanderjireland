{
 "cells": [
  {
   "cell_type": "markdown",
   "id": "0a993410",
   "metadata": {},
   "source": [
    "## Tokenization Practice and Simple Document Similarity\n",
    "\n",
    "For this notebook, you have been provided the top 50 most downloaded books from Project Gutenberg over the last 90 days as text files."
   ]
  },
  {
   "cell_type": "code",
   "execution_count": 1,
   "id": "41bc3641",
   "metadata": {},
   "outputs": [],
   "source": [
    "import re\n",
    "import glob\n",
    "from tqdm.notebook import tqdm\n",
    "import pandas as pd\n",
    "import numpy as np\n",
    "\n",
    "from nltk import sent_tokenize, word_tokenize, regexp_tokenize\n",
    "from nltk.corpus import stopwords\n",
    "\n",
    "from collections import Counter"
   ]
  },
  {
   "cell_type": "markdown",
   "id": "d0b7bfc0",
   "metadata": {},
   "source": [
    "Given a filepath, you can open the file and use the `read` method to extract the contents as a string.\n",
    "\n",
    "For example, if we want to import the full text of War and Peace, we can do that using the following block of code."
   ]
  },
  {
   "cell_type": "code",
   "execution_count": 2,
   "id": "35e9db29",
   "metadata": {},
   "outputs": [],
   "source": [
    "filepath = '../data/books/War and Peace by graf Leo Tolstoy.txt'\n",
    "\n",
    "with open(filepath, encoding = 'utf-8') as fi:\n",
    "    book = fi.read()"
   ]
  },
  {
   "cell_type": "markdown",
   "id": "0fa5918c",
   "metadata": {},
   "source": [
    "You'll notice that there is some metadata at the top of the file and at the bottom of the file."
   ]
  },
  {
   "cell_type": "code",
   "execution_count": 3,
   "id": "8dce1e55",
   "metadata": {},
   "outputs": [
    {
     "data": {
      "text/plain": [
       "'\\ufeffThe Project Gutenberg eBook of War and Peace, by Leo Tolstoy\\n\\nThis eBook is for the use of anyone anywhere in the United States and\\nmost other parts of the world at no cost and with almost no restrictions\\nwhatsoever. You may copy it, give it away or re-use it under the terms\\nof the Project Gutenberg License included with this eBook or online at\\nwww.gutenberg.org. If you are not located in the United States, you\\nwill have to check the laws of the country where you are located before\\nusing this eBook.\\n\\nTitle: War and Peace\\n\\nAuthor: Leo Tolstoy\\n\\nTranslators: Louise and Aylmer Maude\\n\\nRelease Date: April, 2001 [eBook #2600]\\n[Most recently updated: January 21, 2019]\\n\\nLanguage: English\\n\\nCharacter set encoding: UTF-8\\n\\nProduced by: An Anonymous Volunteer and David Widger\\n\\n*** START OF THE PROJECT GUTENBERG EBOOK WAR AND PEACE ***\\n\\n\\n\\n\\nWAR AND PEACE\\n\\n\\nBy Leo Tolstoy/Tolstoi\\n\\n\\n    Contents\\n\\n    BOOK ONE: 1805\\n\\n    CHAPTER I\\n\\n    CHAPTER II\\n\\n    CHAPTER III\\n\\n    CHAPTER IV\\n\\n    CHAPTER V\\n\\n    CHAPTER VI\\n\\n    CHAPTER VII\\n\\n    CHAPTER VIII\\n\\n    CHAPTER IX\\n\\n    CHAPTER X\\n\\n    CHAPTER XI\\n\\n    CHAPTER XII\\n\\n    CHAPTER XIII\\n\\n    CHAPTER XIV\\n\\n    CHAPTER XV\\n\\n    CHAPTER XVI\\n\\n    CHAPTER XVII\\n\\n    CHAPTER XVIII\\n\\n    CHAPTER XIX\\n\\n    CHAPTER XX\\n\\n    CHAPTER XXI\\n\\n    CHAPTER XXII\\n\\n    CHAPTER XXIII\\n\\n    CHAPTER XXIV\\n\\n    CHAPTER XXV\\n\\n    CHAPTER XXVI\\n\\n    CHAPTER XXVII\\n\\n    CHAPTER XXVIII\\n\\n\\n    BOOK TWO: 1805\\n\\n    CHAPTER I\\n\\n    CHAPTER II\\n\\n    CHAPTER III\\n\\n    CHAPTER IV\\n\\n    CHAPTER V\\n\\n    CHAPTER VI\\n\\n    CHAPTER VII\\n\\n    CHAPTER VIII\\n\\n    CHAPTER IX\\n\\n    CHAPTER X\\n\\n    CHAPTER XI\\n\\n    CHAPTER XII\\n\\n    CHAPTER XIII\\n\\n    CHAPTER XIV\\n\\n    CHAPTER XV\\n\\n    CHAPTER XVI\\n\\n    CHAPTER XVII\\n\\n    CHAPTER XVIII\\n\\n    CHAPTER XIX\\n\\n    CHAPTER XX\\n\\n    CHAPTER XXI\\n\\n\\n    BOOK THREE: 1805\\n\\n    CHAPTER I\\n\\n    CHAPTER II\\n\\n    CHAPTER III\\n\\n    CHAPTER IV\\n\\n    CHAPTER V\\n\\n    CHAPTER VI\\n\\n    CHAPTER VII\\n\\n    CHAPTER VIII\\n\\n    CHAPTER IX\\n\\n    CHAPTER X\\n\\n    CHAPTER XI\\n\\n    CHAPTER XII\\n\\n    CHAPTER XIII\\n\\n    CHAPTER XIV\\n\\n    CHAPTER XV\\n\\n    CHAPTER XVI\\n\\n    CHAPTER XVII\\n\\n    CHAPTER XVIII\\n\\n    CHAPTER XIX\\n\\n\\n    BOOK FOUR: 1806\\n\\n    CHAPTER I\\n\\n    CHAPTER II\\n\\n    CHAPTER III\\n\\n    CHAPTER IV\\n\\n    CHAPTER V\\n\\n    CHAPTER VI\\n\\n    CHAPTER VII\\n\\n    CHAPTER VIII\\n\\n    CHAPTER IX\\n\\n    CHAPTER X\\n\\n    CHAPTER XI\\n\\n    CHAPTER XII\\n\\n    CHAPTER XIII\\n\\n    CHAPTER XIV\\n\\n    CHAPTER XV\\n\\n    CHAPTER XVI\\n\\n\\n    BOOK FIVE: 1806 - 07\\n\\n    CHAPTER I\\n\\n    CHAPTER II\\n\\n    CHAPTER III\\n\\n    CHAPTER IV\\n\\n    CHAPTER V\\n\\n    CHAPTER VI\\n\\n    CHAPTER VII\\n\\n    CHAPTER VIII\\n\\n    CHAPTER IX\\n\\n    CHAPTER X\\n\\n    CHAPTER XI\\n\\n    CHAPTER XII\\n\\n    CHAPTER XIII\\n\\n    CHAPTER XIV\\n\\n    CHAPTER XV\\n\\n    CHAPTER XVI\\n\\n    CHAPTER XVII\\n\\n    CHAPTER XVIII\\n\\n    CHAPTER XIX\\n\\n    CHAPTER XX\\n\\n    CHAPTER XXI\\n\\n    CHAPTER XXII\\n\\n\\n    BOOK SIX: 1808 - 10\\n\\n    CHAPTER I\\n\\n    CHAPTER II\\n\\n    CHAPTER III\\n\\n    CHAPTER IV\\n\\n    CHAPTER V\\n\\n    CHAPTER VI\\n\\n    CHAPTER VII\\n\\n    CHAPTER VIII\\n\\n    CHAPTER IX\\n\\n    CHAPTER X\\n\\n    CHAPTER XI\\n\\n    CHAPTER XII\\n\\n    CHAPTER XIII\\n\\n    CHAPTER XIV\\n\\n    CHAPTER XV\\n\\n    CHAPTER XVI\\n\\n    CHAPTER XVII\\n\\n    CHAPTER XVIII\\n\\n    CHAPTER XIX\\n\\n    CHAPTER XX\\n\\n    CHAPTER XXI\\n\\n    CHAPTER XXII\\n\\n    CHAPTER XXIII\\n\\n    CHAPTER XXIV\\n\\n    CHAPTER XXV\\n\\n    CHAPTER XXVI\\n\\n\\n    BOOK SEVEN: 1810 - 11\\n\\n    CHAPTER I\\n\\n    CHAPTER II\\n\\n    CHAPTER III\\n\\n    CHAPTER IV\\n\\n    CHAPTER V\\n\\n    CHAPTER VI\\n\\n    CHAPTER VII\\n\\n    CHAPTER VIII\\n\\n    CHAPTER IX\\n\\n    CHAPTER X\\n\\n    CHAPTER XI\\n\\n    CHAPTER XII\\n\\n    CHAPTER XIII\\n\\n\\n    BOOK EIGHT: 1811 - 12\\n\\n    CHAPTER I\\n\\n    CHAPTER II\\n\\n    CHAPTER III\\n\\n    CHAPTER IV\\n\\n    CHAPTER V\\n\\n    CHAPTER VI\\n\\n    CHAPTER VII\\n\\n    CHAPTER VIII\\n\\n    CHAPTER IX\\n\\n    CHAPTER X\\n\\n    CHAPTER XI\\n\\n    CHAPTER XII\\n\\n    CHAPTER XIII\\n\\n    CHAPTER XIV\\n\\n    CHAPTER XV\\n\\n    CHAPTER XVI\\n\\n    CHAPTER XVII\\n\\n    CHAPTER XVIII\\n\\n    CHAPTER XIX\\n\\n    CHAPTER XX\\n\\n    CHAPTER XXI\\n\\n    CHAPTER XXII\\n\\n\\n    BOOK NINE: 1812\\n\\n    CHAPTER I\\n\\n    CHAPTER II\\n\\n    CHAPTER III\\n\\n    CHAPTER IV\\n\\n    CHAPTER V\\n\\n    CHAPTER VI\\n\\n    CHAPTER VII\\n\\n    CHAPTER VIII\\n\\n    CHAPTER IX\\n\\n    CHAPTER X\\n\\n    CHAPTER XI\\n\\n    CHAPTER XII\\n\\n    CHAPTER XIII\\n\\n    CHAPTER XIV\\n\\n    CHAPTER XV\\n\\n    CHAPTER XVI\\n\\n    CHAPTER XVII\\n\\n    CHAPTER XVIII\\n\\n    CHAPTER XIX\\n\\n    CHAPTER XX\\n\\n    CHAPTER XXI\\n\\n    CHAPTER XXII\\n\\n    CHAPTER XXIII\\n\\n\\n    BOOK TEN: 1812\\n\\n    CHAPTER I\\n\\n    CHAPTER II\\n\\n    CHAPTER III\\n\\n    CHAPTER IV\\n\\n    CHAPTER V\\n\\n    CHAPTER VI\\n\\n    CHAPTER VII\\n\\n    CHAPTER VIII\\n\\n    CHAPTER IX\\n\\n    CHAPTER X\\n\\n    CHAPTER XI\\n\\n    CHAPTER XII\\n\\n    CHAPTER XIII\\n\\n    CHAPTER XIV\\n\\n    CHAPTER XV\\n\\n    CHAPTER XVI\\n\\n    CHAPTER XVII\\n\\n    CHAPTER XVIII\\n\\n    CHAPTER XIX\\n\\n    CHAPTER XX\\n\\n    CHAPTER XXI\\n\\n    CHAPTER XXII\\n\\n    CHAPTER XXIII\\n\\n    CHAPTER XXIV\\n\\n    CHAPTER XXV\\n\\n    CHAPTER XXVI\\n\\n    CHAPTER XXVII\\n\\n    CHAPTER XXVIII\\n\\n    CHAPTER XXIX\\n\\n    CHAPTER XXX\\n\\n    CHAPTER XXXI\\n\\n    CHAPTER XXXII\\n\\n    CHAPTER XXXIII\\n\\n    CHAPTER XXXIV\\n\\n    CHAPTER XXXV\\n\\n    CHAPTER XXXVI\\n\\n    CHAPTER XXXVII\\n\\n    CHAPTER XXXVIII\\n\\n    CHAPTER XXXIX\\n\\n\\n    BOOK ELEVEN: 1812\\n\\n    CHAPTER I\\n\\n    CHAPTER II\\n\\n    CHAPTER III\\n\\n    CHAPTER IV\\n\\n    CHAPTER V\\n\\n    CHAPTER VI\\n\\n    CHAPTER VII\\n\\n    CHAPTER VIII\\n\\n    CHAPTER IX\\n\\n    CHAPTER X\\n\\n    CHAPTER XI\\n\\n    CHAPTER XII\\n\\n    CHAPTER XIII\\n\\n    CHAPTER XIV\\n\\n    CHAPTER XV\\n\\n    CHAPTER XVI\\n\\n    CHAPTER XVII\\n\\n    CHAPTER XVIII\\n\\n    CHAPTER XIX\\n\\n    CHAPTER XX\\n\\n    CHAPTER XXI\\n\\n    CHAPTER XXII\\n\\n    CHAPTER XXIII\\n\\n    CHAPTER XXIV\\n\\n    CHAPTER XXV\\n\\n    CHAPTER XXVI\\n\\n    CHAPTER XXVII\\n\\n    CHAPTER XXVIII\\n\\n    CHAPTER XXIX\\n\\n    CHAPTER XXX\\n\\n    CHAPTER XXXI\\n\\n    CHAPTER XXXII\\n\\n    CHAPTER XXXIII\\n\\n    CHAPTER XXXIV\\n\\n\\n    BOOK TWELVE: 1812\\n\\n    CHAPTER I\\n\\n    CHAPTER II\\n\\n    CHAPTER III\\n\\n    CHAPTER IV\\n\\n    CHAPTER V\\n\\n    CHAPTER VI\\n\\n    CHAPTER VII\\n\\n    CHAPTER VIII\\n\\n    CHAPTER IX\\n\\n    CHAPTER X\\n\\n    CHAPTER XI\\n\\n    CHAPTER XII\\n\\n    CHAPTER XIII\\n\\n    CHAPTER XIV\\n\\n    CHAPTER XV\\n\\n    CHAPTER XVI\\n\\n\\n    BOOK THIRTEEN: 1812\\n\\n    CHAPTER I\\n\\n    CHAPTER II\\n\\n    CHAPTER III\\n\\n    CHAPTER IV\\n\\n    CHAPTER V\\n\\n    CHAPTER VI\\n\\n    CHAPTER VII\\n\\n    CHAPTER VIII\\n\\n    CHAPTER IX\\n\\n    CHAPTER X\\n\\n    CHAPTER XI\\n\\n    CHAPTER XII\\n\\n    CHAPTER XIII\\n\\n    CHAPTER XIV\\n\\n    CHAPTER XV\\n\\n    CHAPTER XVI\\n\\n    CHAPTER XVII\\n\\n    CHAPTER XVIII\\n\\n    CHAPTER XIX\\n\\n\\n    BOOK FOURTEEN: 1812\\n\\n    CHAPTER I\\n\\n    CHAPTER II\\n\\n    CHAPTER III\\n\\n    CHAPTER IV\\n\\n    CHAPTER V\\n\\n    CHAPTER VI\\n\\n    CHAPTER VII\\n\\n    CHAPTER VIII\\n\\n    CHAPTER IX\\n\\n    CHAPTER X\\n\\n    CHAPTER XI\\n\\n    CHAPTER XII\\n\\n    CHAPTER XIII\\n\\n    CHAPTER XIV\\n\\n    CHAPTER XV\\n\\n    CHAPTER XVI\\n\\n    CHAPTER XVII\\n\\n    CHAPTER XVIII\\n\\n    CHAPTER XIX\\n\\n\\n    BOOK FIFTEEN: 1812 - 13\\n\\n    CHAPTER I\\n\\n    CHAPTER II\\n\\n    CHAPTER III\\n\\n    CHAPTER IV\\n\\n    CHAPTER V\\n\\n    CHAPTER VI\\n\\n    CHAPTER VII\\n\\n    CHAPTER VIII\\n\\n    CHAPTER IX\\n\\n    CHAPTER X\\n\\n    CHAPTER XI\\n\\n    CHAPTER XII\\n\\n    CHAPTER XIII\\n\\n    CHAPTER XIV\\n\\n    CHAPTER XV\\n\\n    CHAPTER XVI\\n\\n    CHAPTER XVII\\n\\n    CHAPTER XVIII\\n\\n    CHAPTER XIX\\n\\n    CHAPTER XX\\n\\n\\n    FIRST EPILOGUE: 1813 - 20\\n\\n    CHAPTER I\\n\\n    CHAPTER II\\n\\n    CHAPTER III\\n\\n    CHAPTER IV\\n\\n    CHAPTER V\\n\\n    CHAPTER VI\\n\\n    CHAPTER VII\\n\\n    CHAPTER VIII\\n\\n    CHAPTER IX\\n\\n    CHAPTER X\\n\\n    CHAPTER XI\\n\\n    CHAPTER XII\\n\\n    CHAPTER XIII\\n\\n    CHAPTER XIV\\n\\n    CHAPTER XV\\n\\n    CHAPTER XVI\\n\\n\\n    SECOND EPILOGUE\\n\\n    CHAPTER I\\n\\n    CHAPTER II\\n\\n    CHAPTER III\\n\\n    CHAPTER IV\\n\\n    CHAPTER V\\n\\n    CHAPTER VI\\n\\n    CHAPTER VII\\n\\n    CHAPTER VIII\\n\\n    CHAPTER IX\\n\\n    CHAPTER X\\n\\n    CHAPTER XI\\n\\n    CHAPTER XII\\n\\n\\n\\n\\n\\n\\n\\n\\n\\n\\nBOOK ONE: 1805\\n\\n\\n\\n\\n\\nCHAPTER I\\n\\n“Well, Prince, so Genoa and Lucca are now just family estates of the\\nBuonapartes. But I warn you, if you don’t tell me that this means war,\\nif you still try to defend the infamies and horrors perpetrated by that\\nAntichrist—I really believe he is Antichrist—I will have nothing\\nmore to do with you and you are no longer my friend, no longer my\\n‘faithful slave,’ as you call yourself! But how do you do? I see I\\nhave frightened you—sit down and tell me all the news.”\\n\\nIt was in July, 1805, and the speaker was the well-known Anna Pávlovna\\nSchérer, maid of honor and favorite of the Empress Márya Fëdorovna.\\nWith these words she greeted Prince Vasíli Kurágin, a man of high\\nrank and importance, who was the first to arrive at her reception. Anna\\nPávlovna had had a cough for some days. She was, as she said, suffering\\nfrom la grippe; grippe being then a new word in St. Petersburg, used\\nonly by the elite.\\n\\nAll her invitations without exception, written in French, and delivered\\nby a scarlet-liveried footman that morning, ran as follows:\\n\\n“If you have nothing better to do, Count (or Prince), and if the\\nprospect of spending an evening with a poor invalid is not too terrible,\\nI shall be very charmed to see you tonight between 7 and 10—Annette\\nSchérer.”\\n\\n“Heavens! what a virulent attack!” replied the prince, not in the\\nleast disconcerted by this reception. He had just entered, wearing an\\nembroidered court uniform, knee breeches, and shoes, and had stars on\\nhis breast and a serene expression on his flat face. He spoke in that\\nrefined French in which our grandfathers not only spoke but thought, and\\nwith the gentle, patronizing intonation natural to a man of importance\\nwho had grown old in society and at court. He went up to Anna Pávlovna,\\nkissed her hand, presenting to her his bald, scented, and shining head,\\nand complacently seated himself on the sofa.\\n\\n“First of all, dear friend, tell me how you are. Set your friend’s\\nmind at rest,” said he without altering his tone, beneath the\\npoliteness and affected sympathy of which indifference and even irony\\ncould be discerned.\\n\\n“Can one be well while suffering morally? Can one be calm in times\\nlike these if one has any feeling?” said Anna Pávlovna. “You are\\nstaying the whole evening, I hope?”\\n\\n“And the fete at the English ambassador’s? Today is Wednesday. I\\nmust put in an appearance there,” said the prince. “My daughter is\\ncoming for me to take me there.”\\n\\n“I thought today’s fete had been canceled. I confess all these\\nfestivities and fireworks are'"
      ]
     },
     "execution_count": 3,
     "metadata": {},
     "output_type": "execute_result"
    }
   ],
   "source": [
    "book[:10000]"
   ]
  },
  {
   "cell_type": "code",
   "execution_count": 4,
   "id": "5f21757c",
   "metadata": {},
   "outputs": [
    {
     "data": {
      "text/plain": [
       "'scious.\\n\\n\\n\\n\\n*** END OF THE PROJECT GUTENBERG EBOOK WAR AND PEACE ***\\n\\nUpdated editions will replace the previous one--the old editions will\\nbe renamed.\\n\\nCreating the works from print editions not protected by U.S. copyright\\nlaw means that no one owns a United States copyright in these works,\\nso the Foundation (and you!) can copy and distribute it in the\\nUnited States without permission and without paying copyright\\nro'"
      ]
     },
     "execution_count": 4,
     "metadata": {},
     "output_type": "execute_result"
    }
   ],
   "source": [
    "book[-18420:-18000]"
   ]
  },
  {
   "cell_type": "markdown",
   "id": "699b5b54",
   "metadata": {},
   "source": [
    "Write some code that will remove this text at the bottom and top of the string.\n",
    "\n",
    "**Hint:** You might want to make use of the [`re.search`](https://docs.python.org/3/library/re.html#re.search) function from the `re` library."
   ]
  },
  {
   "cell_type": "code",
   "execution_count": 5,
   "id": "44329b88",
   "metadata": {},
   "outputs": [],
   "source": [
    "book_stripped_top_text = re.split(r'\\*\\*\\* START OF THE PROJECT GUTENBERG EBOOK ([A-Z ]+?) \\*\\*\\*', book)[2]\n",
    "book_stripped = re.split(r'\\*\\*\\* END OF THE PROJECT GUTENBERG EBOOK ([A-Z ]+?) \\*\\*\\*', book_stripped_top_text)[0]"
   ]
  },
  {
   "cell_type": "markdown",
   "id": "815edb06",
   "metadata": {},
   "source": [
    "If we want to be able to scale up our analysis to multiple books, it would be nice to have a function to use repeatedly. Write a function called `import_book` which takes as an argument a filepath and returns the contents of that file as a string with the metadata at the top and bottom removed."
   ]
  },
  {
   "cell_type": "code",
   "execution_count": 44,
   "id": "597bdfb9",
   "metadata": {},
   "outputs": [],
   "source": [
    "def import_book(filepath):\n",
    "    with open(filepath, encoding = 'utf-8') as fi:\n",
    "        book = fi.read()\n",
    "        match = re.search(r'\\*\\*\\* START OF (?:THE|THIS) PROJECT GUTENBERG EBOOK (.+?) \\*\\*\\*\\s*(.*?)\\s*\\*\\*\\* END OF (?:THE|THIS) PROJECT GUTENBERG EBOOK (.+?) \\*\\*\\*', book, re.DOTALL)\n",
    "        if match:\n",
    "            return match.group(2)\n",
    "        else:\n",
    "            raise ValueError('Content not found.')"
   ]
  },
  {
   "cell_type": "markdown",
   "id": "2a47559e",
   "metadata": {},
   "source": [
    "Now, let's utilize our function to import all of the books into a data structure of some kind.\n",
    "\n",
    "First, we need to be able to iterate through the list of filepaths. For this, we can use the `glob` function. This function takes as agument a pattern to match. Try it out."
   ]
  },
  {
   "cell_type": "code",
   "execution_count": 8,
   "id": "e4648a29",
   "metadata": {},
   "outputs": [
    {
     "data": {
      "text/plain": [
       "['../data/books\\\\A Christmas Carol in Prose; Being a Ghost Story of Christmas by Charles Dickens.txt',\n",
       " '../data/books\\\\A Modest Proposal by Jonathan Swift.txt',\n",
       " '../data/books\\\\A Tale of Two Cities by Charles Dickens.txt',\n",
       " '../data/books\\\\Adventures of Huckleberry Finn by Mark Twain.txt',\n",
       " '../data/books\\\\Ang _Filibusterismo_.txt',\n",
       " '../data/books\\\\Anna Karenina by graf Leo Tolstoy.txt',\n",
       " '../data/books\\\\Anne of Green Gables by L. M.  Montgomery.txt',\n",
       " '../data/books\\\\Anthem by Ayn Rand.txt',\n",
       " '../data/books\\\\Crime and Punishment by Fyodor Dostoyevsky.txt',\n",
       " '../data/books\\\\Don Quixote by Miguel de Cervantes Saavedra.txt',\n",
       " '../data/books\\\\Dracula by Bram Stoker.txt',\n",
       " '../data/books\\\\Dubliners by James Joyce.txt',\n",
       " '../data/books\\\\Emma by Jane Austen.txt',\n",
       " '../data/books\\\\Frankenstein; Or, The Modern Prometheus by Mary Wollstonecraft Shelley.txt',\n",
       " '../data/books\\\\Great Expectations by Charles Dickens.txt',\n",
       " '../data/books\\\\Heart of Darkness by Joseph Conrad.txt',\n",
       " '../data/books\\\\Jane Eyre_ An Autobiography by Charlotte Brontë.txt',\n",
       " '../data/books\\\\Japanese Girls and Women by Alice Mabel Bacon.txt',\n",
       " '../data/books\\\\Les Misérables by Victor Hugo.txt',\n",
       " '../data/books\\\\Leviathan by Thomas Hobbes.txt',\n",
       " '../data/books\\\\Little Women by Louisa May Alcott.txt',\n",
       " '../data/books\\\\Metamorphosis by Franz Kafka.txt',\n",
       " '../data/books\\\\Moby Dick; Or, The Whale by Herman Melville.txt',\n",
       " '../data/books\\\\Narrative of the Life of Frederick Douglass, an American Slave by Frederick Douglass.txt',\n",
       " '../data/books\\\\Oliver Twist by Charles Dickens.txt',\n",
       " '../data/books\\\\Peter Pan by J. M.  Barrie.txt',\n",
       " '../data/books\\\\Pride and Prejudice by Jane Austen.txt',\n",
       " '../data/books\\\\Pygmalion by Bernard Shaw.txt',\n",
       " '../data/books\\\\Second Treatise of Government by John Locke.txt',\n",
       " '../data/books\\\\The Adventures of Sherlock Holmes by Arthur Conan Doyle.txt',\n",
       " '../data/books\\\\The Adventures of Tom Sawyer, Complete by Mark Twain.txt',\n",
       " '../data/books\\\\The Awakening, and Selected Short Stories by Kate Chopin.txt',\n",
       " '../data/books\\\\The Brothers Karamazov by Fyodor Dostoyevsky.txt',\n",
       " '../data/books\\\\The Call of the Wild by Jack London.txt',\n",
       " '../data/books\\\\The Count of Monte Cristo, Illustrated by Alexandre Dumas.txt',\n",
       " '../data/books\\\\The Great Gatsby by F. Scott  Fitzgerald.txt',\n",
       " '../data/books\\\\The Hound of the Baskervilles by Arthur Conan Doyle.txt',\n",
       " '../data/books\\\\The Iliad by Homer.txt',\n",
       " '../data/books\\\\The Importance of Being Earnest_ A Trivial Comedy for Serious People by Oscar Wilde.txt',\n",
       " '../data/books\\\\The Odyssey by Homer.txt',\n",
       " '../data/books\\\\The Picture of Dorian Gray by Oscar Wilde.txt',\n",
       " '../data/books\\\\The Prince by Niccolò Machiavelli.txt',\n",
       " '../data/books\\\\The Prophet by Kahlil Gibran.txt',\n",
       " '../data/books\\\\The Republic by Plato.txt',\n",
       " '../data/books\\\\The Scarlet Letter by Nathaniel Hawthorne.txt',\n",
       " '../data/books\\\\The Souls of Black Folk by W. E. B.  Du Bois.txt',\n",
       " '../data/books\\\\The Strange Case of Dr. Jekyll and Mr. Hyde by Robert Louis Stevenson.txt',\n",
       " '../data/books\\\\The Time Machine by H. G.  Wells.txt',\n",
       " '../data/books\\\\The War of the Worlds by H. G.  Wells.txt',\n",
       " '../data/books\\\\The Wonderful Wizard of Oz by L. Frank  Baum.txt',\n",
       " '../data/books\\\\The Yellow Wallpaper by Charlotte Perkins Gilman.txt',\n",
       " '../data/books\\\\Treasure Island by Robert Louis Stevenson.txt',\n",
       " '../data/books\\\\Ulysses by James Joyce.txt',\n",
       " '../data/books\\\\Walden, and On The Duty Of Civil Disobedience by Henry David Thoreau.txt',\n",
       " '../data/books\\\\War and Peace by graf Leo Tolstoy.txt',\n",
       " '../data/books\\\\Wuthering Heights by Emily Brontë.txt']"
      ]
     },
     "execution_count": 8,
     "metadata": {},
     "output_type": "execute_result"
    }
   ],
   "source": [
    "glob.glob('../data/books/*.txt')"
   ]
  },
  {
   "cell_type": "code",
   "execution_count": 42,
   "id": "a48ae912",
   "metadata": {},
   "outputs": [
    {
     "data": {
      "text/plain": [
       "'../data/books\\\\Les Misérables by Victor Hugo.txt'"
      ]
     },
     "execution_count": 42,
     "metadata": {},
     "output_type": "execute_result"
    }
   ],
   "source": [
    "filepath = glob.glob('../data/books/*.txt')[18]\n",
    "filepath"
   ]
  },
  {
   "cell_type": "code",
   "execution_count": 45,
   "id": "07ac01bb",
   "metadata": {},
   "outputs": [],
   "source": [
    "struggle_book = import_book(filepath)"
   ]
  },
  {
   "cell_type": "markdown",
   "id": "5c7ad8b3",
   "metadata": {},
   "source": [
    "It would be nice to save the title of each book without the extra pieces around it. Write code that will remove the \"books/\" from the front of the filepath and the \".txt\" from the end. That is, we want to extract just the \"Little Women by Louisa May Alcott\" from the current filepath."
   ]
  },
  {
   "cell_type": "code",
   "execution_count": 30,
   "id": "bad5f04a",
   "metadata": {},
   "outputs": [
    {
     "name": "stdout",
     "output_type": "stream",
     "text": [
      "A Christmas Carol in Prose; Being a Ghost Story of Christmas by Charles Dickens\n"
     ]
    }
   ],
   "source": [
    "match = re.search(r\"books[/\\\\](.+?)\\.txt$\", filepath)\n",
    "print(match.group(1))"
   ]
  },
  {
   "cell_type": "markdown",
   "id": "f66c1bc8",
   "metadata": {},
   "source": [
    "Now, combine together the function you created and the code that you just wrote to iterate through the filepaths for the books and save the contents of each book into a dictionary whose keys are equal to the cleaned up titles."
   ]
  },
  {
   "cell_type": "code",
   "execution_count": 46,
   "id": "285ac780",
   "metadata": {},
   "outputs": [],
   "source": [
    "def get_title(filepath):\n",
    "    match = re.search(r\"books[/\\\\](.+?)\\.txt$\", filepath)\n",
    "    return match.group(1)\n",
    "\n",
    "def create_dictionary_of_books(filepaths):\n",
    "    book_dict = {}\n",
    "    num_books = len(filepaths)\n",
    "    for filepath in filepaths:\n",
    "        title = get_title(filepath)\n",
    "        print(f'Now getting book {title}')\n",
    "        book = import_book(filepath)\n",
    "        book_dict[title] = book\n",
    "    print(f'Completed compiling all {num_books} books into one dictionary')\n",
    "    return book_dict"
   ]
  },
  {
   "cell_type": "code",
   "execution_count": 49,
   "id": "2366d865",
   "metadata": {},
   "outputs": [
    {
     "name": "stdout",
     "output_type": "stream",
     "text": [
      "Now getting book A Christmas Carol in Prose; Being a Ghost Story of Christmas by Charles Dickens\n",
      "Now getting book A Modest Proposal by Jonathan Swift\n",
      "Now getting book A Tale of Two Cities by Charles Dickens\n",
      "Now getting book Adventures of Huckleberry Finn by Mark Twain\n",
      "Now getting book Ang _Filibusterismo_\n",
      "Now getting book Anna Karenina by graf Leo Tolstoy\n",
      "Now getting book Anne of Green Gables by L. M.  Montgomery\n",
      "Now getting book Anthem by Ayn Rand\n",
      "Now getting book Crime and Punishment by Fyodor Dostoyevsky\n",
      "Now getting book Don Quixote by Miguel de Cervantes Saavedra\n",
      "Now getting book Dracula by Bram Stoker\n",
      "Now getting book Dubliners by James Joyce\n",
      "Now getting book Emma by Jane Austen\n",
      "Now getting book Frankenstein; Or, The Modern Prometheus by Mary Wollstonecraft Shelley\n",
      "Now getting book Great Expectations by Charles Dickens\n",
      "Now getting book Heart of Darkness by Joseph Conrad\n",
      "Now getting book Jane Eyre_ An Autobiography by Charlotte Brontë\n",
      "Now getting book Japanese Girls and Women by Alice Mabel Bacon\n",
      "Now getting book Les Misérables by Victor Hugo\n",
      "Now getting book Leviathan by Thomas Hobbes\n",
      "Now getting book Little Women by Louisa May Alcott\n",
      "Now getting book Metamorphosis by Franz Kafka\n",
      "Now getting book Moby Dick; Or, The Whale by Herman Melville\n",
      "Now getting book Narrative of the Life of Frederick Douglass, an American Slave by Frederick Douglass\n",
      "Now getting book Oliver Twist by Charles Dickens\n",
      "Now getting book Peter Pan by J. M.  Barrie\n",
      "Now getting book Pride and Prejudice by Jane Austen\n",
      "Now getting book Pygmalion by Bernard Shaw\n",
      "Now getting book Second Treatise of Government by John Locke\n",
      "Now getting book The Adventures of Sherlock Holmes by Arthur Conan Doyle\n",
      "Now getting book The Adventures of Tom Sawyer, Complete by Mark Twain\n",
      "Now getting book The Awakening, and Selected Short Stories by Kate Chopin\n",
      "Now getting book The Brothers Karamazov by Fyodor Dostoyevsky\n",
      "Now getting book The Call of the Wild by Jack London\n",
      "Now getting book The Count of Monte Cristo, Illustrated by Alexandre Dumas\n",
      "Now getting book The Great Gatsby by F. Scott  Fitzgerald\n",
      "Now getting book The Hound of the Baskervilles by Arthur Conan Doyle\n",
      "Now getting book The Iliad by Homer\n",
      "Now getting book The Importance of Being Earnest_ A Trivial Comedy for Serious People by Oscar Wilde\n",
      "Now getting book The Odyssey by Homer\n",
      "Now getting book The Picture of Dorian Gray by Oscar Wilde\n",
      "Now getting book The Prince by Niccolò Machiavelli\n",
      "Now getting book The Prophet by Kahlil Gibran\n",
      "Now getting book The Republic by Plato\n",
      "Now getting book The Scarlet Letter by Nathaniel Hawthorne\n",
      "Now getting book The Souls of Black Folk by W. E. B.  Du Bois\n",
      "Now getting book The Strange Case of Dr. Jekyll and Mr. Hyde by Robert Louis Stevenson\n",
      "Now getting book The Time Machine by H. G.  Wells\n",
      "Now getting book The War of the Worlds by H. G.  Wells\n",
      "Now getting book The Wonderful Wizard of Oz by L. Frank  Baum\n",
      "Now getting book The Yellow Wallpaper by Charlotte Perkins Gilman\n",
      "Now getting book Treasure Island by Robert Louis Stevenson\n",
      "Now getting book Ulysses by James Joyce\n",
      "Now getting book Walden, and On The Duty Of Civil Disobedience by Henry David Thoreau\n",
      "Now getting book War and Peace by graf Leo Tolstoy\n",
      "Now getting book Wuthering Heights by Emily Brontë\n",
      "Completed compiling all 56 books into one dictionary\n"
     ]
    }
   ],
   "source": [
    "filepaths = glob.glob('../data/books/*.txt')\n",
    "books = create_dictionary_of_books(filepaths)"
   ]
  },
  {
   "cell_type": "markdown",
   "id": "6886f8d8",
   "metadata": {},
   "source": [
    "Now let's write some code so that we can cluster our books. In order to cluster, we'll need to be able to compute a similarity or distance between books.\n",
    "\n",
    "A simple way to compute similarity of documents is the [Jaccard similarity](https://en.wikipedia.org/wiki/Jaccard_index) of the set of words that they conain. This metric computes the amount of overlap between two sets compared to their union. Two books which contain exactly the same words (but not necessarily in the same order or with the same frequency) will have a Jaccard similarity of 1 and two books which have no words in common will have a Jaccard similarity of 0.\n",
    "\n",
    "**Question:** What might be some of the downsides to using Jaccard similarity to compute the similarity of two books?\n",
    "\n",
    "In order to use this, we'll need to tokenize each book and store the results in a collection of some kind. Since we are interested in which words appear but not necessarily in what order or how frequently, we can make use of a [set](https://docs.python.org/3/library/stdtypes.html#set-types-set-frozenset). A set is similar to a list, but the order of the contents does not matter and a set cannot contain duplicates.\n",
    "\n",
    "For practice, let's grab one of our books."
   ]
  },
  {
   "cell_type": "markdown",
   "id": "00b2d2b7",
   "metadata": {},
   "source": [
    "A downside to this method is that two books may have most common words in common, but are about wildly different contexts because meaning comes from the order of words and the special words, not just everyday words"
   ]
  },
  {
   "cell_type": "code",
   "execution_count": 50,
   "id": "bca160e1",
   "metadata": {},
   "outputs": [],
   "source": [
    "book = books['Little Women by Louisa May Alcott']"
   ]
  },
  {
   "cell_type": "markdown",
   "id": "e46afe2b",
   "metadata": {},
   "source": [
    "Write some code which tokenizes Little Women and stores the tokens it contains in a set. It is up to you to decide exactly how you want to tokenize or what you want to count as a token.\n",
    "\n",
    "Once you are happy with your tokenization method, convert it into a function named `tokenize_book` which takes in a string and returns a set of tokens."
   ]
  },
  {
   "cell_type": "code",
   "execution_count": 53,
   "id": "32c5596a",
   "metadata": {},
   "outputs": [
    {
     "name": "stdout",
     "output_type": "stream",
     "text": [
      "['Little', 'Women', 'by', 'Louisa', 'May', 'Alcott', 'Contents', 'PART', '1', 'CHAPTER', 'ONE', 'PLAYING', 'PILGRIMS', 'CHAPTER', 'TWO', 'A', 'MERRY', 'CHRISTMAS', 'CHAPTER', 'THREE', 'THE', 'LAURENCE', 'BOY', 'CHAPTER', 'FOUR', 'BURDENS', 'CHAPTER', 'FIVE', 'BEING', 'NEIGHBORLY', 'CHAPTER', 'SIX', 'BETH', 'FINDS', 'THE', 'PALACE', 'BEAUTIFUL', 'CHAPTER', 'SEVEN', 'AMY', 'S', 'VALLEY', 'OF', 'HUMILIATION', 'CHAPTER', 'EIGHT', 'JO', 'MEETS', 'APOLLYON', 'CHAPTER', 'NINE', 'MEG', 'GOES', 'TO', 'VANITY', 'FAIR', 'CHAPTER', 'TEN', 'THE', 'P', 'C', 'AND', 'P', 'O', 'CHAPTER', 'ELEVEN', 'EXPERIMENTS', 'CHAPTER', 'TWELVE', 'CAMP', 'LAURENCE', 'CHAPTER', 'THIRTEEN', 'CASTLES', 'IN', 'THE', 'AIR', 'CHAPTER', 'FOURTEEN', 'SECRETS', 'CHAPTER', 'FIFTEEN', 'A', 'TELEGRAM', 'CHAPTER', 'SIXTEEN', 'LETTERS', 'CHAPTER', 'SEVENTEEN', 'LITTLE', 'FAITHFUL', 'CHAPTER', 'EIGHTEEN', 'DARK', 'DAYS', 'CHAPTER', 'NINETEEN', 'AMY', 'S', 'WILL']\n"
     ]
    }
   ],
   "source": [
    "book_tokenized = regexp_tokenize(book, r'\\w+')\n",
    "print(book_tokenized[:100])"
   ]
  },
  {
   "cell_type": "code",
   "execution_count": 56,
   "id": "44ec9f95",
   "metadata": {},
   "outputs": [],
   "source": [
    "def tokenize_book(str):\n",
    "    return set(regexp_tokenize(str, r'\\w+'))"
   ]
  },
  {
   "cell_type": "markdown",
   "id": "daa23531",
   "metadata": {},
   "source": [
    "Now, write a function `jaccard` which takes in two sets of tokens and returns the Jaccard similarities between them. **Hint:** Python sets have `intersection` and `union` methods."
   ]
  },
  {
   "cell_type": "code",
   "execution_count": 58,
   "id": "4a40760a",
   "metadata": {},
   "outputs": [
    {
     "name": "stdout",
     "output_type": "stream",
     "text": [
      "0.2835970024979184\n"
     ]
    }
   ],
   "source": [
    "token_set1 = tokenize_book(books['Little Women by Louisa May Alcott'])\n",
    "token_set2 = tokenize_book(books['Moby Dick; Or, The Whale by Herman Melville'])\n",
    "\n",
    "intersect_size = len(token_set1.intersection(token_set2))\n",
    "union_size = len(token_set1.union(token_set2))\n",
    "\n",
    "print(intersect_size/union_size)"
   ]
  },
  {
   "cell_type": "code",
   "execution_count": 59,
   "id": "83f40caf",
   "metadata": {},
   "outputs": [],
   "source": [
    "def jaccard(token_set1, token_set2):\n",
    "    intersect_size = len(token_set1.intersection(token_set2))\n",
    "    union_size = len(token_set1.union(token_set2))\n",
    "\n",
    "    return intersect_size/union_size"
   ]
  },
  {
   "cell_type": "markdown",
   "id": "1c5fb749",
   "metadata": {},
   "source": [
    "Is Little Women more similar (using Jaccard Similarity) to Heart of Darkness or Anthem?"
   ]
  },
  {
   "cell_type": "code",
   "execution_count": 61,
   "id": "fc70d8cf",
   "metadata": {},
   "outputs": [
    {
     "name": "stdout",
     "output_type": "stream",
     "text": [
      "Similarity between Little Women and Heart of Darkness: 0.25484148615693586\n"
     ]
    }
   ],
   "source": [
    "little_women_token_set = tokenize_book(books['Little Women by Louisa May Alcott'])\n",
    "heart_of_darkness_token_set = tokenize_book(books['Heart of Darkness by Joseph Conrad'])\n",
    "anthem_token_set = tokenize_book(books['Anthem by Ayn Rand'])\n",
    "\n",
    "print(f'Similarity between Little Women and Heart of Darkness: {jaccard(little_women_token_set, heart_of_darkness_token_set)}')"
   ]
  },
  {
   "cell_type": "code",
   "execution_count": 62,
   "id": "1c739125",
   "metadata": {},
   "outputs": [
    {
     "name": "stdout",
     "output_type": "stream",
     "text": [
      "Similarity between Little Women and Anthem: 0.13454634464751958\n"
     ]
    }
   ],
   "source": [
    "print(f'Similarity between Little Women and Anthem: {jaccard(little_women_token_set, anthem_token_set)}')"
   ]
  },
  {
   "cell_type": "markdown",
   "id": "ad86b209",
   "metadata": {},
   "source": [
    "Let's create another dictionary called `book_tokens` that contains the title of each book as a key and the tokenized version of the book as values."
   ]
  },
  {
   "cell_type": "code",
   "execution_count": 70,
   "id": "44d5fade",
   "metadata": {},
   "outputs": [],
   "source": [
    "def create_book_tokens(books:dict):\n",
    "    book_tokens = {}\n",
    "    for title, book in books.items():\n",
    "        print(f'Tokenizing {title}...')\n",
    "        token_set = tokenize_book(book)\n",
    "        book_tokens[title] = token_set\n",
    "    print('Completed tokenizing all books.')\n",
    "    return book_tokens"
   ]
  },
  {
   "cell_type": "code",
   "execution_count": 71,
   "id": "b9851bf3",
   "metadata": {},
   "outputs": [
    {
     "name": "stdout",
     "output_type": "stream",
     "text": [
      "Tokenizing A Christmas Carol in Prose; Being a Ghost Story of Christmas by Charles Dickens...\n",
      "Tokenizing A Modest Proposal by Jonathan Swift...\n",
      "Tokenizing A Tale of Two Cities by Charles Dickens...\n",
      "Tokenizing Adventures of Huckleberry Finn by Mark Twain...\n",
      "Tokenizing Ang _Filibusterismo_...\n",
      "Tokenizing Anna Karenina by graf Leo Tolstoy...\n",
      "Tokenizing Anne of Green Gables by L. M.  Montgomery...\n",
      "Tokenizing Anthem by Ayn Rand...\n",
      "Tokenizing Crime and Punishment by Fyodor Dostoyevsky...\n",
      "Tokenizing Don Quixote by Miguel de Cervantes Saavedra...\n",
      "Tokenizing Dracula by Bram Stoker...\n",
      "Tokenizing Dubliners by James Joyce...\n",
      "Tokenizing Emma by Jane Austen...\n",
      "Tokenizing Frankenstein; Or, The Modern Prometheus by Mary Wollstonecraft Shelley...\n",
      "Tokenizing Great Expectations by Charles Dickens...\n",
      "Tokenizing Heart of Darkness by Joseph Conrad...\n",
      "Tokenizing Jane Eyre_ An Autobiography by Charlotte Brontë...\n",
      "Tokenizing Japanese Girls and Women by Alice Mabel Bacon...\n",
      "Tokenizing Les Misérables by Victor Hugo...\n",
      "Tokenizing Leviathan by Thomas Hobbes...\n",
      "Tokenizing Little Women by Louisa May Alcott...\n",
      "Tokenizing Metamorphosis by Franz Kafka...\n",
      "Tokenizing Moby Dick; Or, The Whale by Herman Melville...\n",
      "Tokenizing Narrative of the Life of Frederick Douglass, an American Slave by Frederick Douglass...\n",
      "Tokenizing Oliver Twist by Charles Dickens...\n",
      "Tokenizing Peter Pan by J. M.  Barrie...\n",
      "Tokenizing Pride and Prejudice by Jane Austen...\n",
      "Tokenizing Pygmalion by Bernard Shaw...\n",
      "Tokenizing Second Treatise of Government by John Locke...\n",
      "Tokenizing The Adventures of Sherlock Holmes by Arthur Conan Doyle...\n",
      "Tokenizing The Adventures of Tom Sawyer, Complete by Mark Twain...\n",
      "Tokenizing The Awakening, and Selected Short Stories by Kate Chopin...\n",
      "Tokenizing The Brothers Karamazov by Fyodor Dostoyevsky...\n",
      "Tokenizing The Call of the Wild by Jack London...\n",
      "Tokenizing The Count of Monte Cristo, Illustrated by Alexandre Dumas...\n",
      "Tokenizing The Great Gatsby by F. Scott  Fitzgerald...\n",
      "Tokenizing The Hound of the Baskervilles by Arthur Conan Doyle...\n",
      "Tokenizing The Iliad by Homer...\n",
      "Tokenizing The Importance of Being Earnest_ A Trivial Comedy for Serious People by Oscar Wilde...\n",
      "Tokenizing The Odyssey by Homer...\n",
      "Tokenizing The Picture of Dorian Gray by Oscar Wilde...\n",
      "Tokenizing The Prince by Niccolò Machiavelli...\n",
      "Tokenizing The Prophet by Kahlil Gibran...\n",
      "Tokenizing The Republic by Plato...\n",
      "Tokenizing The Scarlet Letter by Nathaniel Hawthorne...\n",
      "Tokenizing The Souls of Black Folk by W. E. B.  Du Bois...\n",
      "Tokenizing The Strange Case of Dr. Jekyll and Mr. Hyde by Robert Louis Stevenson...\n",
      "Tokenizing The Time Machine by H. G.  Wells...\n",
      "Tokenizing The War of the Worlds by H. G.  Wells...\n",
      "Tokenizing The Wonderful Wizard of Oz by L. Frank  Baum...\n",
      "Tokenizing The Yellow Wallpaper by Charlotte Perkins Gilman...\n",
      "Tokenizing Treasure Island by Robert Louis Stevenson...\n",
      "Tokenizing Ulysses by James Joyce...\n",
      "Tokenizing Walden, and On The Duty Of Civil Disobedience by Henry David Thoreau...\n",
      "Tokenizing War and Peace by graf Leo Tolstoy...\n",
      "Tokenizing Wuthering Heights by Emily Brontë...\n",
      "Completed tokenizing all books.\n"
     ]
    }
   ],
   "source": [
    "book_tokens = create_book_tokens(books)"
   ]
  },
  {
   "cell_type": "markdown",
   "id": "301afd4c",
   "metadata": {},
   "source": [
    "Using this, let's create a distance matrix for our books using the jaccard function above. **Note:** You created a function for jaccard _similarity_. This can be converted to a **distance** by subtracting the similarity score from 1."
   ]
  },
  {
   "cell_type": "code",
   "execution_count": 92,
   "id": "b383e9e3",
   "metadata": {},
   "outputs": [],
   "source": [
    "dists = np.zeros(shape = (len(book_tokens), len(book_tokens)))"
   ]
  },
  {
   "cell_type": "markdown",
   "id": "28caa134",
   "metadata": {},
   "source": [
    "Now, fill in the distance matrix so that in the i,j spot you have one minus the jaccard similarity of the ith and jth books."
   ]
  },
  {
   "cell_type": "code",
   "execution_count": 109,
   "id": "f8eb34f8",
   "metadata": {},
   "outputs": [],
   "source": [
    "def create_dist_matrix(book_tokens):\n",
    "    dists = np.zeros(shape = (len(book_tokens), len(book_tokens)))\n",
    "    for i, token_set_i in enumerate(book_tokens.values()):\n",
    "        for j, token_set_j in enumerate(book_tokens.values()):\n",
    "            dists[i][j] = 1 - jaccard(set(token_set_i), set(token_set_j))\n",
    "    return dists"
   ]
  },
  {
   "cell_type": "code",
   "execution_count": 110,
   "id": "a31ff97d",
   "metadata": {},
   "outputs": [
    {
     "name": "stdout",
     "output_type": "stream",
     "text": [
      "[[0.         0.88184664 0.73031463 ... 0.77767903 0.82135758 0.73269417]\n",
      " [0.88184664 0.         0.92385044 ... 0.92911767 0.95210232 0.91971525]\n",
      " [0.73031463 0.92385044 0.         ... 0.6845665  0.67046216 0.62805042]\n",
      " ...\n",
      " [0.77767903 0.92911767 0.6845665  ... 0.         0.69759046 0.68918266]\n",
      " [0.82135758 0.95210232 0.67046216 ... 0.69759046 0.         0.68653802]\n",
      " [0.73269417 0.91971525 0.62805042 ... 0.68918266 0.68653802 0.        ]]\n"
     ]
    }
   ],
   "source": [
    "dists = create_dist_matrix(book_tokens)\n",
    "print(dists)"
   ]
  },
  {
   "cell_type": "markdown",
   "id": "75384655",
   "metadata": {},
   "source": [
    "Once we have our distance matrix, we can compute a **dendogram**. \n",
    "\n",
    "A dendogram is a way to visualize a hierarchical clustering of a dataset. You can read more about it [here](https://www.statisticshowto.com/hierarchical-clustering/)."
   ]
  },
  {
   "cell_type": "code",
   "execution_count": 112,
   "id": "59f722f8",
   "metadata": {},
   "outputs": [],
   "source": [
    "from scipy.cluster.hierarchy import linkage, dendrogram\n",
    "from scipy.spatial.distance import pdist, squareform\n",
    "import matplotlib.pyplot as plt"
   ]
  },
  {
   "cell_type": "code",
   "execution_count": 114,
   "id": "4e74e6ec",
   "metadata": {},
   "outputs": [
    {
     "data": {
      "image/png": "[encoded data removed]",
      "text/plain": [
       "<Figure size 1200x800 with 1 Axes>"
      ]
     },
     "metadata": {},
     "output_type": "display_data"
    }
   ],
   "source": [
    "mergings = linkage(squareform(dists), method='complete')\n",
    "\n",
    "plt.figure(figsize = (12,8))\n",
    "dendrogram(mergings,\n",
    "           labels = list(book_tokens.keys()),\n",
    "           leaf_rotation = 90,\n",
    "           leaf_font_size = 6);\n",
    "\n",
    "plt.tight_layout()\n",
    "plt.savefig('images/dendogram_complete_jaccard.png', transparent=False, facecolor='white', dpi = 150);"
   ]
  },
  {
   "cell_type": "markdown",
   "id": "17cbd4fc",
   "metadata": {},
   "source": [
    "**Bonus Material** Jaccard Similarity does not account for the frequency that each word is used, only whether or not it is used.\n",
    "\n",
    "We might be better off using the **cosine similarity** as a way to measure the similarity of two books.\n",
    "\n",
    "Create a dataframe named `books_df` where each row corresponds to a book and each column corresponds to a word. It should count the number of times the word appears in that book (including zero). Use the book title as the index of this dataframe."
   ]
  },
  {
   "cell_type": "code",
   "execution_count": 120,
   "id": "27ba41ff",
   "metadata": {},
   "outputs": [],
   "source": [
    "from sklearn.metrics.pairwise import cosine_similarity\n",
    "from collections import Counter\n",
    "from sklearn.feature_extraction.text import TfidfVectorizer"
   ]
  },
  {
   "cell_type": "code",
   "execution_count": null,
   "id": "f2cd1cee",
   "metadata": {},
   "outputs": [
    {
     "name": "stdout",
     "output_type": "stream",
     "text": [
      "[[1.         0.05723113 0.12282558 ... 0.13518556 0.10820042 0.08507574]\n",
      " [0.05723113 1.         0.11356189 ... 0.20178469 0.0940685  0.07794019]\n",
      " [0.12282558 0.11356189 1.         ... 0.29095377 0.22473443 0.18526095]\n",
      " ...\n",
      " [0.13518556 0.20178469 0.29095377 ... 1.         0.27090912 0.19938222]\n",
      " [0.10820042 0.0940685  0.22473443 ... 0.27090912 1.         0.15994887]\n",
      " [0.08507574 0.07794019 0.18526095 ... 0.19938222 0.15994887 1.        ]]\n",
      "(56, 95362)\n",
      "['00' '000' '0009' ... 'ὦς' 'ῥα' 'ῥῶγες']\n"
     ]
    }
   ],
   "source": [
    "vectorizer = TfidfVectorizer(stop_words='english')\n",
    "tfidf_matrix = vectorizer.fit_transform(books.values())\n",
    "\n",
    "cosine_sim = cosine_similarity(tfidf_matrix, tfidf_matrix)\n",
    "print(cosine_sim)\n",
    "print(tfidf_matrix.shape)\n",
    "\n",
    "feature_names = vectorizer.get_feature_names_out()\n",
    "print(feature_names)\n"
   ]
  },
  {
   "cell_type": "code",
   "execution_count": null,
   "id": "0d5e8604",
   "metadata": {},
   "outputs": [
    {
     "data": {
      "text/plain": [
       "9684"
      ]
     },
     "execution_count": 140,
     "metadata": {},
     "output_type": "execute_result"
    }
   ],
   "source": [
    "from nltk.stem import WordNetLemmatizer\n",
    "stop_words = set(stopwords.words('english'))\n",
    "wnl = WordNetLemmatizer()\n",
    "little_women_counter = Counter([wnl.lemmatize(x.lower()) for x in regexp_tokenize(books['Little Women by Louisa May Alcott'], r'[-\\'\\w]+') if x.lower() not in stop_words])\n",
    "len(little_women_counter)"
   ]
  },
  {
   "cell_type": "code",
   "execution_count": 149,
   "id": "6021f280",
   "metadata": {},
   "outputs": [],
   "source": [
    "from nltk.stem import WordNetLemmatizer\n",
    "stop_words = set(stopwords.words('english'))\n",
    "wnl = WordNetLemmatizer()\n",
    "def create_book_counter(book):\n",
    "    return Counter([wnl.lemmatize(x.lower()) for x in regexp_tokenize(book, r'[-\\'\\w]+') if x.lower() not in stop_words])"
   ]
  },
  {
   "cell_type": "code",
   "execution_count": 152,
   "id": "e22f8745",
   "metadata": {},
   "outputs": [],
   "source": [
    "little_women_book = books['Little Women by Louisa May Alcott']\n",
    "anthem_book = books['Anthem by Ayn Rand']\n",
    "\n",
    "little_women_counter = create_book_counter(little_women_book)\n",
    "anthem_counter = create_book_counter(anthem_book)"
   ]
  },
  {
   "cell_type": "code",
   "execution_count": 155,
   "id": "0b483039",
   "metadata": {},
   "outputs": [],
   "source": [
    "def create_dict_from_counter(counter):\n",
    "    dict = {}\n",
    "    for word, frequency in counter.items():\n",
    "        dict[word] = frequency\n",
    "    return dict"
   ]
  },
  {
   "cell_type": "code",
   "execution_count": 157,
   "id": "5956528a",
   "metadata": {},
   "outputs": [],
   "source": [
    "lw_dict = create_dict_from_counter(little_women_counter)\n",
    "anthem_dict = create_dict_from_counter(anthem_counter)"
   ]
  },
  {
   "cell_type": "code",
   "execution_count": 160,
   "id": "f9a56e44",
   "metadata": {},
   "outputs": [
    {
     "data": {
      "application/vnd.microsoft.datawrangler.viewer.v0+json": {
       "columns": [
        {
         "name": "index",
         "rawType": "object",
         "type": "string"
        },
        {
         "name": "anthem",
         "rawType": "int64",
         "type": "integer"
        },
        {
         "name": "ayn",
         "rawType": "int64",
         "type": "integer"
        },
        {
         "name": "rand",
         "rawType": "int64",
         "type": "integer"
        },
        {
         "name": "content",
         "rawType": "int64",
         "type": "integer"
        },
        {
         "name": "part",
         "rawType": "int64",
         "type": "integer"
        },
        {
         "name": "one",
         "rawType": "int64",
         "type": "integer"
        },
        {
         "name": "two",
         "rawType": "int64",
         "type": "integer"
        },
        {
         "name": "three",
         "rawType": "int64",
         "type": "integer"
        },
        {
         "name": "four",
         "rawType": "int64",
         "type": "integer"
        },
        {
         "name": "five",
         "rawType": "int64",
         "type": "integer"
        },
        {
         "name": "six",
         "rawType": "int64",
         "type": "integer"
        },
        {
         "name": "seven",
         "rawType": "int64",
         "type": "integer"
        },
        {
         "name": "eight",
         "rawType": "int64",
         "type": "integer"
        },
        {
         "name": "nine",
         "rawType": "int64",
         "type": "integer"
        },
        {
         "name": "ten",
         "rawType": "int64",
         "type": "integer"
        },
        {
         "name": "eleven",
         "rawType": "int64",
         "type": "integer"
        },
        {
         "name": "twelve",
         "rawType": "int64",
         "type": "integer"
        },
        {
         "name": "sin",
         "rawType": "int64",
         "type": "integer"
        },
        {
         "name": "write",
         "rawType": "int64",
         "type": "integer"
        },
        {
         "name": "think",
         "rawType": "int64",
         "type": "integer"
        },
        {
         "name": "word",
         "rawType": "int64",
         "type": "integer"
        },
        {
         "name": "others",
         "rawType": "int64",
         "type": "integer"
        },
        {
         "name": "put",
         "rawType": "int64",
         "type": "integer"
        },
        {
         "name": "upon",
         "rawType": "int64",
         "type": "integer"
        },
        {
         "name": "paper",
         "rawType": "int64",
         "type": "integer"
        },
        {
         "name": "see",
         "rawType": "int64",
         "type": "integer"
        },
        {
         "name": "base",
         "rawType": "int64",
         "type": "integer"
        },
        {
         "name": "evil",
         "rawType": "int64",
         "type": "integer"
        },
        {
         "name": "speaking",
         "rawType": "int64",
         "type": "integer"
        },
        {
         "name": "alone",
         "rawType": "int64",
         "type": "integer"
        },
        {
         "name": "ear",
         "rawType": "int64",
         "type": "integer"
        },
        {
         "name": "know",
         "rawType": "int64",
         "type": "integer"
        },
        {
         "name": "well",
         "rawType": "int64",
         "type": "integer"
        },
        {
         "name": "transgression",
         "rawType": "int64",
         "type": "integer"
        },
        {
         "name": "blacker",
         "rawType": "int64",
         "type": "integer"
        },
        {
         "name": "broken",
         "rawType": "int64",
         "type": "integer"
        },
        {
         "name": "law",
         "rawType": "int64",
         "type": "integer"
        },
        {
         "name": "say",
         "rawType": "int64",
         "type": "integer"
        },
        {
         "name": "men",
         "rawType": "int64",
         "type": "integer"
        },
        {
         "name": "may",
         "rawType": "int64",
         "type": "integer"
        },
        {
         "name": "unless",
         "rawType": "int64",
         "type": "integer"
        },
        {
         "name": "council",
         "rawType": "int64",
         "type": "integer"
        },
        {
         "name": "vocation",
         "rawType": "int64",
         "type": "integer"
        },
        {
         "name": "bid",
         "rawType": "int64",
         "type": "integer"
        },
        {
         "name": "forgiven",
         "rawType": "int64",
         "type": "integer"
        },
        {
         "name": "u",
         "rawType": "int64",
         "type": "integer"
        },
        {
         "name": "committed",
         "rawType": "int64",
         "type": "integer"
        },
        {
         "name": "greater",
         "rawType": "int64",
         "type": "integer"
        },
        {
         "name": "crime",
         "rawType": "int64",
         "type": "integer"
        },
        {
         "name": "name",
         "rawType": "int64",
         "type": "integer"
        },
        {
         "name": "punishment",
         "rawType": "int64",
         "type": "integer"
        },
        {
         "name": "awaits",
         "rawType": "int64",
         "type": "integer"
        },
        {
         "name": "discovered",
         "rawType": "int64",
         "type": "integer"
        },
        {
         "name": "come",
         "rawType": "int64",
         "type": "integer"
        },
        {
         "name": "memory",
         "rawType": "int64",
         "type": "integer"
        },
        {
         "name": "provide",
         "rawType": "int64",
         "type": "integer"
        },
        {
         "name": "dark",
         "rawType": "int64",
         "type": "integer"
        },
        {
         "name": "flame",
         "rawType": "int64",
         "type": "integer"
        },
        {
         "name": "candle",
         "rawType": "int64",
         "type": "integer"
        },
        {
         "name": "stand",
         "rawType": "int64",
         "type": "integer"
        },
        {
         "name": "still",
         "rawType": "int64",
         "type": "integer"
        },
        {
         "name": "air",
         "rawType": "int64",
         "type": "integer"
        },
        {
         "name": "nothing",
         "rawType": "int64",
         "type": "integer"
        },
        {
         "name": "move",
         "rawType": "int64",
         "type": "integer"
        },
        {
         "name": "tunnel",
         "rawType": "int64",
         "type": "integer"
        },
        {
         "name": "save",
         "rawType": "int64",
         "type": "integer"
        },
        {
         "name": "hand",
         "rawType": "int64",
         "type": "integer"
        },
        {
         "name": "earth",
         "rawType": "int64",
         "type": "integer"
        },
        {
         "name": "fearful",
         "rawType": "int64",
         "type": "integer"
        },
        {
         "name": "none",
         "rawType": "int64",
         "type": "integer"
        },
        {
         "name": "among",
         "rawType": "int64",
         "type": "integer"
        },
        {
         "name": "ever",
         "rawType": "int64",
         "type": "integer"
        },
        {
         "name": "time",
         "rawType": "int64",
         "type": "integer"
        },
        {
         "name": "great",
         "rawType": "int64",
         "type": "integer"
        },
        {
         "name": "root",
         "rawType": "int64",
         "type": "integer"
        },
        {
         "name": "many",
         "rawType": "int64",
         "type": "integer"
        },
        {
         "name": "body",
         "rawType": "int64",
         "type": "integer"
        },
        {
         "name": "strange",
         "rawType": "int64",
         "type": "integer"
        },
        {
         "name": "leg",
         "rawType": "int64",
         "type": "integer"
        },
        {
         "name": "stretched",
         "rawType": "int64",
         "type": "integer"
        },
        {
         "name": "ground",
         "rawType": "int64",
         "type": "integer"
        },
        {
         "name": "wall",
         "rawType": "int64",
         "type": "integer"
        },
        {
         "name": "shadow",
         "rawType": "int64",
         "type": "integer"
        },
        {
         "name": "head",
         "rawType": "int64",
         "type": "integer"
        },
        {
         "name": "cracked",
         "rawType": "int64",
         "type": "integer"
        },
        {
         "name": "water",
         "rawType": "int64",
         "type": "integer"
        },
        {
         "name": "run",
         "rawType": "int64",
         "type": "integer"
        },
        {
         "name": "thin",
         "rawType": "int64",
         "type": "integer"
        },
        {
         "name": "thread",
         "rawType": "int64",
         "type": "integer"
        },
        {
         "name": "without",
         "rawType": "int64",
         "type": "integer"
        },
        {
         "name": "sound",
         "rawType": "int64",
         "type": "integer"
        },
        {
         "name": "black",
         "rawType": "int64",
         "type": "integer"
        },
        {
         "name": "glistening",
         "rawType": "int64",
         "type": "integer"
        },
        {
         "name": "blood",
         "rawType": "int64",
         "type": "integer"
        },
        {
         "name": "stole",
         "rawType": "int64",
         "type": "integer"
        },
        {
         "name": "larder",
         "rawType": "int64",
         "type": "integer"
        },
        {
         "name": "home",
         "rawType": "int64",
         "type": "integer"
        },
        {
         "name": "street",
         "rawType": "int64",
         "type": "integer"
        },
        {
         "name": "sweeper",
         "rawType": "int64",
         "type": "integer"
        },
        {
         "name": "shall",
         "rawType": "int64",
         "type": "integer"
        },
        {
         "name": "sentenced",
         "rawType": "int64",
         "type": "integer"
        },
        {
         "name": "year",
         "rawType": "int64",
         "type": "integer"
        },
        {
         "name": "palace",
         "rawType": "int64",
         "type": "integer"
        },
        {
         "name": "corrective",
         "rawType": "int64",
         "type": "integer"
        },
        {
         "name": "detention",
         "rawType": "int64",
         "type": "integer"
        },
        {
         "name": "matter",
         "rawType": "int64",
         "type": "integer"
        },
        {
         "name": "light",
         "rawType": "int64",
         "type": "integer"
        },
        {
         "name": "precious",
         "rawType": "int64",
         "type": "integer"
        },
        {
         "name": "waste",
         "rawType": "int64",
         "type": "integer"
        },
        {
         "name": "need",
         "rawType": "int64",
         "type": "integer"
        },
        {
         "name": "work",
         "rawType": "int64",
         "type": "integer"
        },
        {
         "name": "secret",
         "rawType": "int64",
         "type": "integer"
        },
        {
         "name": "must",
         "rawType": "int64",
         "type": "integer"
        },
        {
         "name": "also",
         "rawType": "int64",
         "type": "integer"
        },
        {
         "name": "mercy",
         "rawType": "int64",
         "type": "integer"
        },
        {
         "name": "wish",
         "rawType": "int64",
         "type": "integer"
        },
        {
         "name": "speak",
         "rawType": "int64",
         "type": "integer"
        },
        {
         "name": "equality",
         "rawType": "int64",
         "type": "integer"
        },
        {
         "name": "7-2521",
         "rawType": "int64",
         "type": "integer"
        },
        {
         "name": "written",
         "rawType": "int64",
         "type": "integer"
        },
        {
         "name": "iron",
         "rawType": "int64",
         "type": "integer"
        },
        {
         "name": "bracelet",
         "rawType": "int64",
         "type": "integer"
        },
        {
         "name": "wear",
         "rawType": "int64",
         "type": "integer"
        },
        {
         "name": "left",
         "rawType": "int64",
         "type": "integer"
        },
        {
         "name": "wrist",
         "rawType": "int64",
         "type": "integer"
        },
        {
         "name": "twenty-one",
         "rawType": "int64",
         "type": "integer"
        },
        {
         "name": "old",
         "rawType": "int64",
         "type": "integer"
        },
        {
         "name": "foot",
         "rawType": "int64",
         "type": "integer"
        },
        {
         "name": "tall",
         "rawType": "int64",
         "type": "integer"
        },
        {
         "name": "burden",
         "rawType": "int64",
         "type": "integer"
        },
        {
         "name": "teacher",
         "rawType": "int64",
         "type": "integer"
        },
        {
         "name": "leader",
         "rawType": "int64",
         "type": "integer"
        },
        {
         "name": "pointed",
         "rawType": "int64",
         "type": "integer"
        },
        {
         "name": "frowned",
         "rawType": "int64",
         "type": "integer"
        },
        {
         "name": "said",
         "rawType": "int64",
         "type": "integer"
        },
        {
         "name": "bone",
         "rawType": "int64",
         "type": "integer"
        },
        {
         "name": "grown",
         "rawType": "int64",
         "type": "integer"
        },
        {
         "name": "beyond",
         "rawType": "int64",
         "type": "integer"
        },
        {
         "name": "brother",
         "rawType": "int64",
         "type": "integer"
        },
        {
         "name": "cannot",
         "rawType": "int64",
         "type": "integer"
        },
        {
         "name": "change",
         "rawType": "int64",
         "type": "integer"
        },
        {
         "name": "born",
         "rawType": "int64",
         "type": "integer"
        },
        {
         "name": "curse",
         "rawType": "int64",
         "type": "integer"
        },
        {
         "name": "always",
         "rawType": "int64",
         "type": "integer"
        },
        {
         "name": "driven",
         "rawType": "int64",
         "type": "integer"
        },
        {
         "name": "thought",
         "rawType": "int64",
         "type": "integer"
        },
        {
         "name": "forbidden",
         "rawType": "int64",
         "type": "integer"
        },
        {
         "name": "given",
         "rawType": "int64",
         "type": "integer"
        },
        {
         "name": "power",
         "rawType": "int64",
         "type": "integer"
        },
        {
         "name": "resist",
         "rawType": "int64",
         "type": "integer"
        },
        {
         "name": "wonder",
         "rawType": "int64",
         "type": "integer"
        },
        {
         "name": "fear",
         "rawType": "int64",
         "type": "integer"
        },
        {
         "name": "strive",
         "rawType": "int64",
         "type": "integer"
        },
        {
         "name": "like",
         "rawType": "int64",
         "type": "integer"
        },
        {
         "name": "alike",
         "rawType": "int64",
         "type": "integer"
        },
        {
         "name": "portal",
         "rawType": "int64",
         "type": "integer"
        },
        {
         "name": "world",
         "rawType": "int64",
         "type": "integer"
        },
        {
         "name": "cut",
         "rawType": "int64",
         "type": "integer"
        },
        {
         "name": "marble",
         "rawType": "int64",
         "type": "integer"
        },
        {
         "name": "repeat",
         "rawType": "int64",
         "type": "integer"
        },
        {
         "name": "whenever",
         "rawType": "int64",
         "type": "integer"
        },
        {
         "name": "tempted",
         "rawType": "int64",
         "type": "integer"
        },
        {
         "name": "_we_",
         "rawType": "int64",
         "type": "integer"
        },
        {
         "name": "indivisible",
         "rawType": "int64",
         "type": "integer"
        },
        {
         "name": "forever",
         "rawType": "int64",
         "type": "integer"
        },
        {
         "name": "help",
         "rawType": "int64",
         "type": "integer"
        },
        {
         "name": "long",
         "rawType": "int64",
         "type": "integer"
        },
        {
         "name": "ago",
         "rawType": "int64",
         "type": "integer"
        },
        {
         "name": "green",
         "rawType": "int64",
         "type": "integer"
        },
        {
         "name": "mould",
         "rawType": "int64",
         "type": "integer"
        },
        {
         "name": "groove",
         "rawType": "int64",
         "type": "integer"
        },
        {
         "name": "letter",
         "rawType": "int64",
         "type": "integer"
        },
        {
         "name": "yellow",
         "rawType": "int64",
         "type": "integer"
        },
        {
         "name": "streak",
         "rawType": "int64",
         "type": "integer"
        },
        {
         "name": "could",
         "rawType": "int64",
         "type": "integer"
        },
        {
         "name": "count",
         "rawType": "int64",
         "type": "integer"
        },
        {
         "name": "truth",
         "rawType": "int64",
         "type": "integer"
        },
        {
         "name": "thus",
         "rawType": "int64",
         "type": "integer"
        },
        {
         "name": "since",
         "rawType": "int64",
         "type": "integer"
        },
        {
         "name": "rebirth",
         "rawType": "int64",
         "type": "integer"
        },
        {
         "name": "farther",
         "rawType": "int64",
         "type": "integer"
        },
        {
         "name": "back",
         "rawType": "int64",
         "type": "integer"
        },
        {
         "name": "reach",
         "rawType": "int64",
         "type": "integer"
        },
        {
         "name": "never",
         "rawType": "int64",
         "type": "integer"
        },
        {
         "name": "else",
         "rawType": "int64",
         "type": "integer"
        },
        {
         "name": "whisper",
         "rawType": "int64",
         "type": "integer"
        },
        {
         "name": "evening",
         "rawType": "int64",
         "type": "integer"
        },
        {
         "name": "useless",
         "rawType": "int64",
         "type": "integer"
        },
        {
         "name": "thing",
         "rawType": "int64",
         "type": "integer"
        },
        {
         "name": "tower",
         "rawType": "int64",
         "type": "integer"
        },
        {
         "name": "rose",
         "rawType": "int64",
         "type": "integer"
        },
        {
         "name": "sky",
         "rawType": "int64",
         "type": "integer"
        },
        {
         "name": "unmentionable",
         "rawType": "int64",
         "type": "integer"
        },
        {
         "name": "wagon",
         "rawType": "int64",
         "type": "integer"
        },
        {
         "name": "moved",
         "rawType": "int64",
         "type": "integer"
        },
        {
         "name": "horse",
         "rawType": "int64",
         "type": "integer"
        },
        {
         "name": "burned",
         "rawType": "int64",
         "type": "integer"
        },
        {
         "name": "passed",
         "rawType": "int64",
         "type": "integer"
        },
        {
         "name": "away",
         "rawType": "int64",
         "type": "integer"
        },
        {
         "name": "saw",
         "rawType": "int64",
         "type": "integer"
        },
        {
         "name": "together",
         "rawType": "int64",
         "type": "integer"
        },
        {
         "name": "good",
         "rawType": "int64",
         "type": "integer"
        },
        {
         "name": "wise",
         "rawType": "int64",
         "type": "integer"
        },
        {
         "name": "look",
         "rawType": "int64",
         "type": "integer"
        },
        {
         "name": "life",
         "rawType": "int64",
         "type": "integer"
        },
        {
         "name": "brought",
         "rawType": "int64",
         "type": "integer"
        },
        {
         "name": "step",
         "rawType": "int64",
         "type": "integer"
        },
        {
         "name": "last",
         "rawType": "int64",
         "type": "integer"
        },
        {
         "name": "supreme",
         "rawType": "int64",
         "type": "integer"
        },
        {
         "name": "hidden",
         "rawType": "int64",
         "type": "integer"
        },
        {
         "name": "remember",
         "rawType": "int64",
         "type": "integer"
        },
        {
         "name": "infant",
         "rawType": "int64",
         "type": "integer"
        },
        {
         "name": "lived",
         "rawType": "int64",
         "type": "integer"
        },
        {
         "name": "till",
         "rawType": "int64",
         "type": "integer"
        },
        {
         "name": "child",
         "rawType": "int64",
         "type": "integer"
        },
        {
         "name": "city",
         "rawType": "int64",
         "type": "integer"
        },
        {
         "name": "sleeping",
         "rawType": "int64",
         "type": "integer"
        },
        {
         "name": "hall",
         "rawType": "int64",
         "type": "integer"
        },
        {
         "name": "white",
         "rawType": "int64",
         "type": "integer"
        },
        {
         "name": "clean",
         "rawType": "int64",
         "type": "integer"
        },
        {
         "name": "bare",
         "rawType": "int64",
         "type": "integer"
        },
        {
         "name": "hundred",
         "rawType": "int64",
         "type": "integer"
        },
        {
         "name": "bed",
         "rawType": "int64",
         "type": "integer"
        },
        {
         "name": "fought",
         "rawType": "int64",
         "type": "integer"
        },
        {
         "name": "offense",
         "rawType": "int64",
         "type": "integer"
        },
        {
         "name": "fight",
         "rawType": "int64",
         "type": "integer"
        },
        {
         "name": "age",
         "rawType": "int64",
         "type": "integer"
        },
        {
         "name": "cause",
         "rawType": "int64",
         "type": "integer"
        },
        {
         "name": "whatsoever",
         "rawType": "int64",
         "type": "integer"
        },
        {
         "name": "told",
         "rawType": "int64",
         "type": "integer"
        },
        {
         "name": "locked",
         "rawType": "int64",
         "type": "integer"
        },
        {
         "name": "cellar",
         "rawType": "int64",
         "type": "integer"
        },
        {
         "name": "often",
         "rawType": "int64",
         "type": "integer"
        },
        {
         "name": "sent",
         "rawType": "int64",
         "type": "integer"
        },
        {
         "name": "student",
         "rawType": "int64",
         "type": "integer"
        },
        {
         "name": "ward",
         "rawType": "int64",
         "type": "integer"
        },
        {
         "name": "learning",
         "rawType": "int64",
         "type": "integer"
        },
        {
         "name": "learn",
         "rawType": "int64",
         "type": "integer"
        },
        {
         "name": "fifteenth",
         "rawType": "int64",
         "type": "integer"
        },
        {
         "name": "go",
         "rawType": "int64",
         "type": "integer"
        },
        {
         "name": "arose",
         "rawType": "int64",
         "type": "integer"
        },
        {
         "name": "big",
         "rawType": "int64",
         "type": "integer"
        },
        {
         "name": "bell",
         "rawType": "int64",
         "type": "integer"
        },
        {
         "name": "rang",
         "rawType": "int64",
         "type": "integer"
        },
        {
         "name": "went",
         "rawType": "int64",
         "type": "integer"
        },
        {
         "name": "removed",
         "rawType": "int64",
         "type": "integer"
        },
        {
         "name": "garment",
         "rawType": "int64",
         "type": "integer"
        },
        {
         "name": "stood",
         "rawType": "int64",
         "type": "integer"
        },
        {
         "name": "raised",
         "rawType": "int64",
         "type": "integer"
        },
        {
         "name": "right",
         "rawType": "int64",
         "type": "integer"
        },
        {
         "name": "arm",
         "rawType": "int64",
         "type": "integer"
        },
        {
         "name": "mankind",
         "rawType": "int64",
         "type": "integer"
        },
        {
         "name": "grace",
         "rawType": "int64",
         "type": "integer"
        },
        {
         "name": "allowed",
         "rawType": "int64",
         "type": "integer"
        },
        {
         "name": "exist",
         "rawType": "int64",
         "type": "integer"
        },
        {
         "name": "state",
         "rawType": "int64",
         "type": "integer"
        },
        {
         "name": "amen",
         "rawType": "int64",
         "type": "integer"
        },
        {
         "name": "slept",
         "rawType": "int64",
         "type": "integer"
        },
        {
         "name": "happy",
         "rawType": "int64",
         "type": "integer"
        },
        {
         "name": "hard",
         "rawType": "int64",
         "type": "integer"
        },
        {
         "name": "easy",
         "rawType": "int64",
         "type": "integer"
        },
        {
         "name": "quick",
         "rawType": "int64",
         "type": "integer"
        },
        {
         "name": "different",
         "rawType": "int64",
         "type": "integer"
        },
        {
         "name": "superior",
         "rawType": "int64",
         "type": "integer"
        },
        {
         "name": "looked",
         "rawType": "int64",
         "type": "integer"
        },
        {
         "name": "tried",
         "rawType": "int64",
         "type": "integer"
        },
        {
         "name": "forget",
         "rawType": "int64",
         "type": "integer"
        },
        {
         "name": "lesson",
         "rawType": "int64",
         "type": "integer"
        },
        {
         "name": "remembered",
         "rawType": "int64",
         "type": "integer"
        },
        {
         "name": "understand",
         "rawType": "int64",
         "type": "integer"
        },
        {
         "name": "taught",
         "rawType": "int64",
         "type": "integer"
        },
        {
         "name": "understood",
         "rawType": "int64",
         "type": "integer"
        },
        {
         "name": "spoken",
         "rawType": "int64",
         "type": "integer"
        },
        {
         "name": "union",
         "rawType": "int64",
         "type": "integer"
        },
        {
         "name": "5-3992",
         "rawType": "int64",
         "type": "integer"
        },
        {
         "name": "pale",
         "rawType": "int64",
         "type": "integer"
        },
        {
         "name": "boy",
         "rawType": "int64",
         "type": "integer"
        },
        {
         "name": "half",
         "rawType": "int64",
         "type": "integer"
        },
        {
         "name": "brain",
         "rawType": "int64",
         "type": "integer"
        },
        {
         "name": "might",
         "rawType": "int64",
         "type": "integer"
        },
        {
         "name": "somehow",
         "rawType": "int64",
         "type": "integer"
        },
        {
         "name": "knew",
         "rawType": "int64",
         "type": "integer"
        },
        {
         "name": "lashed",
         "rawType": "int64",
         "type": "integer"
        },
        {
         "name": "appointed",
         "rawType": "int64",
         "type": "integer"
        },
        {
         "name": "voice",
         "rawType": "int64",
         "type": "integer"
        },
        {
         "name": "justice",
         "rawType": "int64",
         "type": "integer"
        },
        {
         "name": "sometimes",
         "rawType": "int64",
         "type": "integer"
        },
        {
         "name": "darkness",
         "rawType": "int64",
         "type": "integer"
        },
        {
         "name": "heart",
         "rawType": "int64",
         "type": "integer"
        },
        {
         "name": "regret",
         "rawType": "int64",
         "type": "integer"
        },
        {
         "name": "befell",
         "rawType": "int64",
         "type": "integer"
        },
        {
         "name": "birthday",
         "rawType": "int64",
         "type": "integer"
        },
        {
         "name": "guilt",
         "rawType": "int64",
         "type": "integer"
        },
        {
         "name": "paid",
         "rawType": "int64",
         "type": "integer"
        },
        {
         "name": "heed",
         "rawType": "int64",
         "type": "integer"
        },
        {
         "name": "dare",
         "rawType": "int64",
         "type": "integer"
        },
        {
         "name": "choose",
         "rawType": "int64",
         "type": "integer"
        },
        {
         "name": "mind",
         "rawType": "int64",
         "type": "integer"
        },
        {
         "name": "would",
         "rawType": "int64",
         "type": "integer"
        },
        {
         "name": "leave",
         "rawType": "int64",
         "type": "integer"
        },
        {
         "name": "prescribe",
         "rawType": "int64",
         "type": "integer"
        },
        {
         "name": "wisdom",
         "rawType": "int64",
         "type": "integer"
        },
        {
         "name": "needed",
         "rawType": "int64",
         "type": "integer"
        },
        {
         "name": "better",
         "rawType": "int64",
         "type": "integer"
        },
        {
         "name": "unworthy",
         "rawType": "int64",
         "type": "integer"
        },
        {
         "name": "little",
         "rawType": "int64",
         "type": "integer"
        },
        {
         "name": "man",
         "rawType": "int64",
         "type": "integer"
        },
        {
         "name": "reason",
         "rawType": "int64",
         "type": "integer"
        },
        {
         "name": "childhood",
         "rawType": "int64",
         "type": "integer"
        },
        {
         "name": "broke",
         "rawType": "int64",
         "type": "integer"
        },
        {
         "name": "guilty",
         "rawType": "int64",
         "type": "integer"
        },
        {
         "name": "confess",
         "rawType": "int64",
         "type": "integer"
        },
        {
         "name": "preference",
         "rawType": "int64",
         "type": "integer"
        },
        {
         "name": "preferred",
         "rawType": "int64",
         "type": "integer"
        },
        {
         "name": "listen",
         "rawType": "int64",
         "type": "integer"
        },
        {
         "name": "history",
         "rawType": "int64",
         "type": "integer"
        },
        {
         "name": "elected",
         "rawType": "int64",
         "type": "integer"
        },
        {
         "name": "loved",
         "rawType": "int64",
         "type": "integer"
        },
        {
         "name": "science",
         "rawType": "int64",
         "type": "integer"
        },
        {
         "name": "wished",
         "rawType": "int64",
         "type": "integer"
        },
        {
         "name": "make",
         "rawType": "int64",
         "type": "integer"
        },
        {
         "name": "around",
         "rawType": "int64",
         "type": "integer"
        },
        {
         "name": "asked",
         "rawType": "int64",
         "type": "integer"
        },
        {
         "name": "question",
         "rawType": "int64",
         "type": "integer"
        },
        {
         "name": "forbade",
         "rawType": "int64",
         "type": "integer"
        },
        {
         "name": "mystery",
         "rawType": "int64",
         "type": "integer"
        },
        {
         "name": "plant",
         "rawType": "int64",
         "type": "integer"
        },
        {
         "name": "grow",
         "rawType": "int64",
         "type": "integer"
        },
        {
         "name": "scholar",
         "rawType": "int64",
         "type": "integer"
        },
        {
         "name": "learned",
         "rawType": "int64",
         "type": "integer"
        },
        {
         "name": "much",
         "rawType": "int64",
         "type": "integer"
        },
        {
         "name": "flat",
         "rawType": "int64",
         "type": "integer"
        },
        {
         "name": "sun",
         "rawType": "int64",
         "type": "integer"
        },
        {
         "name": "revolves",
         "rawType": "int64",
         "type": "integer"
        },
        {
         "name": "day",
         "rawType": "int64",
         "type": "integer"
        },
        {
         "name": "night",
         "rawType": "int64",
         "type": "integer"
        },
        {
         "name": "wind",
         "rawType": "int64",
         "type": "integer"
        },
        {
         "name": "blow",
         "rawType": "int64",
         "type": "integer"
        },
        {
         "name": "sea",
         "rawType": "int64",
         "type": "integer"
        },
        {
         "name": "push",
         "rawType": "int64",
         "type": "integer"
        },
        {
         "name": "sail",
         "rawType": "int64",
         "type": "integer"
        },
        {
         "name": "ship",
         "rawType": "int64",
         "type": "integer"
        },
        {
         "name": "bleed",
         "rawType": "int64",
         "type": "integer"
        },
        {
         "name": "cure",
         "rawType": "int64",
         "type": "integer"
        },
        {
         "name": "ailment",
         "rawType": "int64",
         "type": "integer"
        },
        {
         "name": "hour",
         "rawType": "int64",
         "type": "integer"
        },
        {
         "name": "awoke",
         "rawType": "int64",
         "type": "integer"
        },
        {
         "name": "shape",
         "rawType": "int64",
         "type": "integer"
        },
        {
         "name": "snore",
         "rawType": "int64",
         "type": "integer"
        },
        {
         "name": "closed",
         "rawType": "int64",
         "type": "integer"
        },
        {
         "name": "eye",
         "rawType": "int64",
         "type": "integer"
        },
        {
         "name": "held",
         "rawType": "int64",
         "type": "integer"
        },
        {
         "name": "lip",
         "rawType": "int64",
         "type": "integer"
        },
        {
         "name": "shut",
         "rawType": "int64",
         "type": "integer"
        },
        {
         "name": "stopped",
         "rawType": "int64",
         "type": "integer"
        },
        {
         "name": "breath",
         "rawType": "int64",
         "type": "integer"
        },
        {
         "name": "shudder",
         "rawType": "int64",
         "type": "integer"
        },
        {
         "name": "let",
         "rawType": "int64",
         "type": "integer"
        },
        {
         "name": "hear",
         "rawType": "int64",
         "type": "integer"
        },
        {
         "name": "guess",
         "rawType": "int64",
         "type": "integer"
        },
        {
         "name": "modern",
         "rawType": "int64",
         "type": "integer"
        },
        {
         "name": "invention",
         "rawType": "int64",
         "type": "integer"
        },
        {
         "name": "newest",
         "rawType": "int64",
         "type": "integer"
        },
        {
         "name": "found",
         "rawType": "int64",
         "type": "integer"
        },
        {
         "name": "wax",
         "rawType": "int64",
         "type": "integer"
        },
        {
         "name": "string",
         "rawType": "int64",
         "type": "integer"
        },
        {
         "name": "glass",
         "rawType": "int64",
         "type": "integer"
        },
        {
         "name": "window",
         "rawType": "int64",
         "type": "integer"
        },
        {
         "name": "protect",
         "rawType": "int64",
         "type": "integer"
        },
        {
         "name": "rain",
         "rawType": "int64",
         "type": "integer"
        },
        {
         "name": "find",
         "rawType": "int64",
         "type": "integer"
        },
        {
         "name": "study",
         "rawType": "int64",
         "type": "integer"
        },
        {
         "name": "river",
         "rawType": "int64",
         "type": "integer"
        },
        {
         "name": "sand",
         "rawType": "int64",
         "type": "integer"
        },
        {
         "name": "rock",
         "rawType": "int64",
         "type": "integer"
        },
        {
         "name": "ask",
         "rawType": "int64",
         "type": "integer"
        },
        {
         "name": "forbid",
         "rawType": "int64",
         "type": "integer"
        },
        {
         "name": "give",
         "rawType": "int64",
         "type": "integer"
        },
        {
         "name": "rest",
         "rawType": "int64",
         "type": "integer"
        },
        {
         "name": "seek",
         "rawType": "int64",
         "type": "integer"
        },
        {
         "name": "try",
         "rawType": "int64",
         "type": "integer"
        },
        {
         "name": "answer",
         "rawType": "int64",
         "type": "integer"
        },
        {
         "name": "trembled",
         "rawType": "int64",
         "type": "integer"
        },
        {
         "name": "blanket",
         "rawType": "int64",
         "type": "integer"
        },
        {
         "name": "bit",
         "rawType": "int64",
         "type": "integer"
        },
        {
         "name": "stop",
         "rawType": "int64",
         "type": "integer"
        },
        {
         "name": "pain",
         "rawType": "int64",
         "type": "integer"
        },
        {
         "name": "endure",
         "rawType": "int64",
         "type": "integer"
        },
        {
         "name": "dared",
         "rawType": "int64",
         "type": "integer"
        },
        {
         "name": "face",
         "rawType": "int64",
         "type": "integer"
        },
        {
         "name": "morning",
         "rawType": "int64",
         "type": "integer"
        },
        {
         "name": "punished",
         "rawType": "int64",
         "type": "integer"
        },
        {
         "name": "came",
         "rawType": "int64",
         "type": "integer"
        },
        {
         "name": "mandate",
         "rawType": "int64",
         "type": "integer"
        },
        {
         "name": "tell",
         "rawType": "int64",
         "type": "integer"
        },
        {
         "name": "first",
         "rawType": "int64",
         "type": "integer"
        },
        {
         "name": "spring",
         "rawType": "int64",
         "type": "integer"
        },
        {
         "name": "sat",
         "rawType": "int64",
         "type": "integer"
        },
        {
         "name": "fifteen",
         "rawType": "int64",
         "type": "integer"
        },
        {
         "name": "high",
         "rawType": "int64",
         "type": "integer"
        },
        {
         "name": "dais",
         "rawType": "int64",
         "type": "integer"
        },
        {
         "name": "called",
         "rawType": "int64",
         "type": "integer"
        },
        {
         "name": "stepped",
         "rawType": "int64",
         "type": "integer"
        },
        {
         "name": "another",
         "rawType": "int64",
         "type": "integer"
        },
        {
         "name": "carpenter",
         "rawType": "int64",
         "type": "integer"
        },
        {
         "name": "doctor",
         "rawType": "int64",
         "type": "integer"
        },
        {
         "name": "cook",
         "rawType": "int64",
         "type": "integer"
        },
        {
         "name": "done",
         "rawType": "int64",
         "type": "integer"
        },
        {
         "name": "assigned",
         "rawType": "int64",
         "type": "integer"
        },
        {
         "name": "greatest",
         "rawType": "int64",
         "type": "integer"
        },
        {
         "name": "house",
         "rawType": "int64",
         "type": "integer"
        },
        {
         "name": "story",
         "rawType": "int64",
         "type": "integer"
        },
        {
         "name": "become",
         "rawType": "int64",
         "type": "integer"
        },
        {
         "name": "candidate",
         "rawType": "int64",
         "type": "integer"
        },
        {
         "name": "free",
         "rawType": "int64",
         "type": "integer"
        },
        {
         "name": "general",
         "rawType": "int64",
         "type": "integer"
        },
        {
         "name": "vote",
         "rawType": "int64",
         "type": "integer"
        },
        {
         "name": "even",
         "rawType": "int64",
         "type": "integer"
        },
        {
         "name": "though",
         "rawType": "int64",
         "type": "integer"
        },
        {
         "name": "honor",
         "rawType": "int64",
         "type": "integer"
        },
        {
         "name": "awaited",
         "rawType": "int64",
         "type": "integer"
        },
        {
         "name": "turn",
         "rawType": "int64",
         "type": "integer"
        },
        {
         "name": "heard",
         "rawType": "int64",
         "type": "integer"
        },
        {
         "name": "call",
         "rawType": "int64",
         "type": "integer"
        },
        {
         "name": "walked",
         "rawType": "int64",
         "type": "integer"
        },
        {
         "name": "tremble",
         "rawType": "int64",
         "type": "integer"
        },
        {
         "name": "member",
         "rawType": "int64",
         "type": "integer"
        },
        {
         "name": "male",
         "rawType": "int64",
         "type": "integer"
        },
        {
         "name": "gender",
         "rawType": "int64",
         "type": "integer"
        },
        {
         "name": "female",
         "rawType": "int64",
         "type": "integer"
        },
        {
         "name": "hair",
         "rawType": "int64",
         "type": "integer"
        },
        {
         "name": "clay",
         "rawType": "int64",
         "type": "integer"
        },
        {
         "name": "dry",
         "rawType": "int64",
         "type": "integer"
        },
        {
         "name": "seemed",
         "rawType": "int64",
         "type": "integer"
        },
        {
         "name": "older",
         "rawType": "int64",
         "type": "integer"
        },
        {
         "name": "temple",
         "rawType": "int64",
         "type": "integer"
        },
        {
         "name": "stir",
         "rawType": "int64",
         "type": "integer"
        },
        {
         "name": "fold",
         "rawType": "int64",
         "type": "integer"
        },
        {
         "name": "toga",
         "rawType": "int64",
         "type": "integer"
        },
        {
         "name": "alive",
         "rawType": "int64",
         "type": "integer"
        },
        {
         "name": "finger",
         "rawType": "int64",
         "type": "integer"
        },
        {
         "name": "oldest",
         "rawType": "int64",
         "type": "integer"
        },
        {
         "name": "fell",
         "rawType": "int64",
         "type": "integer"
        },
        {
         "name": "felt",
         "rawType": "int64",
         "type": "integer"
        },
        {
         "name": "cord",
         "rawType": "int64",
         "type": "integer"
        },
        {
         "name": "neck",
         "rawType": "int64",
         "type": "integer"
        },
        {
         "name": "tight",
         "rawType": "int64",
         "type": "integer"
        },
        {
         "name": "higher",
         "rawType": "int64",
         "type": "integer"
        },
        {
         "name": "way",
         "rawType": "int64",
         "type": "integer"
        },
        {
         "name": "atone",
         "rawType": "int64",
         "type": "integer"
        },
        {
         "name": "accept",
         "rawType": "int64",
         "type": "integer"
        },
        {
         "name": "gladly",
         "rawType": "int64",
         "type": "integer"
        },
        {
         "name": "willingly",
         "rawType": "int64",
         "type": "integer"
        },
        {
         "name": "erase",
         "rawType": "int64",
         "type": "integer"
        },
        {
         "name": "proud",
         "rawType": "int64",
         "type": "integer"
        },
        {
         "name": "victory",
         "rawType": "int64",
         "type": "integer"
        },
        {
         "name": "spoke",
         "rawType": "int64",
         "type": "integer"
        },
        {
         "name": "clearest",
         "rawType": "int64",
         "type": "integer"
        },
        {
         "name": "steadiest",
         "rawType": "int64",
         "type": "integer"
        },
        {
         "name": "straight",
         "rawType": "int64",
         "type": "integer"
        },
        {
         "name": "cold",
         "rawType": "int64",
         "type": "integer"
        },
        {
         "name": "blue",
         "rawType": "int64",
         "type": "integer"
        },
        {
         "name": "button",
         "rawType": "int64",
         "type": "integer"
        },
        {
         "name": "grey",
         "rawType": "int64",
         "type": "integer"
        },
        {
         "name": "narrow",
         "rawType": "int64",
         "type": "integer"
        },
        {
         "name": "sundial",
         "rawType": "int64",
         "type": "integer"
        },
        {
         "name": "courtyard",
         "rawType": "int64",
         "type": "integer"
        },
        {
         "name": "ring",
         "rawType": "int64",
         "type": "integer"
        },
        {
         "name": "arise",
         "rawType": "int64",
         "type": "integer"
        },
        {
         "name": "east",
         "rawType": "int64",
         "type": "integer"
        },
        {
         "name": "mark",
         "rawType": "int64",
         "type": "integer"
        },
        {
         "name": "half-hour",
         "rawType": "int64",
         "type": "integer"
        },
        {
         "name": "dress",
         "rawType": "int64",
         "type": "integer"
        },
        {
         "name": "eat",
         "rawType": "int64",
         "type": "integer"
        },
        {
         "name": "breakfast",
         "rawType": "int64",
         "type": "integer"
        },
        {
         "name": "dining",
         "rawType": "int64",
         "type": "integer"
        },
        {
         "name": "table",
         "rawType": "int64",
         "type": "integer"
        },
        {
         "name": "twenty",
         "rawType": "int64",
         "type": "integer"
        },
        {
         "name": "plate",
         "rawType": "int64",
         "type": "integer"
        },
        {
         "name": "cup",
         "rawType": "int64",
         "type": "integer"
        },
        {
         "name": "broom",
         "rawType": "int64",
         "type": "integer"
        },
        {
         "name": "rake",
         "rawType": "int64",
         "type": "integer"
        },
        {
         "name": "return",
         "rawType": "int64",
         "type": "integer"
        },
        {
         "name": "midday",
         "rawType": "int64",
         "type": "integer"
        },
        {
         "name": "meal",
         "rawType": "int64",
         "type": "integer"
        },
        {
         "name": "one-half",
         "rawType": "int64",
         "type": "integer"
        },
        {
         "name": "pavement",
         "rawType": "int64",
         "type": "integer"
        },
        {
         "name": "deep",
         "rawType": "int64",
         "type": "integer"
        },
        {
         "name": "brightness",
         "rawType": "int64",
         "type": "integer"
        },
        {
         "name": "bright",
         "rawType": "int64",
         "type": "integer"
        },
        {
         "name": "dinner",
         "rawType": "int64",
         "type": "integer"
        },
        {
         "name": "walk",
         "rawType": "int64",
         "type": "integer"
        },
        {
         "name": "column",
         "rawType": "int64",
         "type": "integer"
        },
        {
         "name": "social",
         "rawType": "int64",
         "type": "integer"
        },
        {
         "name": "meeting",
         "rawType": "int64",
         "type": "integer"
        },
        {
         "name": "arrive",
         "rawType": "int64",
         "type": "integer"
        },
        {
         "name": "trade",
         "rawType": "int64",
         "type": "integer"
        },
        {
         "name": "lit",
         "rawType": "int64",
         "type": "integer"
        },
        {
         "name": "pulpit",
         "rawType": "int64",
         "type": "integer"
        },
        {
         "name": "duty",
         "rawType": "int64",
         "type": "integer"
        },
        {
         "name": "visiting",
         "rawType": "int64",
         "type": "integer"
        },
        {
         "name": "mount",
         "rawType": "int64",
         "type": "integer"
        },
        {
         "name": "read",
         "rawType": "int64",
         "type": "integer"
        },
        {
         "name": "speech",
         "rawType": "int64",
         "type": "integer"
        },
        {
         "name": "made",
         "rawType": "int64",
         "type": "integer"
        },
        {
         "name": "represents",
         "rawType": "int64",
         "type": "integer"
        },
        {
         "name": "sing",
         "rawType": "int64",
         "type": "integer"
        },
        {
         "name": "hymn",
         "rawType": "int64",
         "type": "integer"
        },
        {
         "name": "brotherhood",
         "rawType": "int64",
         "type": "integer"
        },
        {
         "name": "collective",
         "rawType": "int64",
         "type": "integer"
        },
        {
         "name": "spirit",
         "rawType": "int64",
         "type": "integer"
        },
        {
         "name": "soggy",
         "rawType": "int64",
         "type": "integer"
        },
        {
         "name": "purple",
         "rawType": "int64",
         "type": "integer"
        },
        {
         "name": "theatre",
         "rawType": "int64",
         "type": "integer"
        },
        {
         "name": "recreation",
         "rawType": "int64",
         "type": "integer"
        },
        {
         "name": "play",
         "rawType": "int64",
         "type": "integer"
        },
        {
         "name": "shown",
         "rawType": "int64",
         "type": "integer"
        },
        {
         "name": "stage",
         "rawType": "int64",
         "type": "integer"
        },
        {
         "name": "chorus",
         "rawType": "int64",
         "type": "integer"
        },
        {
         "name": "actor",
         "rawType": "int64",
         "type": "integer"
        },
        {
         "name": "toil",
         "rawType": "int64",
         "type": "integer"
        },
        {
         "name": "sieve",
         "rawType": "int64",
         "type": "integer"
        },
        {
         "name": "pierced",
         "rawType": "int64",
         "type": "integer"
        },
        {
         "name": "silver",
         "rawType": "int64",
         "type": "integer"
        },
        {
         "name": "drop",
         "rawType": "int64",
         "type": "integer"
        },
        {
         "name": "ready",
         "rawType": "int64",
         "type": "integer"
        },
        {
         "name": "burst",
         "rawType": "int64",
         "type": "integer"
        },
        {
         "name": "moth",
         "rawType": "int64",
         "type": "integer"
        },
        {
         "name": "beat",
         "rawType": "int64",
         "type": "integer"
        },
        {
         "name": "lantern",
         "rawType": "int64",
         "type": "integer"
        },
        {
         "name": "sleep",
         "rawType": "int64",
         "type": "integer"
        },
        {
         "name": "happened",
         "rawType": "int64",
         "type": "integer"
        },
        {
         "name": "live",
         "rawType": "int64",
         "type": "integer"
        },
        {
         "name": "forty",
         "rawType": "int64",
         "type": "integer"
        },
        {
         "name": "worn",
         "rawType": "int64",
         "type": "integer"
        },
        {
         "name": "take",
         "rawType": "int64",
         "type": "integer"
        },
        {
         "name": "care",
         "rawType": "int64",
         "type": "integer"
        },
        {
         "name": "sit",
         "rawType": "int64",
         "type": "integer"
        },
        {
         "name": "summer",
         "rawType": "int64",
         "type": "integer"
        },
        {
         "name": "fire",
         "rawType": "int64",
         "type": "integer"
        },
        {
         "name": "winter",
         "rawType": "int64",
         "type": "integer"
        },
        {
         "name": "weary",
         "rawType": "int64",
         "type": "integer"
        },
        {
         "name": "soon",
         "rawType": "int64",
         "type": "integer"
        },
        {
         "name": "die",
         "rawType": "int64",
         "type": "integer"
        },
        {
         "name": "miracle",
         "rawType": "int64",
         "type": "integer"
        },
        {
         "name": "happens",
         "rawType": "int64",
         "type": "integer"
        },
        {
         "name": "forty-five",
         "rawType": "int64",
         "type": "integer"
        },
        {
         "name": "ancient",
         "rawType": "int64",
         "type": "integer"
        },
        {
         "name": "stare",
         "rawType": "int64",
         "type": "integer"
        },
        {
         "name": "passing",
         "rawType": "int64",
         "type": "integer"
        },
        {
         "name": "changed",
         "rawType": "int64",
         "type": "integer"
        },
        {
         "name": "drove",
         "rawType": "int64",
         "type": "integer"
        },
        {
         "name": "cursed",
         "rawType": "int64",
         "type": "integer"
        },
        {
         "name": "star",
         "rawType": "int64",
         "type": "integer"
        },
        {
         "name": "tree",
         "rawType": "int64",
         "type": "integer"
        },
        {
         "name": "cleaned",
         "rawType": "int64",
         "type": "integer"
        },
        {
         "name": "yard",
         "rawType": "int64",
         "type": "integer"
        },
        {
         "name": "gathered",
         "rawType": "int64",
         "type": "integer"
        },
        {
         "name": "vial",
         "rawType": "int64",
         "type": "integer"
        },
        {
         "name": "piece",
         "rawType": "int64",
         "type": "integer"
        },
        {
         "name": "metal",
         "rawType": "int64",
         "type": "integer"
        },
        {
         "name": "dried",
         "rawType": "int64",
         "type": "integer"
        },
        {
         "name": "discarded",
         "rawType": "int64",
         "type": "integer"
        },
        {
         "name": "keep",
         "rawType": "int64",
         "type": "integer"
        },
        {
         "name": "place",
         "rawType": "int64",
         "type": "integer"
        },
        {
         "name": "hide",
         "rawType": "int64",
         "type": "integer"
        },
        {
         "name": "carried",
         "rawType": "int64",
         "type": "integer"
        },
        {
         "name": "cesspool",
         "rawType": "int64",
         "type": "integer"
        },
        {
         "name": "discovery",
         "rawType": "int64",
         "type": "integer"
        },
        {
         "name": "brigade",
         "rawType": "int64",
         "type": "integer"
        },
        {
         "name": "half-brain",
         "rawType": "int64",
         "type": "integer"
        },
        {
         "name": "international",
         "rawType": "int64",
         "type": "integer"
        },
        {
         "name": "4-8818",
         "rawType": "int64",
         "type": "integer"
        },
        {
         "name": "sickly",
         "rawType": "int64",
         "type": "integer"
        },
        {
         "name": "lad",
         "rawType": "int64",
         "type": "integer"
        },
        {
         "name": "stricken",
         "rawType": "int64",
         "type": "integer"
        },
        {
         "name": "convulsion",
         "rawType": "int64",
         "type": "integer"
        },
        {
         "name": "mouth",
         "rawType": "int64",
         "type": "integer"
        },
        {
         "name": "froth",
         "rawType": "int64",
         "type": "integer"
        },
        {
         "name": "strong",
         "rawType": "int64",
         "type": "integer"
        },
        {
         "name": "youth",
         "rawType": "int64",
         "type": "integer"
        },
        {
         "name": "firefly",
         "rawType": "int64",
         "type": "integer"
        },
        {
         "name": "laughter",
         "rawType": "int64",
         "type": "integer"
        },
        {
         "name": "smile",
         "rawType": "int64",
         "type": "integer"
        },
        {
         "name": "liked",
         "rawType": "int64",
         "type": "integer"
        },
        {
         "name": "proper",
         "rawType": "int64",
         "type": "integer"
        },
        {
         "name": "took",
         "rawType": "int64",
         "type": "integer"
        },
        {
         "name": "coal",
         "rawType": "int64",
         "type": "integer"
        },
        {
         "name": "drew",
         "rawType": "int64",
         "type": "integer"
        },
        {
         "name": "picture",
         "rawType": "int64",
         "type": "integer"
        },
        {
         "name": "laugh",
         "rawType": "int64",
         "type": "integer"
        },
        {
         "name": "artist",
         "rawType": "int64",
         "type": "integer"
        },
        {
         "name": "permitted",
         "rawType": "int64",
         "type": "integer"
        },
        {
         "name": "draw",
         "rawType": "int64",
         "type": "integer"
        },
        {
         "name": "friend",
         "rawType": "int64",
         "type": "integer"
        },
        {
         "name": "love",
         "rawType": "int64",
         "type": "integer"
        },
        {
         "name": "frighten",
         "rawType": "int64",
         "type": "integer"
        },
        {
         "name": "edge",
         "rawType": "int64",
         "type": "integer"
        },
        {
         "name": "near",
         "rawType": "int64",
         "type": "integer"
        },
        {
         "name": "lie",
         "rawType": "int64",
         "type": "integer"
        },
        {
         "name": "shade",
         "rawType": "int64",
         "type": "integer"
        },
        {
         "name": "tent",
         "rawType": "int64",
         "type": "integer"
        },
        {
         "name": "finish",
         "rawType": "int64",
         "type": "integer"
        },
        {
         "name": "ravine",
         "rawType": "int64",
         "type": "integer"
        },
        {
         "name": "behind",
         "rawType": "int64",
         "type": "integer"
        },
        {
         "name": "empty",
         "rawType": "int64",
         "type": "integer"
        },
        {
         "name": "weed",
         "rawType": "int64",
         "type": "integer"
        },
        {
         "name": "plain",
         "rawType": "int64",
         "type": "integer"
        },
        {
         "name": "uncharted",
         "rawType": "int64",
         "type": "integer"
        },
        {
         "name": "forest",
         "rawType": "int64",
         "type": "integer"
        },
        {
         "name": "gathering",
         "rawType": "int64",
         "type": "integer"
        },
        {
         "name": "rag",
         "rawType": "int64",
         "type": "integer"
        },
        {
         "name": "blown",
         "rawType": "int64",
         "type": "integer"
        },
        {
         "name": "bar",
         "rawType": "int64",
         "type": "integer"
        },
        {
         "name": "rusted",
         "rawType": "int64",
         "type": "integer"
        },
        {
         "name": "pulled",
         "rawType": "int64",
         "type": "integer"
        },
        {
         "name": "strength",
         "rawType": "int64",
         "type": "integer"
        },
        {
         "name": "scraped",
         "rawType": "int64",
         "type": "integer"
        },
        {
         "name": "sudden",
         "rawType": "int64",
         "type": "integer"
        },
        {
         "name": "grill",
         "rawType": "int64",
         "type": "integer"
        },
        {
         "name": "hole",
         "rawType": "int64",
         "type": "integer"
        },
        {
         "name": "gave",
         "rawType": "int64",
         "type": "integer"
        },
        {
         "name": "leading",
         "rawType": "int64",
         "type": "integer"
        },
        {
         "name": "shaft",
         "rawType": "int64",
         "type": "integer"
        },
        {
         "name": "bottom",
         "rawType": "int64",
         "type": "integer"
        },
        {
         "name": "answered",
         "rawType": "int64",
         "type": "integer"
        },
        {
         "name": "permitting",
         "rawType": "int64",
         "type": "integer"
        },
        {
         "name": "enter",
         "rawType": "int64",
         "type": "integer"
        },
        {
         "name": "everything",
         "rawType": "int64",
         "type": "integer"
        },
        {
         "name": "le",
         "rawType": "int64",
         "type": "integer"
        },
        {
         "name": "frightened",
         "rawType": "int64",
         "type": "integer"
        },
        {
         "name": "watched",
         "rawType": "int64",
         "type": "integer"
        },
        {
         "name": "hung",
         "rawType": "int64",
         "type": "integer"
        },
        {
         "name": "open",
         "rawType": "int64",
         "type": "integer"
        },
        {
         "name": "grew",
         "rawType": "int64",
         "type": "integer"
        },
        {
         "name": "smaller",
         "rawType": "int64",
         "type": "integer"
        },
        {
         "name": "size",
         "rawType": "int64",
         "type": "integer"
        },
        {
         "name": "touched",
         "rawType": "int64",
         "type": "integer"
        },
        {
         "name": "rubbed",
         "rawType": "int64",
         "type": "integer"
        },
        {
         "name": "became",
         "rawType": "int64",
         "type": "integer"
        },
        {
         "name": "used",
         "rawType": "int64",
         "type": "integer"
        },
        {
         "name": "believe",
         "rawType": "int64",
         "type": "integer"
        },
        {
         "name": "known",
         "rawType": "int64",
         "type": "integer"
        },
        {
         "name": "built",
         "rawType": "int64",
         "type": "integer"
        },
        {
         "name": "yet",
         "rawType": "int64",
         "type": "integer"
        },
        {
         "name": "smooth",
         "rawType": "int64",
         "type": "integer"
        },
        {
         "name": "touch",
         "rawType": "int64",
         "type": "integer"
        },
        {
         "name": "stone",
         "rawType": "int64",
         "type": "integer"
        },
        {
         "name": "track",
         "rawType": "int64",
         "type": "integer"
        },
        {
         "name": "knelt",
         "rawType": "int64",
         "type": "integer"
        },
        {
         "name": "crawled",
         "rawType": "int64",
         "type": "integer"
        },
        {
         "name": "forward",
         "rawType": "int64",
         "type": "integer"
        },
        {
         "name": "groping",
         "rawType": "int64",
         "type": "integer"
        },
        {
         "name": "along",
         "rawType": "int64",
         "type": "integer"
        },
        {
         "name": "line",
         "rawType": "int64",
         "type": "integer"
        },
        {
         "name": "lead",
         "rawType": "int64",
         "type": "integer"
        },
        {
         "name": "unbroken",
         "rawType": "int64",
         "type": "integer"
        },
        {
         "name": "ahead",
         "rawType": "int64",
         "type": "integer"
        },
        {
         "name": "glowed",
         "rawType": "int64",
         "type": "integer"
        },
        {
         "name": "calling",
         "rawType": "int64",
         "type": "integer"
        },
        {
         "name": "follow",
         "rawType": "int64",
         "type": "integer"
        },
        {
         "name": "losing",
         "rawType": "int64",
         "type": "integer"
        },
        {
         "name": "puddle",
         "rawType": "int64",
         "type": "integer"
        },
        {
         "name": "turned",
         "rawType": "int64",
         "type": "integer"
        },
        {
         "name": "fingertip",
         "rawType": "int64",
         "type": "integer"
        },
        {
         "name": "suddenly",
         "rawType": "int64",
         "type": "integer"
        },
        {
         "name": "true",
         "rawType": "int64",
         "type": "integer"
        },
        {
         "name": "lost",
         "rawType": "int64",
         "type": "integer"
        },
        {
         "name": "foul",
         "rawType": "int64",
         "type": "integer"
        },
        {
         "name": "damned",
         "rawType": "int64",
         "type": "integer"
        },
        {
         "name": "followed",
         "rawType": "int64",
         "type": "integer"
        },
        {
         "name": "clung",
         "rawType": "int64",
         "type": "integer"
        },
        {
         "name": "skin",
         "rawType": "int64",
         "type": "integer"
        },
        {
         "name": "thirsty",
         "rawType": "int64",
         "type": "integer"
        },
        {
         "name": "begging",
         "rawType": "int64",
         "type": "integer"
        },
        {
         "name": "fluid",
         "rawType": "int64",
         "type": "integer"
        },
        {
         "name": "beating",
         "rawType": "int64",
         "type": "integer"
        },
        {
         "name": "coldness",
         "rawType": "int64",
         "type": "integer"
        },
        {
         "name": "returned",
         "rawType": "int64",
         "type": "integer"
        },
        {
         "name": "looking",
         "rawType": "int64",
         "type": "integer"
        },
        {
         "name": "backed",
         "rawType": "int64",
         "type": "integer"
        },
        {
         "name": "smiled",
         "rawType": "int64",
         "type": "integer"
        },
        {
         "name": "gay",
         "rawType": "int64",
         "type": "integer"
        },
        {
         "name": "pleading",
         "rawType": "int64",
         "type": "integer"
        },
        {
         "name": "report",
         "rawType": "int64",
         "type": "integer"
        },
        {
         "name": "rewarded",
         "rawType": "int64",
         "type": "integer"
        },
        {
         "name": "death",
         "rawType": "int64",
         "type": "integer"
        },
        {
         "name": "rather",
         "rawType": "int64",
         "type": "integer"
        },
        {
         "name": "silent",
         "rawType": "int64",
         "type": "integer"
        },
        {
         "name": "belongs",
         "rawType": "int64",
         "type": "integer"
        },
        {
         "name": "surrender",
         "rawType": "int64",
         "type": "integer"
        },
        {
         "name": "full",
         "rawType": "int64",
         "type": "integer"
        },
        {
         "name": "lid",
         "rawType": "int64",
         "type": "integer"
        },
        {
         "name": "tear",
         "rawType": "int64",
         "type": "integer"
        },
        {
         "name": "whispered",
         "rawType": "int64",
         "type": "integer"
        },
        {
         "name": "holy",
         "rawType": "int64",
         "type": "integer"
        },
        {
         "name": "obey",
         "rawType": "int64",
         "type": "integer"
        },
        {
         "name": "silence",
         "rawType": "int64",
         "type": "integer"
        },
        {
         "name": "pas",
         "rawType": "int64",
         "type": "integer"
        },
        {
         "name": "steal",
         "rawType": "int64",
         "type": "integer"
        },
        {
         "name": "onto",
         "rawType": "int64",
         "type": "integer"
        },
        {
         "name": "crawl",
         "rawType": "int64",
         "type": "integer"
        },
        {
         "name": "seat",
         "rawType": "int64",
         "type": "integer"
        },
        {
         "name": "cloth",
         "rawType": "int64",
         "type": "integer"
        },
        {
         "name": "later",
         "rawType": "int64",
         "type": "integer"
        },
        {
         "name": "fall",
         "rawType": "int64",
         "type": "integer"
        },
        {
         "name": "next",
         "rawType": "int64",
         "type": "integer"
        },
        {
         "name": "leaf",
         "rawType": "int64",
         "type": "integer"
        },
        {
         "name": "mission",
         "rawType": "int64",
         "type": "integer"
        },
        {
         "name": "remove",
         "rawType": "int64",
         "type": "integer"
        },
        {
         "name": "piled",
         "rawType": "int64",
         "type": "integer"
        },
        {
         "name": "stolen",
         "rawType": "int64",
         "type": "integer"
        },
        {
         "name": "flint",
         "rawType": "int64",
         "type": "integer"
        },
        {
         "name": "knife",
         "rawType": "int64",
         "type": "integer"
        },
        {
         "name": "powder",
         "rawType": "int64",
         "type": "integer"
        },
        {
         "name": "acid",
         "rawType": "int64",
         "type": "integer"
        },
        {
         "name": "melt",
         "rawType": "int64",
         "type": "integer"
        },
        {
         "name": "mix",
         "rawType": "int64",
         "type": "integer"
        },
        {
         "name": "animal",
         "rawType": "int64",
         "type": "integer"
        },
        {
         "name": "oven",
         "rawType": "int64",
         "type": "integer"
        },
        {
         "name": "brick",
         "rawType": "int64",
         "type": "integer"
        },
        {
         "name": "burn",
         "rawType": "int64",
         "type": "integer"
        },
        {
         "name": "wood",
         "rawType": "int64",
         "type": "integer"
        },
        {
         "name": "flicker",
         "rawType": "int64",
         "type": "integer"
        },
        {
         "name": "dance",
         "rawType": "int64",
         "type": "integer"
        },
        {
         "name": "disturb",
         "rawType": "int64",
         "type": "integer"
        },
        {
         "name": "manuscript",
         "rawType": "int64",
         "type": "integer"
        },
        {
         "name": "clerk",
         "rawType": "int64",
         "type": "integer"
        },
        {
         "name": "spend",
         "rawType": "int64",
         "type": "integer"
        },
        {
         "name": "copy",
         "rawType": "int64",
         "type": "integer"
        },
        {
         "name": "single",
         "rawType": "int64",
         "type": "integer"
        },
        {
         "name": "script",
         "rawType": "int64",
         "type": "integer"
        },
        {
         "name": "clear",
         "rawType": "int64",
         "type": "integer"
        },
        {
         "name": "handwriting",
         "rawType": "int64",
         "type": "integer"
        },
        {
         "name": "rare",
         "rawType": "int64",
         "type": "integer"
        },
        {
         "name": "kept",
         "rawType": "int64",
         "type": "integer"
        },
        {
         "name": "solved",
         "rawType": "int64",
         "type": "integer"
        },
        {
         "name": "knowledge",
         "rawType": "int64",
         "type": "integer"
        },
        {
         "name": "unexplored",
         "rawType": "int64",
         "type": "integer"
        },
        {
         "name": "lifetime",
         "rawType": "int64",
         "type": "integer"
        },
        {
         "name": "bring",
         "rawType": "int64",
         "type": "integer"
        },
        {
         "name": "end",
         "rawType": "int64",
         "type": "integer"
        },
        {
         "name": "quest",
         "rawType": "int64",
         "type": "integer"
        },
        {
         "name": "feel",
         "rawType": "int64",
         "type": "integer"
        },
        {
         "name": "sight",
         "rawType": "int64",
         "type": "integer"
        },
        {
         "name": "growing",
         "rawType": "int64",
         "type": "integer"
        },
        {
         "name": "sharper",
         "rawType": "int64",
         "type": "integer"
        },
        {
         "name": "hawk",
         "rawType": "int64",
         "type": "integer"
        },
        {
         "name": "clearer",
         "rawType": "int64",
         "type": "integer"
        },
        {
         "name": "crystal",
         "rawType": "int64",
         "type": "integer"
        },
        {
         "name": "false",
         "rawType": "int64",
         "type": "integer"
        },
        {
         "name": "defying",
         "rawType": "int64",
         "type": "integer"
        },
        {
         "name": "thousand",
         "rawType": "int64",
         "type": "integer"
        },
        {
         "name": "purpose",
         "rawType": "int64",
         "type": "integer"
        },
        {
         "name": "human",
         "rawType": "int64",
         "type": "integer"
        },
        {
         "name": "probe",
         "rawType": "int64",
         "type": "integer"
        },
        {
         "name": "nature",
         "rawType": "int64",
         "type": "integer"
        },
        {
         "name": "ponder",
         "rawType": "int64",
         "type": "integer"
        },
        {
         "name": "shame",
         "rawType": "int64",
         "type": "integer"
        },
        {
         "name": "wretch",
         "rawType": "int64",
         "type": "integer"
        },
        {
         "name": "traitor",
         "rawType": "int64",
         "type": "integer"
        },
        {
         "name": "seems",
         "rawType": "int64",
         "type": "integer"
        },
        {
         "name": "lake",
         "rawType": "int64",
         "type": "integer"
        },
        {
         "name": "troubled",
         "rawType": "int64",
         "type": "integer"
        },
        {
         "name": "peace",
         "rawType": "int64",
         "type": "integer"
        },
        {
         "name": "liberty",
         "rawType": "int64",
         "type": "integer"
        },
        {
         "name": "5-3000",
         "rawType": "int64",
         "type": "integer"
        },
        {
         "name": "five-three",
         "rawType": "int64",
         "type": "integer"
        },
        {
         "name": "notice",
         "rawType": "int64",
         "type": "integer"
        },
        {
         "name": "woman",
         "rawType": "int64",
         "type": "integer"
        },
        {
         "name": "whose",
         "rawType": "int64",
         "type": "integer"
        },
        {
         "name": "soil",
         "rawType": "int64",
         "type": "integer"
        },
        {
         "name": "peasant",
         "rawType": "int64",
         "type": "integer"
        },
        {
         "name": "road",
         "rawType": "int64",
         "type": "integer"
        },
        {
         "name": "winding",
         "rawType": "int64",
         "type": "integer"
        },
        {
         "name": "north",
         "rawType": "int64",
         "type": "integer"
        },
        {
         "name": "milepost",
         "rawType": "int64",
         "type": "integer"
        },
        {
         "name": "hedge",
         "rawType": "int64",
         "type": "integer"
        },
        {
         "name": "field",
         "rawType": "int64",
         "type": "integer"
        },
        {
         "name": "ploughed",
         "rawType": "int64",
         "type": "integer"
        },
        {
         "name": "fan",
         "rawType": "int64",
         "type": "integer"
        },
        {
         "name": "furrow",
         "rawType": "int64",
         "type": "integer"
        },
        {
         "name": "spreading",
         "rawType": "int64",
         "type": "integer"
        },
        {
         "name": "forth",
         "rawType": "int64",
         "type": "integer"
        },
        {
         "name": "opening",
         "rawType": "int64",
         "type": "integer"
        },
        {
         "name": "wide",
         "rawType": "int64",
         "type": "integer"
        },
        {
         "name": "apart",
         "rawType": "int64",
         "type": "integer"
        },
        {
         "name": "toward",
         "rawType": "int64",
         "type": "integer"
        },
        {
         "name": "pleat",
         "rawType": "int64",
         "type": "integer"
        },
        {
         "name": "sparkle",
         "rawType": "int64",
         "type": "integer"
        },
        {
         "name": "spangle",
         "rawType": "int64",
         "type": "integer"
        },
        {
         "name": "tunic",
         "rawType": "int64",
         "type": "integer"
        },
        {
         "name": "wing",
         "rawType": "int64",
         "type": "integer"
        },
        {
         "name": "sea-gulls",
         "rawType": "int64",
         "type": "integer"
        },
        {
         "name": "walking",
         "rawType": "int64",
         "type": "integer"
        },
        {
         "name": "blade",
         "rawType": "int64",
         "type": "integer"
        },
        {
         "name": "glowing",
         "rawType": "int64",
         "type": "integer"
        },
        {
         "name": "kindness",
         "rawType": "int64",
         "type": "integer"
        },
        {
         "name": "golden",
         "rawType": "int64",
         "type": "integer"
        },
        {
         "name": "flew",
         "rawType": "int64",
         "type": "integer"
        },
        {
         "name": "shining",
         "rawType": "int64",
         "type": "integer"
        },
        {
         "name": "wild",
         "rawType": "int64",
         "type": "integer"
        },
        {
         "name": "defied",
         "rawType": "int64",
         "type": "integer"
        },
        {
         "name": "restrain",
         "rawType": "int64",
         "type": "integer"
        },
        {
         "name": "threw",
         "rawType": "int64",
         "type": "integer"
        },
        {
         "name": "seed",
         "rawType": "int64",
         "type": "integer"
        },
        {
         "name": "deigned",
         "rawType": "int64",
         "type": "integer"
        },
        {
         "name": "fling",
         "rawType": "int64",
         "type": "integer"
        },
        {
         "name": "scornful",
         "rawType": "int64",
         "type": "integer"
        },
        {
         "name": "gift",
         "rawType": "int64",
         "type": "integer"
        },
        {
         "name": "beggar",
         "rawType": "int64",
         "type": "integer"
        },
        {
         "name": "spill",
         "rawType": "int64",
         "type": "integer"
        },
        {
         "name": "pleasure",
         "rawType": "int64",
         "type": "integer"
        },
        {
         "name": "watching",
         "rawType": "int64",
         "type": "integer"
        },
        {
         "name": "mist",
         "rawType": "int64",
         "type": "integer"
        },
        {
         "name": "following",
         "rawType": "int64",
         "type": "integer"
        },
        {
         "name": "northern",
         "rawType": "int64",
         "type": "integer"
        },
        {
         "name": "thereafter",
         "rawType": "int64",
         "type": "integer"
        },
        {
         "name": "illness",
         "rawType": "int64",
         "type": "integer"
        },
        {
         "name": "waiting",
         "rawType": "int64",
         "type": "integer"
        },
        {
         "name": "whether",
         "rawType": "int64",
         "type": "integer"
        },
        {
         "name": "close",
         "rawType": "int64",
         "type": "integer"
        },
        {
         "name": "whirl",
         "rawType": "int64",
         "type": "integer"
        },
        {
         "name": "movement",
         "rawType": "int64",
         "type": "integer"
        },
        {
         "name": "slashed",
         "rawType": "int64",
         "type": "integer"
        },
        {
         "name": "started",
         "rawType": "int64",
         "type": "integer"
        },
        {
         "name": "welcome",
         "rawType": "int64",
         "type": "integer"
        },
        {
         "name": "taut",
         "rawType": "int64",
         "type": "integer"
        },
        {
         "name": "swiftly",
         "rawType": "int64",
         "type": "integer"
        },
        {
         "name": "lassitude",
         "rawType": "int64",
         "type": "integer"
        },
        {
         "name": "glanced",
         "rawType": "int64",
         "type": "integer"
        },
        {
         "name": "shoulder",
         "rawType": "int64",
         "type": "integer"
        },
        {
         "name": "slipping",
         "rawType": "int64",
         "type": "integer"
        },
        {
         "name": "softly",
         "rawType": "int64",
         "type": "integer"
        },
        {
         "name": "every",
         "rawType": "int64",
         "type": "integer"
        },
        {
         "name": "greeted",
         "rawType": "int64",
         "type": "integer"
        },
        {
         "name": "group",
         "rawType": "int64",
         "type": "integer"
        },
        {
         "name": "standing",
         "rawType": "int64",
         "type": "integer"
        },
        {
         "name": "forehead",
         "rawType": "int64",
         "type": "integer"
        },
        {
         "name": "slowly",
         "rawType": "int64",
         "type": "integer"
        },
        {
         "name": "palm",
         "rawType": "int64",
         "type": "integer"
        },
        {
         "name": "seen",
         "rawType": "int64",
         "type": "integer"
        },
        {
         "name": "guessed",
         "rawType": "int64",
         "type": "integer"
        },
        {
         "name": "shading",
         "rawType": "int64",
         "type": "integer"
        },
        {
         "name": "greet",
         "rawType": "int64",
         "type": "integer"
        },
        {
         "name": "suspect",
         "rawType": "int64",
         "type": "integer"
        },
        {
         "name": "new",
         "rawType": "int64",
         "type": "integer"
        },
        {
         "name": "second",
         "rawType": "int64",
         "type": "integer"
        },
        {
         "name": "longer",
         "rawType": "int64",
         "type": "integer"
        },
        {
         "name": "distinguish",
         "rawType": "int64",
         "type": "integer"
        },
        {
         "name": "mating",
         "rawType": "int64",
         "type": "integer"
        },
        {
         "name": "eighteen",
         "rawType": "int64",
         "type": "integer"
        },
        {
         "name": "eugenics",
         "rawType": "int64",
         "type": "integer"
        },
        {
         "name": "parent",
         "rawType": "int64",
         "type": "integer"
        },
        {
         "name": "twice",
         "rawType": "int64",
         "type": "integer"
        },
        {
         "name": "ugly",
         "rawType": "int64",
         "type": "integer"
        },
        {
         "name": "shameful",
         "rawType": "int64",
         "type": "integer"
        },
        {
         "name": "today",
         "rawType": "int64",
         "type": "integer"
        },
        {
         "name": "far",
         "rawType": "int64",
         "type": "integer"
        },
        {
         "name": "side",
         "rawType": "int64",
         "type": "integer"
        },
        {
         "name": "kneeling",
         "rawType": "int64",
         "type": "integer"
        },
        {
         "name": "moat",
         "rawType": "int64",
         "type": "integer"
        },
        {
         "name": "falling",
         "rawType": "int64",
         "type": "integer"
        },
        {
         "name": "spark",
         "rawType": "int64",
         "type": "integer"
        },
        {
         "name": "circle",
         "rawType": "int64",
         "type": "integer"
        },
        {
         "name": "played",
         "rawType": "int64",
         "type": "integer"
        },
        {
         "name": "sparkling",
         "rawType": "int64",
         "type": "integer"
        },
        {
         "name": "frozen",
         "rawType": "int64",
         "type": "integer"
        },
        {
         "name": "command",
         "rawType": "int64",
         "type": "integer"
        },
        {
         "name": "pace",
         "rawType": "int64",
         "type": "integer"
        },
        {
         "name": "betray",
         "rawType": "int64",
         "type": "integer"
        },
        {
         "name": "lash",
         "rawType": "int64",
         "type": "integer"
        },
        {
         "name": "cheek",
         "rawType": "int64",
         "type": "integer"
        },
        {
         "name": "beautiful",
         "rawType": "int64",
         "type": "integer"
        },
        {
         "name": "avert",
         "rawType": "int64",
         "type": "integer"
        },
        {
         "name": "wider",
         "rawType": "int64",
         "type": "integer"
        },
        {
         "name": "triumph",
         "rawType": "int64",
         "type": "integer"
        },
        {
         "name": "meant",
         "rawType": "int64",
         "type": "integer"
        },
        {
         "name": "meaning",
         "rawType": "int64",
         "type": "integer"
        },
        {
         "name": "sister",
         "rawType": "int64",
         "type": "integer"
        },
        {
         "name": "score",
         "rawType": "int64",
         "type": "integer"
        },
        {
         "name": "stomach",
         "rawType": "int64",
         "type": "integer"
        },
        {
         "name": "lowered",
         "rawType": "int64",
         "type": "integer"
        },
        {
         "name": "seventeen",
         "rawType": "int64",
         "type": "integer"
        },
        {
         "name": "sighed",
         "rawType": "int64",
         "type": "integer"
        },
        {
         "name": "taken",
         "rawType": "int64",
         "type": "integer"
        },
        {
         "name": "thinking",
         "rawType": "int64",
         "type": "integer"
        },
        {
         "name": "prevent",
         "rawType": "int64",
         "type": "integer"
        },
        {
         "name": "bear",
         "rawType": "int64",
         "type": "integer"
        },
        {
         "name": "relation",
         "rawType": "int64",
         "type": "integer"
        },
        {
         "name": "drawn",
         "rawType": "int64",
         "type": "integer"
        },
        {
         "name": "hatred",
         "rawType": "int64",
         "type": "integer"
        },
        {
         "name": "sadness",
         "rawType": "int64",
         "type": "integer"
        },
        {
         "name": "appeared",
         "rawType": "int64",
         "type": "integer"
        },
        {
         "name": "coming",
         "rawType": "int64",
         "type": "integer"
        },
        {
         "name": "bag",
         "rawType": "int64",
         "type": "integer"
        },
        {
         "name": "wildly",
         "rawType": "int64",
         "type": "integer"
        },
        {
         "name": "trembling",
         "rawType": "int64",
         "type": "integer"
        },
        {
         "name": "wanted",
         "rawType": "int64",
         "type": "integer"
        },
        {
         "name": "reprimanded",
         "rawType": "int64",
         "type": "integer"
        },
        {
         "name": "tonight",
         "rawType": "int64",
         "type": "integer"
        },
        {
         "name": "knowing",
         "rawType": "int64",
         "type": "integer"
        },
        {
         "name": "begun",
         "rawType": "int64",
         "type": "integer"
        },
        {
         "name": "aloud",
         "rawType": "int64",
         "type": "integer"
        },
        {
         "name": "tune",
         "rawType": "int64",
         "type": "integer"
        },
        {
         "name": "singing",
         "rawType": "int64",
         "type": "integer"
        },
        {
         "name": "indeed",
         "rawType": "int64",
         "type": "integer"
        },
        {
         "name": "sitting",
         "rawType": "int64",
         "type": "integer"
        },
        {
         "name": "explained",
         "rawType": "int64",
         "type": "integer"
        },
        {
         "name": "belong",
         "rawType": "int64",
         "type": "integer"
        },
        {
         "name": "removing",
         "rawType": "int64",
         "type": "integer"
        },
        {
         "name": "bowed",
         "rawType": "int64",
         "type": "integer"
        },
        {
         "name": "dull",
         "rawType": "int64",
         "type": "integer"
        },
        {
         "name": "hunched",
         "rawType": "int64",
         "type": "integer"
        },
        {
         "name": "muscle",
         "rawType": "int64",
         "type": "integer"
        },
        {
         "name": "shrinking",
         "rawType": "int64",
         "type": "integer"
        },
        {
         "name": "shrink",
         "rawType": "int64",
         "type": "integer"
        },
        {
         "name": "hanging",
         "rawType": "int64",
         "type": "integer"
        },
        {
         "name": "pure",
         "rawType": "int64",
         "type": "integer"
        },
        {
         "name": "odor",
         "rawType": "int64",
         "type": "integer"
        },
        {
         "name": "betraying",
         "rawType": "int64",
         "type": "integer"
        },
        {
         "name": "suspicion",
         "rawType": "int64",
         "type": "integer"
        },
        {
         "name": "joy",
         "rawType": "int64",
         "type": "integer"
        },
        {
         "name": "glad",
         "rawType": "int64",
         "type": "integer"
        },
        {
         "name": "living",
         "rawType": "int64",
         "type": "integer"
        },
        {
         "name": "vice",
         "rawType": "int64",
         "type": "integer"
        },
        {
         "name": "virtue",
         "rawType": "int64",
         "type": "integer"
        },
        {
         "name": "fraternity",
         "rawType": "int64",
         "type": "integer"
        },
        {
         "name": "2-5503",
         "rawType": "int64",
         "type": "integer"
        },
        {
         "name": "quiet",
         "rawType": "int64",
         "type": "integer"
        },
        {
         "name": "kind",
         "rawType": "int64",
         "type": "integer"
        },
        {
         "name": "cry",
         "rawType": "int64",
         "type": "integer"
        },
        {
         "name": "midst",
         "rawType": "int64",
         "type": "integer"
        },
        {
         "name": "shake",
         "rawType": "int64",
         "type": "integer"
        },
        {
         "name": "sob",
         "rawType": "int64",
         "type": "integer"
        },
        {
         "name": "explain",
         "rawType": "int64",
         "type": "integer"
        },
        {
         "name": "solidarity",
         "rawType": "int64",
         "type": "integer"
        },
        {
         "name": "9-6347",
         "rawType": "int64",
         "type": "integer"
        },
        {
         "name": "scream",
         "rawType": "int64",
         "type": "integer"
        },
        {
         "name": "chill",
         "rawType": "int64",
         "type": "integer"
        },
        {
         "name": "undress",
         "rawType": "int64",
         "type": "integer"
        },
        {
         "name": "dim",
         "rawType": "int64",
         "type": "integer"
        },
        {
         "name": "agree",
         "rawType": "int64",
         "type": "integer"
        },
        {
         "name": "cleanliness",
         "rawType": "int64",
         "type": "integer"
        },
        {
         "name": "dignity",
         "rawType": "int64",
         "type": "integer"
        },
        {
         "name": "patch",
         "rawType": "int64",
         "type": "integer"
        },
        {
         "name": "explore",
         "rawType": "int64",
         "type": "integer"
        },
        {
         "name": "path",
         "rawType": "int64",
         "type": "integer"
        },
        {
         "name": "guard",
         "rawType": "int64",
         "type": "integer"
        },
        {
         "name": "escape",
         "rawType": "int64",
         "type": "integer"
        },
        {
         "name": "perish",
         "rawType": "int64",
         "type": "integer"
        },
        {
         "name": "hunger",
         "rawType": "int64",
         "type": "integer"
        },
        {
         "name": "claw",
         "rawType": "int64",
         "type": "integer"
        },
        {
         "name": "beast",
         "rawType": "int64",
         "type": "integer"
        },
        {
         "name": "roam",
         "rawType": "int64",
         "type": "integer"
        },
        {
         "name": "legend",
         "rawType": "int64",
         "type": "integer"
        },
        {
         "name": "land",
         "rawType": "int64",
         "type": "integer"
        },
        {
         "name": "ruin",
         "rawType": "int64",
         "type": "integer"
        },
        {
         "name": "swallowed",
         "rawType": "int64",
         "type": "integer"
        },
        {
         "name": "perished",
         "rawType": "int64",
         "type": "integer"
        },
        {
         "name": "fighting",
         "rawType": "int64",
         "type": "integer"
        },
        {
         "name": "conquered",
         "rawType": "int64",
         "type": "integer"
        },
        {
         "name": "raged",
         "rawType": "int64",
         "type": "integer"
        },
        {
         "name": "dawn",
         "rawType": "int64",
         "type": "integer"
        },
        {
         "name": "mountain",
         "rawType": "int64",
         "type": "integer"
        },
        {
         "name": "square",
         "rawType": "int64",
         "type": "integer"
        },
        {
         "name": "month",
         "rawType": "int64",
         "type": "integer"
        },
        {
         "name": "language",
         "rawType": "int64",
         "type": "integer"
        },
        {
         "name": "unspeakable",
         "rawType": "int64",
         "type": "integer"
        },
        {
         "name": "somewhere",
         "rawType": "int64",
         "type": "integer"
        },
        {
         "name": "scrap",
         "rawType": "int64",
         "type": "integer"
        },
        {
         "name": "fragment",
         "rawType": "int64",
         "type": "integer"
        },
        {
         "name": "stayed",
         "rawType": "int64",
         "type": "integer"
        },
        {
         "name": "haunt",
         "rawType": "int64",
         "type": "integer"
        },
        {
         "name": "follows",
         "rawType": "int64",
         "type": "integer"
        },
        {
         "name": "behold",
         "rawType": "int64",
         "type": "integer"
        },
        {
         "name": "burning",
         "rawType": "int64",
         "type": "integer"
        },
        {
         "name": "transgressor",
         "rawType": "int64",
         "type": "integer"
        },
        {
         "name": "led",
         "rawType": "int64",
         "type": "integer"
        },
        {
         "name": "pyre",
         "rawType": "int64",
         "type": "integer"
        },
        {
         "name": "torn",
         "rawType": "int64",
         "type": "integer"
        },
        {
         "name": "tongue",
         "rawType": "int64",
         "type": "integer"
        },
        {
         "name": "young",
         "rawType": "int64",
         "type": "integer"
        },
        {
         "name": "gold",
         "rawType": "int64",
         "type": "integer"
        },
        {
         "name": "falter",
         "rawType": "int64",
         "type": "integer"
        },
        {
         "name": "shrieked",
         "rawType": "int64",
         "type": "integer"
        },
        {
         "name": "screamed",
         "rawType": "int64",
         "type": "integer"
        },
        {
         "name": "spat",
         "rawType": "int64",
         "type": "integer"
        },
        {
         "name": "calmest",
         "rawType": "int64",
         "type": "integer"
        },
        {
         "name": "happiest",
         "rawType": "int64",
         "type": "integer"
        },
        {
         "name": "chain",
         "rawType": "int64",
         "type": "integer"
        },
        {
         "name": "wound",
         "rawType": "int64",
         "type": "integer"
        },
        {
         "name": "stake",
         "rawType": "int64",
         "type": "integer"
        },
        {
         "name": "set",
         "rawType": "int64",
         "type": "integer"
        },
        {
         "name": "running",
         "rawType": "int64",
         "type": "integer"
        },
        {
         "name": "corner",
         "rawType": "int64",
         "type": "integer"
        },
        {
         "name": "smiling",
         "rawType": "int64",
         "type": "integer"
        },
        {
         "name": "monstrous",
         "rawType": "int64",
         "type": "integer"
        },
        {
         "name": "saint",
         "rawType": "int64",
         "type": "integer"
        },
        {
         "name": "labor",
         "rawType": "int64",
         "type": "integer"
        },
        {
         "name": "likeness",
         "rawType": "int64",
         "type": "integer"
        },
        {
         "name": "perhaps",
         "rawType": "int64",
         "type": "integer"
        },
        {
         "name": "chosen",
         "rawType": "int64",
         "type": "integer"
        },
        {
         "name": "crowd",
         "rawType": "int64",
         "type": "integer"
        },
        {
         "name": "agony",
         "rawType": "int64",
         "type": "integer"
        },
        {
         "name": "pride",
         "rawType": "int64",
         "type": "integer"
        },
        {
         "name": "holier",
         "rawType": "int64",
         "type": "integer"
        },
        {
         "name": "fit",
         "rawType": "int64",
         "type": "integer"
        },
        {
         "name": "trying",
         "rawType": "int64",
         "type": "integer"
        },
        {
         "name": "something",
         "rawType": "int64",
         "type": "integer"
        },
        {
         "name": "send",
         "rawType": "int64",
         "type": "integer"
        },
        {
         "name": "gather",
         "rawType": "int64",
         "type": "integer"
        },
        {
         "name": "therefore",
         "rawType": "int64",
         "type": "integer"
        },
        {
         "name": "blind",
         "rawType": "int64",
         "type": "integer"
        },
        {
         "name": "unknown",
         "rawType": "int64",
         "type": "integer"
        },
        {
         "name": "whence",
         "rawType": "int64",
         "type": "integer"
        },
        {
         "name": "worked",
         "rawType": "int64",
         "type": "integer"
        },
        {
         "name": "cutting",
         "rawType": "int64",
         "type": "integer"
        },
        {
         "name": "dead",
         "rawType": "int64",
         "type": "integer"
        },
        {
         "name": "frog",
         "rawType": "int64",
         "type": "integer"
        },
        {
         "name": "jerking",
         "rawType": "int64",
         "type": "integer"
        },
        {
         "name": "making",
         "rawType": "int64",
         "type": "integer"
        },
        {
         "name": "test",
         "rawType": "int64",
         "type": "integer"
        },
        {
         "name": "wire",
         "rawType": "int64",
         "type": "integer"
        },
        {
         "name": "copper",
         "rawType": "int64",
         "type": "integer"
        },
        {
         "name": "brine",
         "rawType": "int64",
         "type": "integer"
        },
        {
         "name": "zinc",
         "rawType": "int64",
         "type": "integer"
        },
        {
         "name": "jar",
         "rawType": "int64",
         "type": "integer"
        },
        {
         "name": "occurred",
         "rawType": "int64",
         "type": "integer"
        },
        {
         "name": "haunted",
         "rawType": "int64",
         "type": "integer"
        },
        {
         "name": "tested",
         "rawType": "int64",
         "type": "integer"
        },
        {
         "name": "describe",
         "rawType": "int64",
         "type": "integer"
        },
        {
         "name": "unveiling",
         "rawType": "int64",
         "type": "integer"
        },
        {
         "name": "defies",
         "rawType": "int64",
         "type": "integer"
        },
        {
         "name": "needle",
         "rawType": "int64",
         "type": "integer"
        },
        {
         "name": "compass",
         "rawType": "int64",
         "type": "integer"
        },
        {
         "name": "loadstone",
         "rawType": "int64",
         "type": "integer"
        },
        {
         "name": "point",
         "rawType": "int64",
         "type": "integer"
        },
        {
         "name": "lightning",
         "rawType": "int64",
         "type": "integer"
        },
        {
         "name": "thunderstorm",
         "rawType": "int64",
         "type": "integer"
        },
        {
         "name": "rod",
         "rawType": "int64",
         "type": "integer"
        },
        {
         "name": "strike",
         "rawType": "int64",
         "type": "integer"
        },
        {
         "name": "length",
         "rawType": "int64",
         "type": "integer"
        },
        {
         "name": "lighting",
         "rawType": "int64",
         "type": "integer"
        },
        {
         "name": "mile",
         "rawType": "int64",
         "type": "integer"
        },
        {
         "name": "fallen",
         "rawType": "int64",
         "type": "integer"
        },
        {
         "name": "box",
         "rawType": "int64",
         "type": "integer"
        },
        {
         "name": "inside",
         "rawType": "int64",
         "type": "integer"
        },
        {
         "name": "strand",
         "rawType": "int64",
         "type": "integer"
        },
        {
         "name": "coil",
         "rawType": "int64",
         "type": "integer"
        },
        {
         "name": "globe",
         "rawType": "int64",
         "type": "integer"
        },
        {
         "name": "contained",
         "rawType": "int64",
         "type": "integer"
        },
        {
         "name": "thinner",
         "rawType": "int64",
         "type": "integer"
        },
        {
         "name": "spider",
         "rawType": "int64",
         "type": "integer"
        },
        {
         "name": "web",
         "rawType": "int64",
         "type": "integer"
        },
        {
         "name": "frightens",
         "rawType": "int64",
         "type": "integer"
        },
        {
         "name": "posse",
         "rawType": "int64",
         "type": "integer"
        },
        {
         "name": "saying",
         "rawType": "int64",
         "type": "integer"
        },
        {
         "name": "travel",
         "rawType": "int64",
         "type": "integer"
        },
        {
         "name": "spread",
         "rawType": "int64",
         "type": "integer"
        },
        {
         "name": "lay",
         "rawType": "int64",
         "type": "integer"
        },
        {
         "name": "dust",
         "rawType": "int64",
         "type": "integer"
        },
        {
         "name": "glow",
         "rawType": "int64",
         "type": "integer"
        },
        {
         "name": "tarried",
         "rawType": "int64",
         "type": "integer"
        },
        {
         "name": "unconquered",
         "rawType": "int64",
         "type": "integer"
        },
        {
         "name": "yes",
         "rawType": "int64",
         "type": "integer"
        },
        {
         "name": "dearest",
         "rawType": "int64",
         "type": "integer"
        },
        {
         "name": "delivered",
         "rawType": "int64",
         "type": "integer"
        },
        {
         "name": "submission",
         "rawType": "int64",
         "type": "integer"
        },
        {
         "name": "simply",
         "rawType": "int64",
         "type": "integer"
        },
        {
         "name": "gently",
         "rawType": "int64",
         "type": "integer"
        },
        {
         "name": "anxiety",
         "rawType": "int64",
         "type": "integer"
        },
        {
         "name": "hot",
         "rawType": "int64",
         "type": "integer"
        },
        {
         "name": "cooler",
         "rawType": "int64",
         "type": "integer"
        },
        {
         "name": "drink",
         "rawType": "int64",
         "type": "integer"
        },
        {
         "name": "cross",
         "rawType": "int64",
         "type": "integer"
        },
        {
         "name": "drank",
         "rawType": "int64",
         "type": "integer"
        },
        {
         "name": "holding",
         "rawType": "int64",
         "type": "integer"
        },
        {
         "name": "afraid",
         "rawType": "int64",
         "type": "integer"
        },
        {
         "name": "stepping",
         "rawType": "int64",
         "type": "integer"
        },
        {
         "name": "bent",
         "rawType": "int64",
         "type": "integer"
        },
        {
         "name": "lower",
         "rawType": "int64",
         "type": "integer"
        },
        {
         "name": "created",
         "rawType": "int64",
         "type": "integer"
        },
        {
         "name": "reeling",
         "rawType": "int64",
         "type": "integer"
        },
        {
         "name": "anything",
         "rawType": "int64",
         "type": "integer"
        },
        {
         "name": "trial",
         "rawType": "int64",
         "type": "integer"
        },
        {
         "name": "finished",
         "rawType": "int64",
         "type": "integer"
        },
        {
         "name": "building",
         "rawType": "int64",
         "type": "integer"
        },
        {
         "name": "remains",
         "rawType": "int64",
         "type": "integer"
        },
        {
         "name": "devised",
         "rawType": "int64",
         "type": "integer"
        },
        {
         "name": "achieved",
         "rawType": "int64",
         "type": "integer"
        },
        {
         "name": "current",
         "rawType": "int64",
         "type": "integer"
        },
        {
         "name": "red",
         "rawType": "int64",
         "type": "integer"
        },
        {
         "name": "conceive",
         "rawType": "int64",
         "type": "integer"
        },
        {
         "name": "nowhere",
         "rawType": "int64",
         "type": "integer"
        },
        {
         "name": "blew",
         "rawType": "int64",
         "type": "integer"
        },
        {
         "name": "crack",
         "rawType": "int64",
         "type": "integer"
        },
        {
         "name": "prison",
         "rawType": "int64",
         "type": "integer"
        },
        {
         "name": "moment",
         "rawType": "int64",
         "type": "integer"
        },
        {
         "name": "existed",
         "rawType": "int64",
         "type": "integer"
        },
        {
         "name": "abyss",
         "rawType": "int64",
         "type": "integer"
        },
        {
         "name": "cleaner",
         "rawType": "int64",
         "type": "integer"
        },
        {
         "name": "brighter",
         "rawType": "int64",
         "type": "integer"
        },
        {
         "name": "bidding",
         "rawType": "int64",
         "type": "integer"
        },
        {
         "name": "limit",
         "rawType": "int64",
         "type": "integer"
        },
        {
         "name": "grant",
         "rawType": "int64",
         "type": "integer"
        },
        {
         "name": "sweeping",
         "rawType": "int64",
         "type": "integer"
        },
        {
         "name": "buried",
         "rawType": "int64",
         "type": "integer"
        },
        {
         "name": "room",
         "rawType": "int64",
         "type": "integer"
        },
        {
         "name": "want",
         "rawType": "int64",
         "type": "integer"
        },
        {
         "name": "joined",
         "rawType": "int64",
         "type": "integer"
        },
        {
         "name": "meet",
         "rawType": "int64",
         "type": "integer"
        },
        {
         "name": "wisest",
         "rawType": "int64",
         "type": "integer"
        },
        {
         "name": "forgive",
         "rawType": "int64",
         "type": "integer"
        },
        {
         "name": "neither",
         "rawType": "int64",
         "type": "integer"
        },
        {
         "name": "offered",
         "rawType": "int64",
         "type": "integer"
        },
        {
         "name": "wait",
         "rawType": "int64",
         "type": "integer"
        },
        {
         "name": "guarded",
         "rawType": "int64",
         "type": "integer"
        },
        {
         "name": "working",
         "rawType": "int64",
         "type": "integer"
        },
        {
         "name": "destroy",
         "rawType": "int64",
         "type": "integer"
        },
        {
         "name": "vein",
         "rawType": "int64",
         "type": "integer"
        },
        {
         "name": "divide",
         "rawType": "int64",
         "type": "integer"
        },
        {
         "name": "stretch",
         "rawType": "int64",
         "type": "integer"
        },
        {
         "name": "concern",
         "rawType": "int64",
         "type": "integer"
        },
        {
         "name": "fathom",
         "rawType": "int64",
         "type": "integer"
        },
        {
         "name": "possible",
         "rawType": "int64",
         "type": "integer"
        },
        {
         "name": "person",
         "rawType": "int64",
         "type": "integer"
        },
        {
         "name": "thirty",
         "rawType": "int64",
         "type": "integer"
        },
        {
         "name": "caught",
         "rawType": "int64",
         "type": "integer"
        },
        {
         "name": "wrote",
         "rawType": "int64",
         "type": "integer"
        },
        {
         "name": "forgot",
         "rawType": "int64",
         "type": "integer"
        },
        {
         "name": "watch",
         "rawType": "int64",
         "type": "integer"
        },
        {
         "name": "hastened",
         "rawType": "int64",
         "type": "integer"
        },
        {
         "name": "questioned",
         "rawType": "int64",
         "type": "integer"
        },
        {
         "name": "curiosity",
         "rawType": "int64",
         "type": "integer"
        },
        {
         "name": "anger",
         "rawType": "int64",
         "type": "integer"
        },
        {
         "name": "youngest",
         "rawType": "int64",
         "type": "integer"
        },
        {
         "name": "bored",
         "rawType": "int64",
         "type": "integer"
        },
        {
         "name": "post",
         "rawType": "int64",
         "type": "integer"
        },
        {
         "name": "naked",
         "rawType": "int64",
         "type": "integer"
        },
        {
         "name": "leather",
         "rawType": "int64",
         "type": "integer"
        },
        {
         "name": "apron",
         "rawType": "int64",
         "type": "integer"
        },
        {
         "name": "hood",
         "rawType": "int64",
         "type": "integer"
        },
        {
         "name": "departed",
         "rawType": "int64",
         "type": "integer"
        },
        {
         "name": "leaving",
         "rawType": "int64",
         "type": "integer"
        },
        {
         "name": "judge",
         "rawType": "int64",
         "type": "integer"
        },
        {
         "name": "small",
         "rawType": "int64",
         "type": "integer"
        },
        {
         "name": "signal",
         "rawType": "int64",
         "type": "integer"
        },
        {
         "name": "hooded",
         "rawType": "int64",
         "type": "integer"
        },
        {
         "name": "tore",
         "rawType": "int64",
         "type": "integer"
        },
        {
         "name": "clothes",
         "rawType": "int64",
         "type": "integer"
        },
        {
         "name": "knee",
         "rawType": "int64",
         "type": "integer"
        },
        {
         "name": "tied",
         "rawType": "int64",
         "type": "integer"
        },
        {
         "name": "spine",
         "rawType": "int64",
         "type": "integer"
        },
        {
         "name": "struck",
         "rawType": "int64",
         "type": "integer"
        },
        {
         "name": "throat",
         "rawType": "int64",
         "type": "integer"
        },
        {
         "name": "ran",
         "rawType": "int64",
         "type": "integer"
        },
        {
         "name": "lung",
         "rawType": "int64",
         "type": "integer"
        },
        {
         "name": "whistled",
         "rawType": "int64",
         "type": "integer"
        },
        {
         "name": "flaming",
         "rawType": "int64",
         "type": "integer"
        },
        {
         "name": "dancing",
         "rawType": "int64",
         "type": "integer"
        },
        {
         "name": "door",
         "rawType": "int64",
         "type": "integer"
        },
        {
         "name": "crossing",
         "rawType": "int64",
         "type": "integer"
        },
        {
         "name": "re-crossing",
         "rawType": "int64",
         "type": "integer"
        },
        {
         "name": "flesh",
         "rawType": "int64",
         "type": "integer"
        },
        {
         "name": "fist",
         "rawType": "int64",
         "type": "integer"
        },
        {
         "name": "knocked",
         "rawType": "int64",
         "type": "integer"
        },
        {
         "name": "chin",
         "rawType": "int64",
         "type": "integer"
        },
        {
         "name": "withered",
         "rawType": "int64",
         "type": "integer"
        },
        {
         "name": "jerked",
         "rawType": "int64",
         "type": "integer"
        },
        {
         "name": "hid",
         "rawType": "int64",
         "type": "integer"
        },
        {
         "name": "wondered",
         "rawType": "int64",
         "type": "integer"
        },
        {
         "name": "sprinkling",
         "rawType": "int64",
         "type": "integer"
        },
        {
         "name": "floor",
         "rawType": "int64",
         "type": "integer"
        },
        {
         "name": "twinkling",
         "rawType": "int64",
         "type": "integer"
        },
        {
         "name": "snarling",
         "rawType": "int64",
         "type": "integer"
        },
        {
         "name": "steadily",
         "rawType": "int64",
         "type": "integer"
        },
        {
         "name": "minute",
         "rawType": "int64",
         "type": "integer"
        },
        {
         "name": "trickled",
         "rawType": "int64",
         "type": "integer"
        },
        {
         "name": "opened",
         "rawType": "int64",
         "type": "integer"
        },
        {
         "name": "lying",
         "rawType": "int64",
         "type": "integer"
        },
        {
         "name": "cell",
         "rawType": "int64",
         "type": "integer"
        },
        {
         "name": "betrayed",
         "rawType": "int64",
         "type": "integer"
        },
        {
         "name": "bread",
         "rawType": "int64",
         "type": "integer"
        },
        {
         "name": "humblest",
         "rawType": "int64",
         "type": "integer"
        },
        {
         "name": "honored",
         "rawType": "int64",
         "type": "integer"
        },
        {
         "name": "shook",
         "rawType": "int64",
         "type": "integer"
        },
        {
         "name": "counted",
         "rawType": "int64",
         "type": "integer"
        },
        {
         "name": "tomorrow",
         "rawType": "int64",
         "type": "integer"
        },
        {
         "name": "lock",
         "rawType": "int64",
         "type": "integer"
        },
        {
         "name": "whatever",
         "rawType": "int64",
         "type": "integer"
        },
        {
         "name": "ordered",
         "rawType": "int64",
         "type": "integer"
        },
        {
         "name": "healthy",
         "rawType": "int64",
         "type": "integer"
        },
        {
         "name": "speedily",
         "rawType": "int64",
         "type": "integer"
        },
        {
         "name": "lunged",
         "rawType": "int64",
         "type": "integer"
        },
        {
         "name": "passage",
         "rawType": "int64",
         "type": "integer"
        },
        {
         "name": "scar",
         "rawType": "int64",
         "type": "integer"
        },
        {
         "name": "confession",
         "rawType": "int64",
         "type": "integer"
        },
        {
         "name": "page",
         "rawType": "int64",
         "type": "integer"
        },
        {
         "name": "join",
         "rawType": "int64",
         "type": "integer"
        },
        {
         "name": "glory",
         "rawType": "int64",
         "type": "integer"
        },
        {
         "name": "blessing",
         "rawType": "int64",
         "type": "integer"
        },
        {
         "name": "outcast",
         "rawType": "int64",
         "type": "integer"
        },
        {
         "name": "rustle",
         "rawType": "int64",
         "type": "integer"
        },
        {
         "name": "moss",
         "rawType": "int64",
         "type": "integer"
        },
        {
         "name": "soft",
         "rawType": "int64",
         "type": "integer"
        },
        {
         "name": "warm",
         "rawType": "int64",
         "type": "integer"
        },
        {
         "name": "future",
         "rawType": "int64",
         "type": "integer"
        },
        {
         "name": "gate",
         "rawType": "int64",
         "type": "integer"
        },
        {
         "name": "solemn",
         "rawType": "int64",
         "type": "integer"
        },
        {
         "name": "entered",
         "rawType": "int64",
         "type": "integer"
        },
        {
         "name": "shapeless",
         "rawType": "int64",
         "type": "integer"
        },
        {
         "name": "cloud",
         "rawType": "int64",
         "type": "integer"
        },
        {
         "name": "huddled",
         "rawType": "int64",
         "type": "integer"
        },
        {
         "name": "rise",
         "rawType": "int64",
         "type": "integer"
        },
        {
         "name": "famous",
         "rawType": "int64",
         "type": "integer"
        },
        {
         "name": "distant",
         "rawType": "int64",
         "type": "integer"
        },
        {
         "name": "painting",
         "rawType": "int64",
         "type": "integer"
        },
        {
         "name": "illustrious",
         "rawType": "int64",
         "type": "integer"
        },
        {
         "name": "invented",
         "rawType": "int64",
         "type": "integer"
        },
        {
         "name": "stained",
         "rawType": "int64",
         "type": "integer"
        },
        {
         "name": "brown",
         "rawType": "int64",
         "type": "integer"
        },
        {
         "name": "stain",
         "rawType": "int64",
         "type": "integer"
        },
        {
         "name": "greeting",
         "rawType": "int64",
         "type": "integer"
        },
        {
         "name": "0-0009",
         "rawType": "int64",
         "type": "integer"
        },
        {
         "name": "angry",
         "rawType": "int64",
         "type": "integer"
        },
        {
         "name": "believed",
         "rawType": "int64",
         "type": "integer"
        },
        {
         "name": "rule",
         "rawType": "int64",
         "type": "integer"
        },
        {
         "name": "hold",
         "rawType": "int64",
         "type": "integer"
        },
        {
         "name": "listened",
         "rawType": "int64",
         "type": "integer"
        },
        {
         "name": "placed",
         "rawType": "int64",
         "type": "integer"
        },
        {
         "name": "flush",
         "rawType": "int64",
         "type": "integer"
        },
        {
         "name": "terror",
         "rawType": "int64",
         "type": "integer"
        },
        {
         "name": "leapt",
         "rawType": "int64",
         "type": "integer"
        },
        {
         "name": "pressed",
         "rawType": "int64",
         "type": "integer"
        },
        {
         "name": "seeking",
         "rawType": "int64",
         "type": "integer"
        },
        {
         "name": "warmth",
         "rawType": "int64",
         "type": "integer"
        },
        {
         "name": "courage",
         "rawType": "int64",
         "type": "integer"
        },
        {
         "name": "laughed",
         "rawType": "int64",
         "type": "integer"
        },
        {
         "name": "tamed",
         "rawType": "int64",
         "type": "integer"
        },
        {
         "name": "cried",
         "rawType": "int64",
         "type": "integer"
        },
        {
         "name": "key",
         "rawType": "int64",
         "type": "integer"
        },
        {
         "name": "harness",
         "rawType": "int64",
         "type": "integer"
        },
        {
         "name": "ease",
         "rawType": "int64",
         "type": "integer"
        },
        {
         "name": "throw",
         "rawType": "int64",
         "type": "integer"
        },
        {
         "name": "torch",
         "rawType": "int64",
         "type": "integer"
        },
        {
         "name": "flood",
         "rawType": "int64",
         "type": "integer"
        },
        {
         "name": "boast",
         "rawType": "int64",
         "type": "integer"
        },
        {
         "name": "infamy",
         "rawType": "int64",
         "type": "integer"
        },
        {
         "name": "decreed",
         "rawType": "int64",
         "type": "integer"
        },
        {
         "name": "use",
         "rawType": "int64",
         "type": "integer"
        },
        {
         "name": "gutter",
         "rawType": "int64",
         "type": "integer"
        },
        {
         "name": "9-3452",
         "rawType": "int64",
         "type": "integer"
        },
        {
         "name": "democracy",
         "rawType": "int64",
         "type": "integer"
        },
        {
         "name": "4-6998",
         "rawType": "int64",
         "type": "integer"
        },
        {
         "name": "unanimity",
         "rawType": "int64",
         "type": "integer"
        },
        {
         "name": "7-3304",
         "rawType": "int64",
         "type": "integer"
        },
        {
         "name": "decide",
         "rawType": "int64",
         "type": "integer"
        },
        {
         "name": "deliver",
         "rawType": "int64",
         "type": "integer"
        },
        {
         "name": "creature",
         "rawType": "int64",
         "type": "integer"
        },
        {
         "name": "pleaded",
         "rawType": "int64",
         "type": "integer"
        },
        {
         "name": "1-5537",
         "rawType": "int64",
         "type": "integer"
        },
        {
         "name": "idea",
         "rawType": "int64",
         "type": "integer"
        },
        {
         "name": "past",
         "rawType": "int64",
         "type": "integer"
        },
        {
         "name": "8-1164",
         "rawType": "int64",
         "type": "integer"
        },
        {
         "name": "majority",
         "rawType": "int64",
         "type": "integer"
        },
        {
         "name": "voted",
         "rawType": "int64",
         "type": "integer"
        },
        {
         "name": "abandoned",
         "rawType": "int64",
         "type": "integer"
        },
        {
         "name": "alliance",
         "rawType": "int64",
         "type": "integer"
        },
        {
         "name": "6-7349",
         "rawType": "int64",
         "type": "integer"
        },
        {
         "name": "claim",
         "rawType": "int64",
         "type": "integer"
        },
        {
         "name": "harmony",
         "rawType": "int64",
         "type": "integer"
        },
        {
         "name": "9-2642",
         "rawType": "int64",
         "type": "integer"
        },
        {
         "name": "department",
         "rawType": "int64",
         "type": "integer"
        },
        {
         "name": "boon",
         "rawType": "int64",
         "type": "integer"
        },
        {
         "name": "approved",
         "rawType": "int64",
         "type": "integer"
        },
        {
         "name": "destroyed",
         "rawType": "int64",
         "type": "integer"
        },
        {
         "name": "whim",
         "rawType": "int64",
         "type": "integer"
        },
        {
         "name": "wreck",
         "rawType": "int64",
         "type": "integer"
        },
        {
         "name": "plan",
         "rawType": "int64",
         "type": "integer"
        },
        {
         "name": "2-9913",
         "rawType": "int64",
         "type": "integer"
        },
        {
         "name": "fifty",
         "rawType": "int64",
         "type": "integer"
        },
        {
         "name": "secure",
         "rawType": "int64",
         "type": "integer"
        },
        {
         "name": "approval",
         "rawType": "int64",
         "type": "integer"
        },
        {
         "name": "number",
         "rawType": "int64",
         "type": "integer"
        },
        {
         "name": "re-fit",
         "rawType": "int64",
         "type": "integer"
        },
        {
         "name": "instead",
         "rawType": "int64",
         "type": "integer"
        },
        {
         "name": "alter",
         "rawType": "int64",
         "type": "integer"
        },
        {
         "name": "lighten",
         "rawType": "int64",
         "type": "integer"
        },
        {
         "name": "similarity",
         "rawType": "int64",
         "type": "integer"
        },
        {
         "name": "5-0306",
         "rawType": "int64",
         "type": "integer"
        },
        {
         "name": "toiling",
         "rawType": "int64",
         "type": "integer"
        },
        {
         "name": "seized",
         "rawType": "int64",
         "type": "integer"
        },
        {
         "name": "shoved",
         "rawType": "int64",
         "type": "integer"
        },
        {
         "name": "aside",
         "rawType": "int64",
         "type": "integer"
        },
        {
         "name": "rage",
         "rawType": "int64",
         "type": "integer"
        },
        {
         "name": "choked",
         "rawType": "int64",
         "type": "integer"
        },
        {
         "name": "fool",
         "rawType": "int64",
         "type": "integer"
        },
        {
         "name": "thrice-damned",
         "rawType": "int64",
         "type": "integer"
        },
        {
         "name": "swung",
         "rawType": "int64",
         "type": "integer"
        },
        {
         "name": "windowpane",
         "rawType": "int64",
         "type": "integer"
        },
        {
         "name": "ringing",
         "rawType": "int64",
         "type": "integer"
        },
        {
         "name": "blindly",
         "rawType": "int64",
         "type": "integer"
        },
        {
         "name": "streaked",
         "rawType": "int64",
         "type": "integer"
        },
        {
         "name": "torrent",
         "rawType": "int64",
         "type": "integer"
        },
        {
         "name": "leaping",
         "rawType": "int64",
         "type": "integer"
        },
        {
         "name": "waited",
         "rawType": "int64",
         "type": "integer"
        },
        {
         "name": "going",
         "rawType": "int64",
         "type": "integer"
        },
        {
         "name": "taller",
         "rawType": "int64",
         "type": "integer"
        },
        {
         "name": "beside",
         "rawType": "int64",
         "type": "integer"
        },
        {
         "name": "mattered",
         "rawType": "int64",
         "type": "integer"
        },
        {
         "name": "disposes",
         "rawType": "int64",
         "type": "integer"
        },
        {
         "name": "victim",
         "rawType": "int64",
         "type": "integer"
        },
        {
         "name": "either",
         "rawType": "int64",
         "type": "integer"
        },
        {
         "name": "doomed",
         "rawType": "int64",
         "type": "integer"
        },
        {
         "name": "corruption",
         "rawType": "int64",
         "type": "integer"
        },
        {
         "name": "solitude",
         "rawType": "int64",
         "type": "integer"
        },
        {
         "name": "redemption",
         "rawType": "int64",
         "type": "integer"
        },
        {
         "name": "tired",
         "rawType": "int64",
         "type": "integer"
        },
        {
         "name": "lied",
         "rawType": "int64",
         "type": "integer"
        },
        {
         "name": "sake",
         "rawType": "int64",
         "type": "integer"
        },
        {
         "name": "fang",
         "rawType": "int64",
         "type": "integer"
        },
        {
         "name": "awaiting",
         "rawType": "int64",
         "type": "integer"
        },
        {
         "name": "best",
         "rawType": "int64",
         "type": "integer"
        },
        {
         "name": "bore",
         "rawType": "int64",
         "type": "integer"
        },
        {
         "name": "ray",
         "rawType": "int64",
         "type": "integer"
        },
        {
         "name": "sunlight",
         "rawType": "int64",
         "type": "integer"
        },
        {
         "name": "across",
         "rawType": "int64",
         "type": "integer"
        },
        {
         "name": "leap",
         "rawType": "int64",
         "type": "integer"
        },
        {
         "name": "rung",
         "rawType": "int64",
         "type": "integer"
        },
        {
         "name": "anywhere",
         "rawType": "int64",
         "type": "integer"
        },
        {
         "name": "rippled",
         "rawType": "int64",
         "type": "integer"
        },
        {
         "name": "flowing",
         "rawType": "int64",
         "type": "integer"
        },
        {
         "name": "sense",
         "rawType": "int64",
         "type": "integer"
        },
        {
         "name": "risen",
         "rawType": "int64",
         "type": "integer"
        },
        {
         "name": "whirled",
         "rawType": "int64",
         "type": "integer"
        },
        {
         "name": "bush",
         "rawType": "int64",
         "type": "integer"
        },
        {
         "name": "branch",
         "rawType": "int64",
         "type": "integer"
        },
        {
         "name": "aim",
         "rawType": "int64",
         "type": "integer"
        },
        {
         "name": "snapped",
         "rawType": "int64",
         "type": "integer"
        },
        {
         "name": "cushion",
         "rawType": "int64",
         "type": "integer"
        },
        {
         "name": "rolled",
         "rawType": "int64",
         "type": "integer"
        },
        {
         "name": "laughing",
         "rawType": "int64",
         "type": "integer"
        },
        {
         "name": "swimming",
         "rawType": "int64",
         "type": "integer"
        },
        {
         "name": "wave",
         "rawType": "int64",
         "type": "integer"
        },
        {
         "name": "rising",
         "rawType": "int64",
         "type": "integer"
        },
        {
         "name": "flinging",
         "rawType": "int64",
         "type": "integer"
        },
        {
         "name": "spray",
         "rawType": "int64",
         "type": "integer"
        },
        {
         "name": "treetop",
         "rawType": "int64",
         "type": "integer"
        },
        {
         "name": "parted",
         "rawType": "int64",
         "type": "integer"
        },
        {
         "name": "song",
         "rawType": "int64",
         "type": "integer"
        },
        {
         "name": "bird",
         "rawType": "int64",
         "type": "integer"
        },
        {
         "name": "flying",
         "rawType": "int64",
         "type": "integer"
        },
        {
         "name": "footstep",
         "rawType": "int64",
         "type": "integer"
        },
        {
         "name": "picked",
         "rawType": "int64",
         "type": "integer"
        },
        {
         "name": "arrow",
         "rawType": "int64",
         "type": "integer"
        },
        {
         "name": "cooked",
         "rawType": "int64",
         "type": "integer"
        },
        {
         "name": "ate",
         "rawType": "int64",
         "type": "integer"
        },
        {
         "name": "tasted",
         "rawType": "int64",
         "type": "integer"
        },
        {
         "name": "satisfaction",
         "rawType": "int64",
         "type": "integer"
        },
        {
         "name": "food",
         "rawType": "int64",
         "type": "integer"
        },
        {
         "name": "obtain",
         "rawType": "int64",
         "type": "integer"
        },
        {
         "name": "hungry",
         "rawType": "int64",
         "type": "integer"
        },
        {
         "name": "eating",
         "rawType": "int64",
         "type": "integer"
        },
        {
         "name": "stream",
         "rawType": "int64",
         "type": "integer"
        },
        {
         "name": "upturned",
         "rawType": "int64",
         "type": "integer"
        },
        {
         "name": "pity",
         "rawType": "int64",
         "type": "integer"
        },
        {
         "name": "limb",
         "rawType": "int64",
         "type": "integer"
        },
        {
         "name": "trust",
         "rawType": "int64",
         "type": "integer"
        },
        {
         "name": "hollow",
         "rawType": "int64",
         "type": "integer"
        },
        {
         "name": "writing",
         "rawType": "int64",
         "type": "integer"
        },
        {
         "name": "hope",
         "rawType": "int64",
         "type": "integer"
        },
        {
         "name": "closer",
         "rawType": "int64",
         "type": "integer"
        },
        {
         "name": "gleam",
         "rawType": "int64",
         "type": "integer"
        },
        {
         "name": "swayed",
         "rawType": "int64",
         "type": "integer"
        },
        {
         "name": "gone",
         "rawType": "int64",
         "type": "integer"
        },
        {
         "name": "whole",
         "rawType": "int64",
         "type": "integer"
        },
        {
         "name": "weariness",
         "rawType": "int64",
         "type": "integer"
        },
        {
         "name": "wherever",
         "rawType": "int64",
         "type": "integer"
        },
        {
         "name": "danger",
         "rawType": "int64",
         "type": "integer"
        },
        {
         "name": "threatens",
         "rawType": "int64",
         "type": "integer"
        },
        {
         "name": "share",
         "rawType": "int64",
         "type": "integer"
        },
        {
         "name": "damnation",
         "rawType": "int64",
         "type": "integer"
        },
        {
         "name": "low",
         "rawType": "int64",
         "type": "integer"
        },
        {
         "name": "bitterness",
         "rawType": "int64",
         "type": "integer"
        },
        {
         "name": "granite",
         "rawType": "int64",
         "type": "integer"
        },
        {
         "name": "humble",
         "rawType": "int64",
         "type": "integer"
        },
        {
         "name": "cringe",
         "rawType": "int64",
         "type": "integer"
        },
        {
         "name": "blessed",
         "rawType": "int64",
         "type": "integer"
        },
        {
         "name": "please",
         "rawType": "int64",
         "type": "integer"
        },
        {
         "name": "raise",
         "rawType": "int64",
         "type": "integer"
        },
        {
         "name": "madness",
         "rawType": "int64",
         "type": "integer"
        },
        {
         "name": "breathed",
         "rawType": "int64",
         "type": "integer"
        },
        {
         "name": "moan",
         "rawType": "int64",
         "type": "integer"
        },
        {
         "name": "bond",
         "rawType": "int64",
         "type": "integer"
        },
        {
         "name": "ecstasy",
         "rawType": "int64",
         "type": "integer"
        },
        {
         "name": "granted",
         "rawType": "int64",
         "type": "integer"
        },
        {
         "name": "race",
         "rawType": "int64",
         "type": "integer"
        },
        {
         "name": "added",
         "rawType": "int64",
         "type": "integer"
        },
        {
         "name": "bow",
         "rawType": "int64",
         "type": "integer"
        },
        {
         "name": "kill",
         "rawType": "int64",
         "type": "integer"
        },
        {
         "name": "fruit",
         "rawType": "int64",
         "type": "integer"
        },
        {
         "name": "clearing",
         "rawType": "int64",
         "type": "integer"
        },
        {
         "name": "build",
         "rawType": "int64",
         "type": "integer"
        },
        {
         "name": "attack",
         "rawType": "int64",
         "type": "integer"
        },
        {
         "name": "smoulder",
         "rawType": "int64",
         "type": "integer"
        },
        {
         "name": "crown",
         "rawType": "int64",
         "type": "integer"
        },
        {
         "name": "jewel",
         "rawType": "int64",
         "type": "integer"
        },
        {
         "name": "smoke",
         "rawType": "int64",
         "type": "integer"
        },
        {
         "name": "moonlight",
         "rawType": "int64",
         "type": "integer"
        },
        {
         "name": "breast",
         "rawType": "int64",
         "type": "integer"
        },
        {
         "name": "enough",
         "rawType": "int64",
         "type": "integer"
        },
        {
         "name": "hasten",
         "rawType": "int64",
         "type": "integer"
        },
        {
         "name": "simple",
         "rawType": "int64",
         "type": "integer"
        },
        {
         "name": "puzzle",
         "rawType": "int64",
         "type": "integer"
        },
        {
         "name": "faster",
         "rawType": "int64",
         "type": "integer"
        },
        {
         "name": "curve",
         "rawType": "int64",
         "type": "integer"
        },
        {
         "name": "dew",
         "rawType": "int64",
         "type": "integer"
        },
        {
         "name": "glisten",
         "rawType": "int64",
         "type": "integer"
        },
        {
         "name": "approach",
         "rawType": "int64",
         "type": "integer"
        },
        {
         "name": "obediently",
         "rawType": "int64",
         "type": "integer"
        },
        {
         "name": "plea",
         "rawType": "int64",
         "type": "integer"
        },
        {
         "name": "bless",
         "rawType": "int64",
         "type": "integer"
        },
        {
         "name": "doubted",
         "rawType": "int64",
         "type": "integer"
        },
        {
         "name": "doubt",
         "rawType": "int64",
         "type": "integer"
        },
        {
         "name": "useful",
         "rawType": "int64",
         "type": "integer"
        },
        {
         "name": "toiled",
         "rawType": "int64",
         "type": "integer"
        },
        {
         "name": "shared",
         "rawType": "int64",
         "type": "integer"
        },
        {
         "name": "error",
         "rawType": "int64",
         "type": "integer"
        },
        {
         "name": "frightful",
         "rawType": "int64",
         "type": "integer"
        },
        {
         "name": "struggle",
         "rawType": "int64",
         "type": "integer"
        },
        {
         "name": "within",
         "rawType": "int64",
         "type": "integer"
        },
        {
         "name": "helplessly",
         "rawType": "int64",
         "type": "integer"
        },
        {
         "name": "halting",
         "rawType": "int64",
         "type": "integer"
        },
        {
         "name": "fled",
         "rawType": "int64",
         "type": "integer"
        },
        {
         "name": "vainly",
         "rawType": "int64",
         "type": "integer"
        },
        {
         "name": "pillow",
         "rawType": "int64",
         "type": "integer"
        },
        {
         "name": "sunrise",
         "rawType": "int64",
         "type": "integer"
        },
        {
         "name": "cliff",
         "rawType": "int64",
         "type": "integer"
        },
        {
         "name": "barren",
         "rawType": "int64",
         "type": "integer"
        },
        {
         "name": "peak",
         "rawType": "int64",
         "type": "integer"
        },
        {
         "name": "west",
         "rawType": "int64",
         "type": "integer"
        },
        {
         "name": "south",
         "rawType": "int64",
         "type": "integer"
        },
        {
         "name": "veil",
         "rawType": "int64",
         "type": "integer"
        },
        {
         "name": "marked",
         "rawType": "int64",
         "type": "integer"
        },
        {
         "name": "map",
         "rawType": "int64",
         "type": "integer"
        },
        {
         "name": "protected",
         "rawType": "int64",
         "type": "integer"
        },
        {
         "name": "climbed",
         "rawType": "int64",
         "type": "integer"
        },
        {
         "name": "goat",
         "rawType": "int64",
         "type": "integer"
        },
        {
         "name": "striking",
         "rawType": "int64",
         "type": "integer"
        },
        {
         "name": "stroke",
         "rawType": "int64",
         "type": "integer"
        },
        {
         "name": "died",
         "rawType": "int64",
         "type": "integer"
        },
        {
         "name": "sheer",
         "rawType": "int64",
         "type": "integer"
        },
        {
         "name": "unmoving",
         "rawType": "int64",
         "type": "integer"
        },
        {
         "name": "blinding",
         "rawType": "int64",
         "type": "integer"
        },
        {
         "name": "liquid",
         "rawType": "int64",
         "type": "integer"
        },
        {
         "name": "broad",
         "rawType": "int64",
         "type": "integer"
        },
        {
         "name": "summit",
         "rawType": "int64",
         "type": "integer"
        },
        {
         "name": "roof",
         "rawType": "int64",
         "type": "integer"
        },
        {
         "name": "unlike",
         "rawType": "int64",
         "type": "integer"
        },
        {
         "name": "weather",
         "rawType": "int64",
         "type": "integer"
        },
        {
         "name": "heavy",
         "rawType": "int64",
         "type": "integer"
        },
        {
         "name": "curtain",
         "rawType": "int64",
         "type": "integer"
        },
        {
         "name": "sunray",
         "rawType": "int64",
         "type": "integer"
        },
        {
         "name": "danced",
         "rawType": "int64",
         "type": "integer"
        },
        {
         "name": "color",
         "rawType": "int64",
         "type": "integer"
        },
        {
         "name": "everywhere",
         "rawType": "int64",
         "type": "integer"
        },
        {
         "name": "cobweb",
         "rawType": "int64",
         "type": "integer"
        },
        {
         "name": "awe",
         "rawType": "int64",
         "type": "integer"
        },
        {
         "name": "threshold",
         "rawType": "int64",
         "type": "integer"
        },
        {
         "name": "pass",
         "rawType": "int64",
         "type": "integer"
        },
        {
         "name": "understanding",
         "rawType": "int64",
         "type": "integer"
        },
        {
         "name": "gasped",
         "rawType": "int64",
         "type": "integer"
        },
        {
         "name": "crumbled",
         "rawType": "int64",
         "type": "integer"
        },
        {
         "name": "heavier",
         "rawType": "int64",
         "type": "integer"
        },
        {
         "name": "shelf",
         "rawType": "int64",
         "type": "integer"
        },
        {
         "name": "row",
         "rawType": "int64",
         "type": "integer"
        },
        {
         "name": "ceiling",
         "rawType": "int64",
         "type": "integer"
        },
        {
         "name": "shell",
         "rawType": "int64",
         "type": "integer"
        },
        {
         "name": "begin",
         "rawType": "int64",
         "type": "integer"
        },
        {
         "name": "journey",
         "rawType": "int64",
         "type": "integer"
        },
        {
         "name": "hearth",
         "rawType": "int64",
         "type": "integer"
        },
        {
         "name": "killed",
         "rawType": "int64",
         "type": "integer"
        },
        {
         "name": "pot",
         "rawType": "int64",
         "type": "integer"
        },
        {
         "name": "cooking",
         "rawType": "int64",
         "type": "integer"
        },
        {
         "name": "sank",
         "rawType": "int64",
         "type": "integer"
        },
        {
         "name": "asleep",
         "rawType": "int64",
         "type": "integer"
        },
        {
         "name": "amidst",
         "rawType": "int64",
         "type": "integer"
        },
        {
         "name": "bottle",
         "rawType": "int64",
         "type": "integer"
        },
        {
         "name": "flower",
         "rawType": "int64",
         "type": "integer"
        },
        {
         "name": "silk",
         "rawType": "int64",
         "type": "integer"
        },
        {
         "name": "lifted",
         "rawType": "int64",
         "type": "integer"
        },
        {
         "name": "asks",
         "rawType": "int64",
         "type": "integer"
        },
        {
         "name": "sign",
         "rawType": "int64",
         "type": "integer"
        },
        {
         "name": "commandment",
         "rawType": "int64",
         "type": "integer"
        },
        {
         "name": "deed",
         "rawType": "int64",
         "type": "integer"
        },
        {
         "name": "expects",
         "rawType": "int64",
         "type": "integer"
        },
        {
         "name": "witness",
         "rawType": "int64",
         "type": "integer"
        },
        {
         "name": "goal",
         "rawType": "int64",
         "type": "integer"
        },
        {
         "name": "highest",
         "rawType": "int64",
         "type": "integer"
        },
        {
         "name": "space",
         "rawType": "int64",
         "type": "integer"
        },
        {
         "name": "beg",
         "rawType": "int64",
         "type": "integer"
        },
        {
         "name": "guidance",
         "rawType": "int64",
         "type": "integer"
        },
        {
         "name": "answering",
         "rawType": "int64",
         "type": "integer"
        },
        {
         "name": "century",
         "rawType": "int64",
         "type": "integer"
        },
        {
         "name": "reverence",
         "rawType": "int64",
         "type": "integer"
        },
        {
         "name": "reveal",
         "rawType": "int64",
         "type": "integer"
        },
        {
         "name": "although",
         "rawType": "int64",
         "type": "integer"
        },
        {
         "name": "endeavoring",
         "rawType": "int64",
         "type": "integer"
        },
        {
         "name": "mine",
         "rawType": "int64",
         "type": "integer"
        },
        {
         "name": "besides",
         "rawType": "int64",
         "type": "integer"
        },
        {
         "name": "lift",
         "rawType": "int64",
         "type": "integer"
        },
        {
         "name": "warrant",
         "rawType": "int64",
         "type": "integer"
        },
        {
         "name": "sanction",
         "rawType": "int64",
         "type": "integer"
        },
        {
         "name": "beauty",
         "rawType": "int64",
         "type": "integer"
        },
        {
         "name": "hearing",
         "rawType": "int64",
         "type": "integer"
        },
        {
         "name": "judgement",
         "rawType": "int64",
         "type": "integer"
        },
        {
         "name": "searchlight",
         "rawType": "int64",
         "type": "integer"
        },
        {
         "name": "chooses",
         "rawType": "int64",
         "type": "integer"
        },
        {
         "name": "choice",
         "rawType": "int64",
         "type": "integer"
        },
        {
         "name": "edict",
         "rawType": "int64",
         "type": "integer"
        },
        {
         "name": "respect",
         "rawType": "int64",
         "type": "integer"
        },
        {
         "name": "guiding",
         "rawType": "int64",
         "type": "integer"
        },
        {
         "name": "direction",
         "rawType": "int64",
         "type": "integer"
        },
        {
         "name": "core",
         "rawType": "int64",
         "type": "integer"
        },
        {
         "name": "universe",
         "rawType": "int64",
         "type": "integer"
        },
        {
         "name": "speck",
         "rawType": "int64",
         "type": "integer"
        },
        {
         "name": "eternity",
         "rawType": "int64",
         "type": "integer"
        },
        {
         "name": "happiness",
         "rawType": "int64",
         "type": "integer"
        },
        {
         "name": "vindicate",
         "rawType": "int64",
         "type": "integer"
        },
        {
         "name": "mean",
         "rawType": "int64",
         "type": "integer"
        },
        {
         "name": "accomplish",
         "rawType": "int64",
         "type": "integer"
        },
        {
         "name": "tool",
         "rawType": "int64",
         "type": "integer"
        },
        {
         "name": "servant",
         "rawType": "int64",
         "type": "integer"
        },
        {
         "name": "bandage",
         "rawType": "int64",
         "type": "integer"
        },
        {
         "name": "sacrifice",
         "rawType": "int64",
         "type": "integer"
        },
        {
         "name": "altar",
         "rawType": "int64",
         "type": "integer"
        },
        {
         "name": "kneel",
         "rawType": "int64",
         "type": "integer"
        },
        {
         "name": "treasure",
         "rawType": "int64",
         "type": "integer"
        },
        {
         "name": "fortune",
         "rawType": "int64",
         "type": "integer"
        },
        {
         "name": "coin",
         "rawType": "int64",
         "type": "integer"
        },
        {
         "name": "brass",
         "rawType": "int64",
         "type": "integer"
        },
        {
         "name": "flung",
         "rawType": "int64",
         "type": "integer"
        },
        {
         "name": "alms",
         "rawType": "int64",
         "type": "integer"
        },
        {
         "name": "poor",
         "rawType": "int64",
         "type": "integer"
        },
        {
         "name": "freedom",
         "rawType": "int64",
         "type": "integer"
        },
        {
         "name": "owe",
         "rawType": "int64",
         "type": "integer"
        },
        {
         "name": "debt",
         "rawType": "int64",
         "type": "integer"
        },
        {
         "name": "covet",
         "rawType": "int64",
         "type": "integer"
        },
        {
         "name": "soul",
         "rawType": "int64",
         "type": "integer"
        },
        {
         "name": "foe",
         "rawType": "int64",
         "type": "integer"
        },
        {
         "name": "deserve",
         "rawType": "int64",
         "type": "integer"
        },
        {
         "name": "earn",
         "rawType": "int64",
         "type": "integer"
        },
        {
         "name": "chance",
         "rawType": "int64",
         "type": "integer"
        },
        {
         "name": "passer-by",
         "rawType": "int64",
         "type": "integer"
        },
        {
         "name": "earned",
         "rawType": "int64",
         "type": "integer"
        },
        {
         "name": "slave",
         "rawType": "int64",
         "type": "integer"
        },
        {
         "name": "master",
         "rawType": "int64",
         "type": "integer"
        },
        {
         "name": "desire",
         "rawType": "int64",
         "type": "integer"
        },
        {
         "name": "untouched",
         "rawType": "int64",
         "type": "integer"
        },
        {
         "name": "undefiled",
         "rawType": "int64",
         "type": "integer"
        },
        {
         "name": "becomes",
         "rawType": "int64",
         "type": "integer"
        },
        {
         "name": "monster",
         "rawType": "int64",
         "type": "integer"
        },
        {
         "name": "torture",
         "rawType": "int64",
         "type": "integer"
        },
        {
         "name": "lime",
         "rawType": "int64",
         "type": "integer"
        },
        {
         "name": "poured",
         "rawType": "int64",
         "type": "integer"
        },
        {
         "name": "hardens",
         "rawType": "int64",
         "type": "integer"
        },
        {
         "name": "crush",
         "rawType": "int64",
         "type": "integer"
        },
        {
         "name": "beneath",
         "rawType": "int64",
         "type": "integer"
        },
        {
         "name": "equally",
         "rawType": "int64",
         "type": "integer"
        },
        {
         "name": "depraved",
         "rawType": "int64",
         "type": "integer"
        },
        {
         "name": "weak",
         "rawType": "int64",
         "type": "integer"
        },
        {
         "name": "sage",
         "rawType": "int64",
         "type": "integer"
        },
        {
         "name": "unclean",
         "rawType": "int64",
         "type": "integer"
        },
        {
         "name": "dictate",
         "rawType": "int64",
         "type": "integer"
        },
        {
         "name": "botched",
         "rawType": "int64",
         "type": "integer"
        },
        {
         "name": "impotent",
         "rawType": "int64",
         "type": "integer"
        },
        {
         "name": "creed",
         "rawType": "int64",
         "type": "integer"
        },
        {
         "name": "serfdom",
         "rawType": "int64",
         "type": "integer"
        },
        {
         "name": "plunder",
         "rawType": "int64",
         "type": "integer"
        },
        {
         "name": "misery",
         "rawType": "int64",
         "type": "integer"
        },
        {
         "name": "falsehood",
         "rawType": "int64",
         "type": "integer"
        },
        {
         "name": "god",
         "rawType": "int64",
         "type": "integer"
        },
        {
         "name": "sought",
         "rawType": "int64",
         "type": "integer"
        },
        {
         "name": "book",
         "rawType": "int64",
         "type": "integer"
        },
        {
         "name": "wept",
         "rawType": "int64",
         "type": "integer"
        },
        {
         "name": "deliverance",
         "rawType": "int64",
         "type": "integer"
        },
        {
         "name": "suffered",
         "rawType": "int64",
         "type": "integer"
        },
        {
         "name": "bearer",
         "rawType": "int64",
         "type": "integer"
        },
        {
         "name": "suffer",
         "rawType": "int64",
         "type": "integer"
        },
        {
         "name": "prometheus",
         "rawType": "int64",
         "type": "integer"
        },
        {
         "name": "goddess",
         "rawType": "int64",
         "type": "integer"
        },
        {
         "name": "mother",
         "rawType": "int64",
         "type": "integer"
        },
        {
         "name": "gaea",
         "rawType": "int64",
         "type": "integer"
        },
        {
         "name": "chose",
         "rawType": "int64",
         "type": "integer"
        },
        {
         "name": "heir",
         "rawType": "int64",
         "type": "integer"
        },
        {
         "name": "martyr",
         "rawType": "int64",
         "type": "integer"
        },
        {
         "name": "rebuild",
         "rawType": "int64",
         "type": "integer"
        },
        {
         "name": "achievement",
         "rawType": "int64",
         "type": "integer"
        },
        {
         "name": "carry",
         "rawType": "int64",
         "type": "integer"
        },
        {
         "name": "shackled",
         "rawType": "int64",
         "type": "integer"
        },
        {
         "name": "weakest",
         "rawType": "int64",
         "type": "integer"
        },
        {
         "name": "dullest",
         "rawType": "int64",
         "type": "integer"
        },
        {
         "name": "electricity",
         "rawType": "int64",
         "type": "integer"
        },
        {
         "name": "engine",
         "rawType": "int64",
         "type": "integer"
        },
        {
         "name": "produced",
         "rawType": "int64",
         "type": "integer"
        },
        {
         "name": "repair",
         "rawType": "int64",
         "type": "integer"
        },
        {
         "name": "barrier",
         "rawType": "int64",
         "type": "integer"
        },
        {
         "name": "impassable",
         "rawType": "int64",
         "type": "integer"
        },
        {
         "name": "able",
         "rawType": "int64",
         "type": "integer"
        },
        {
         "name": "brute",
         "rawType": "int64",
         "type": "integer"
        },
        {
         "name": "force",
         "rawType": "int64",
         "type": "integer"
        },
        {
         "name": "mountaintop",
         "rawType": "int64",
         "type": "integer"
        },
        {
         "name": "pregnant",
         "rawType": "int64",
         "type": "integer"
        },
        {
         "name": "son",
         "rawType": "int64",
         "type": "integer"
        },
        {
         "name": "tilled",
         "rawType": "int64",
         "type": "integer"
        },
        {
         "name": "birth",
         "rawType": "int64",
         "type": "integer"
        },
        {
         "name": "yoke",
         "rawType": "int64",
         "type": "integer"
        },
        {
         "name": "fortress",
         "rawType": "int64",
         "type": "integer"
        },
        {
         "name": "wilderness",
         "rawType": "int64",
         "type": "integer"
        },
        {
         "name": "fellow-builders",
         "rawType": "int64",
         "type": "integer"
        },
        {
         "name": "chapter",
         "rawType": "int64",
         "type": "integer"
        },
        {
         "name": "enslaved",
         "rawType": "int64",
         "type": "integer"
        },
        {
         "name": "king",
         "rawType": "int64",
         "type": "integer"
        },
        {
         "name": "kin",
         "rawType": "int64",
         "type": "integer"
        },
        {
         "name": "declared",
         "rawType": "int64",
         "type": "integer"
        },
        {
         "name": "spilled",
         "rawType": "int64",
         "type": "integer"
        },
        {
         "name": "savage",
         "rawType": "int64",
         "type": "integer"
        },
        {
         "name": "beginning",
         "rawType": "int64",
         "type": "integer"
        },
        {
         "name": "disaster",
         "rawType": "int64",
         "type": "integer"
        },
        {
         "name": "whip",
         "rawType": "int64",
         "type": "integer"
        },
        {
         "name": "worship",
         "rawType": "int64",
         "type": "integer"
        },
        {
         "name": "accepted",
         "rawType": "int64",
         "type": "integer"
        },
        {
         "name": "structure",
         "rawType": "int64",
         "type": "integer"
        },
        {
         "name": "collapsed",
         "rawType": "int64",
         "type": "integer"
        },
        {
         "name": "beam",
         "rawType": "int64",
         "type": "integer"
        },
        {
         "name": "depth",
         "rawType": "int64",
         "type": "integer"
        },
        {
         "name": "survived",
         "rawType": "int64",
         "type": "integer"
        },
        {
         "name": "eager",
         "rawType": "int64",
         "type": "integer"
        },
        {
         "name": "preserve",
         "rawType": "int64",
         "type": "integer"
        },
        {
         "name": "received",
         "rawType": "int64",
         "type": "integer"
        },
        {
         "name": "offer",
         "rawType": "int64",
         "type": "integer"
        },
        {
         "name": "steel",
         "rawType": "int64",
         "type": "integer"
        },
        {
         "name": "recover",
         "rawType": "int64",
         "type": "integer"
        },
        {
         "name": "graceless",
         "rawType": "int64",
         "type": "integer"
        },
        {
         "name": "transition",
         "rawType": "int64",
         "type": "integer"
        },
        {
         "name": "whither",
         "rawType": "int64",
         "type": "integer"
        },
        {
         "name": "blindness",
         "rawType": "int64",
         "type": "integer"
        },
        {
         "name": "cowardice",
         "rawType": "int64",
         "type": "integer"
        },
        {
         "name": "fate",
         "rawType": "int64",
         "type": "integer"
        },
        {
         "name": "horror",
         "rawType": "int64",
         "type": "integer"
        },
        {
         "name": "refused",
         "rawType": "int64",
         "type": "integer"
        },
        {
         "name": "protest",
         "rawType": "int64",
         "type": "integer"
        },
        {
         "name": "warning",
         "rawType": "int64",
         "type": "integer"
        },
        {
         "name": "hopeless",
         "rawType": "int64",
         "type": "integer"
        },
        {
         "name": "battle",
         "rawType": "int64",
         "type": "integer"
        },
        {
         "name": "banner",
         "rawType": "int64",
         "type": "integer"
        },
        {
         "name": "smeared",
         "rawType": "int64",
         "type": "integer"
        },
        {
         "name": "salute",
         "rawType": "int64",
         "type": "integer"
        },
        {
         "name": "despair",
         "rawType": "int64",
         "type": "integer"
        },
        {
         "name": "final",
         "rawType": "int64",
         "type": "integer"
        },
        {
         "name": "capable",
         "rawType": "int64",
         "type": "integer"
        },
        {
         "name": "remain",
         "rawType": "int64",
         "type": "integer"
        },
        {
         "name": "awaken",
         "rawType": "int64",
         "type": "integer"
        },
        {
         "name": "break",
         "rawType": "int64",
         "type": "integer"
        },
        {
         "name": "fort",
         "rawType": "int64",
         "type": "integer"
        },
        {
         "name": "louder",
         "rawType": "int64",
         "type": "integer"
        },
        {
         "name": "raze",
         "rawType": "int64",
         "type": "integer"
        },
        {
         "name": "capital",
         "rawType": "int64",
         "type": "integer"
        },
        {
         "name": "beacon",
         "rawType": "int64",
         "type": "integer"
        },
        {
         "name": "sacred",
         "rawType": "int64",
         "type": "integer"
        },
        {
         "name": "ego",
         "rawType": "int64",
         "type": "integer"
        }
       ],
       "conversionMethod": "pd.DataFrame",
       "ref": "04b5897f-6898-46b7-8ef6-04b4c25ec423",
       "rows": [
        [
         "little",
         "1",
         "1",
         "1",
         "1",
         "26",
         "127",
         "26",
         "15",
         "3",
         "8",
         "4",
         "2",
         "2",
         "2",
         "7",
         "2",
         "4",
         "9",
         "7",
         "31",
         "64",
         "20",
         "7",
         "93",
         "7",
         "26",
         "1",
         "28",
         "4",
         "31",
         "5",
         "60",
         "4",
         "12",
         "2",
         "8",
         "17",
         "16",
         "153",
         "19",
         "1",
         "73",
         "8",
         "1",
         "2",
         "230",
         "3",
         "7",
         "14",
         "34",
         "2",
         "1",
         "5",
         "24",
         "3",
         "1",
         "8",
         "14",
         "18",
         "8",
         "23",
         "10",
         "38",
         "12",
         "15",
         "44",
         "51",
         "51",
         "2",
         "5",
         "22",
         "16",
         "40",
         "59",
         "4",
         "34",
         "46",
         "20",
         "5",
         "3",
         "8",
         "17",
         "8",
         "27",
         "2",
         "14",
         "10",
         "9",
         "5",
         "34",
         "6",
         "12",
         "1",
         "8",
         "3",
         "1",
         "54",
         "32",
         "20",
         "72",
         "2",
         "34",
         "13",
         "7",
         "7",
         "12",
         "33",
         "4",
         "2",
         "10",
         "28",
         "18",
         "39",
         "11",
         "5",
         "30",
         "31",
         "17",
         "16",
         "8",
         "17",
         "1",
         "2",
         "11",
         "1",
         "2",
         "15",
         "13",
         "5",
         "5",
         "12",
         "6",
         "3",
         "3",
         "55",
         "5",
         "2",
         "11",
         "83",
         "21",
         "2",
         "9",
         "8",
         "6",
         "1",
         "44",
         "8",
         "5",
         "27",
         "3",
         "17",
         "17",
         "1",
         "35",
         "2",
         "2",
         "30",
         "9",
         "3",
         "2",
         "2",
         "1",
         "1",
         "1",
         "2",
         "7",
         "15",
         "9",
         "7",
         "1",
         "1",
         "2",
         "2",
         "3",
         "45",
         "4",
         "11",
         "13",
         "7",
         "6",
         "4",
         "24",
         "6",
         "44",
         "7",
         "4",
         "1",
         "4",
         "48",
         "3",
         "11",
         "32",
         "11",
         "1",
         "14",
         "1",
         "5",
         "6",
         "19",
         "37",
         "16",
         "14",
         "4",
         "26",
         "15",
         "17",
         "7",
         "9",
         "1",
         "3",
         "2",
         "1",
         "9",
         "11",
         "12",
         "49",
         "6",
         "18",
         "25",
         "5",
         "3",
         "8",
         "13",
         "5",
         "2",
         "3",
         "3",
         "8",
         "1",
         "3",
         "1",
         "1",
         "3",
         "12",
         "12",
         "1",
         "6",
         "10",
         "3",
         "17",
         "1",
         "3",
         "8",
         "3",
         "15",
         "1",
         "3",
         "29",
         "14",
         "10",
         "26",
         "5",
         "1",
         "2",
         "5",
         "4",
         "1",
         "1",
         "7",
         "9",
         "4",
         "1",
         "6",
         "1",
         "32",
         "4",
         "7",
         "2",
         "5",
         "13",
         "8",
         "9",
         "4",
         "6",
         "6",
         "1",
         "2",
         "2",
         "1",
         "7",
         "1",
         "42",
         "5",
         "1",
         "19",
         "1",
         "4",
         "7",
         "17",
         "3",
         "1",
         "1",
         "3",
         "2",
         "3",
         "5",
         "6",
         "14",
         "25",
         "5",
         "1",
         "10",
         "4",
         "3",
         "1",
         "2",
         "24",
         "15",
         "1",
         "4",
         "3",
         "2",
         "4",
         "1",
         "3",
         "3",
         "4",
         "2",
         "3",
         "17",
         "8",
         "14",
         "15",
         "10",
         "1",
         "2",
         "1",
         "2",
         "35",
         "13",
         "8",
         "3",
         "16",
         "1",
         "53",
         "28",
         "9",
         "6",
         "2",
         "1",
         "1",
         "2",
         "1",
         "2",
         "1",
         "15",
         "2",
         "5",
         "1",
         "5",
         "54",
         "8",
         "12",
         "1",
         "13",
         "7",
         "1",
         "19",
         "4",
         "4",
         "1",
         "2",
         "1",
         "28",
         "1",
         "1",
         "25",
         "12",
         "1",
         "3",
         "12",
         "6",
         "3",
         "3",
         "8",
         "6",
         "1",
         "20",
         "3",
         "3",
         "2",
         "8",
         "5",
         "1",
         "2",
         "6",
         "7",
         "1",
         "9",
         "30",
         "5",
         "2",
         "28",
         "2",
         "9",
         "26",
         "5",
         "8",
         "1",
         "9",
         "2",
         "6",
         "7",
         "5",
         "2",
         "2",
         "2",
         "9",
         "4",
         "5",
         "20",
         "4",
         "4",
         "1",
         "5",
         "1",
         "1",
         "9",
         "5",
         "4",
         "1",
         "6",
         "17",
         "11",
         "21",
         "2",
         "1",
         "1",
         "1",
         "1",
         "5",
         "3",
         "2",
         "7",
         "3",
         "3",
         "2",
         "3",
         "3",
         "3",
         "6",
         "5",
         "14",
         "15",
         "2",
         "3",
         "2",
         "2",
         "11",
         "1",
         "1",
         "1",
         "1",
         "1",
         "2",
         "1",
         "13",
         "1",
         "1",
         "15",
         "6",
         "11",
         "2",
         "5",
         "1",
         "2",
         "1",
         "11",
         "1",
         "1",
         "2",
         "1",
         "1",
         "2",
         "1",
         "2",
         "8",
         "5",
         "1",
         "1",
         "1",
         "1",
         "6",
         "1",
         "2",
         "1",
         "1",
         "1",
         "1",
         "2",
         "1",
         "15",
         "6",
         "4",
         "4",
         "1",
         "2",
         "4",
         "2",
         "1",
         "1",
         "1",
         "9",
         "1",
         "17",
         "1",
         "4",
         "4",
         "1",
         "10",
         "16",
         "1",
         "1",
         "10",
         "1",
         "2",
         "1",
         "2",
         "1",
         "2",
         "5",
         "1",
         "1",
         "2",
         "6",
         "4",
         "2",
         "1",
         "4",
         "1",
         "9",
         "4",
         "13",
         "3",
         "1",
         "14",
         "11",
         "5",
         "1",
         "16",
         "2",
         "4",
         "3",
         "6",
         "7",
         "1",
         "1",
         "6",
         "1",
         "1",
         "1",
         "1",
         "2",
         "4",
         "17",
         "1",
         "1",
         "6",
         "2",
         "5",
         "15",
         "1",
         "1",
         "7",
         "15",
         "3",
         "4",
         "2",
         "4",
         "2",
         "1",
         "17",
         "16",
         "1",
         "1",
         "5",
         "2",
         "4",
         "2",
         "5",
         "2",
         "1",
         "2",
         "5",
         "2",
         "3",
         "7",
         "3",
         "1",
         "3",
         "1",
         "1",
         "4",
         "2",
         "8",
         "10",
         "1",
         "2",
         "1",
         "11",
         "1",
         "3",
         "1",
         "4",
         "8",
         "6",
         "2",
         "5",
         "13",
         "32",
         "1",
         "1",
         "4",
         "4",
         "1",
         "4",
         "6",
         "1",
         "4",
         "8",
         "5",
         "6",
         "1",
         "1",
         "2",
         "17",
         "1",
         "3",
         "4",
         "2",
         "3",
         "3",
         "1",
         "7",
         "3",
         "2",
         "1",
         "9",
         "1",
         "1",
         "2",
         "3",
         "11",
         "6",
         "19",
         "3",
         "4",
         "15",
         "4",
         "4",
         "4",
         "5",
         "2",
         "3",
         "4",
         "4",
         "1",
         "7",
         "3",
         "2",
         "7",
         "2",
         "1",
         "12",
         "1",
         "16",
         "3",
         "15",
         "1",
         "6",
         "7",
         "1",
         "4",
         "2",
         "2",
         "1",
         "4",
         "1",
         "1",
         "9",
         "1",
         "8",
         "1",
         "1",
         "4",
         "1",
         "5",
         "3",
         "6",
         "3",
         "4",
         "3",
         "1",
         "3",
         "9",
         "3",
         "6",
         "4",
         "3",
         "7",
         "1",
         "2",
         "1",
         "3",
         "2",
         "4",
         "1",
         "8",
         "1",
         "1",
         "1",
         "5",
         "2",
         "2",
         "1",
         "2",
         "1",
         "1",
         "1",
         "3",
         "3",
         "2",
         "2",
         "1",
         "1",
         "1",
         "6",
         "1",
         "2",
         "1",
         "3",
         "6",
         "5",
         "2",
         "2",
         "4",
         "1",
         "5",
         "1",
         "1",
         "6",
         "15",
         "4",
         "9",
         "8",
         "1",
         "1",
         "1",
         "1",
         "2",
         "2",
         "1",
         "6",
         "2",
         "4",
         "1",
         "3",
         "1",
         "4",
         "2",
         "1",
         "5",
         "2",
         "1",
         "3",
         "16",
         "15",
         "1",
         "3",
         "17",
         "5",
         "2",
         "2",
         "17",
         "1",
         "3",
         "1",
         "9",
         "10",
         "1",
         "1",
         "3",
         "1",
         "4",
         "1",
         "2",
         "3",
         "4",
         "1",
         "1",
         "1",
         "9",
         "1",
         "1",
         "3",
         "1",
         "6",
         "1",
         "47",
         "2",
         "1",
         "3",
         "2",
         "1",
         "5",
         "4",
         "1",
         "1",
         "2",
         "8",
         "1",
         "1",
         "1",
         "3",
         "3",
         "3",
         "2",
         "2",
         "1",
         "2",
         "2",
         "2",
         "1",
         "1",
         "1",
         "1",
         "2",
         "1",
         "1",
         "1",
         "2",
         "6",
         "1",
         "2",
         "4",
         "1",
         "1",
         "3",
         "2",
         "6",
         "2",
         "16",
         "1",
         "1",
         "1",
         "1",
         "16",
         "5",
         "5",
         "2",
         "4",
         "1",
         "1",
         "1",
         "3",
         "3",
         "2",
         "7",
         "8",
         "4",
         "2",
         "3",
         "4",
         "3",
         "2",
         "1",
         "1",
         "1",
         "2",
         "1",
         "1",
         "8",
         "1",
         "2",
         "1",
         "1",
         "3",
         "1",
         "6",
         "2",
         "2",
         "2",
         "1",
         "1",
         "1",
         "4",
         "3",
         "1",
         "5",
         "4",
         "2",
         "2",
         "1",
         "1",
         "5",
         "1",
         "1",
         "1",
         "2",
         "2",
         "7",
         "2",
         "1",
         "3",
         "1",
         "2",
         "1",
         "2",
         "1",
         "2",
         "1",
         "3",
         "1",
         "1",
         "1",
         "1",
         "1",
         "2",
         "1",
         "1",
         "1",
         "1",
         "11",
         "3",
         "3",
         "1",
         "2",
         "3",
         "2",
         "1",
         "3",
         "3",
         "3",
         "1",
         "1",
         "2",
         "4",
         "3",
         "2",
         "1",
         "1",
         "2",
         "2",
         "1",
         "1",
         "1",
         "1",
         "4",
         "6",
         "5",
         "5",
         "3",
         "1",
         "4",
         "1",
         "2",
         "5",
         "4",
         "2",
         "2",
         "1",
         "1",
         "1",
         "1",
         "9",
         "10",
         "2",
         "2",
         "5",
         "2",
         "1",
         "1",
         "1",
         "1",
         "1",
         "1",
         "2",
         "6",
         "2",
         "5",
         "7",
         "1",
         "2",
         "4",
         "1",
         "1",
         "1",
         "1",
         "1",
         "1",
         "9",
         "2",
         "2",
         "3",
         "1",
         "4",
         "1",
         "1",
         "10",
         "1",
         "3",
         "6",
         "4",
         "1",
         "2",
         "7",
         "1",
         "2",
         "1",
         "1",
         "3",
         "3",
         "2",
         "1",
         "3",
         "1",
         "4",
         "3",
         "2",
         "3",
         "1",
         "1",
         "1",
         "20",
         "5",
         "2",
         "1",
         "1",
         "1",
         "1",
         "1",
         "1",
         "1",
         "2",
         "1",
         "1",
         "2",
         "4",
         "3",
         "1",
         "1",
         "2",
         "1",
         "1",
         "1",
         "2",
         "20",
         "2",
         "1",
         "1",
         "4",
         "1",
         "1",
         "1",
         "1",
         "1",
         "1",
         "2",
         "1",
         "4",
         "14",
         "6",
         "2",
         "1",
         "1",
         "5",
         "4",
         "1",
         "2",
         "1",
         "1",
         "1",
         "1",
         "1",
         "2",
         "2",
         "1",
         "1",
         "3",
         "1",
         "5",
         "2",
         "4",
         "1",
         "2",
         "1",
         "1",
         "1",
         "1",
         "1",
         "1",
         "1",
         "7",
         "2",
         "1",
         "1",
         "1",
         "1",
         "1",
         "2",
         "1",
         "2",
         "1",
         "1",
         "1",
         "4",
         "2",
         "1",
         "12",
         "1",
         "1",
         "4",
         "2",
         "1",
         "9",
         "2",
         "4",
         "1",
         "2",
         "1",
         "3",
         "1",
         "3",
         "2",
         "1",
         "5",
         "1",
         "2",
         "1",
         "1",
         "2",
         "3",
         "1",
         "1",
         "2",
         "1",
         "1",
         "1",
         "3",
         "2",
         "3",
         "1",
         "1",
         "2",
         "1",
         "7",
         "6",
         "1",
         "1",
         "1",
         "1",
         "2",
         "2",
         "1",
         "3",
         "3",
         "8",
         "1",
         "2",
         "1",
         "1",
         "6",
         "2",
         "1",
         "2",
         "4",
         "1",
         "1",
         "1",
         "1",
         "3",
         "2",
         "1",
         "6",
         "1",
         "1",
         "1",
         "1",
         "1",
         "2",
         "4",
         "3",
         "1",
         "1",
         "2",
         "2",
         "3",
         "1",
         "6",
         "2",
         "4",
         "1",
         "1",
         "1",
         "1",
         "2",
         "1",
         "1",
         "4",
         "3",
         "3",
         "2",
         "1",
         "2",
         "5",
         "6",
         "1",
         "4",
         "1",
         "1",
         "2",
         "1",
         "1",
         "2",
         "4",
         "1",
         "1",
         "1",
         "1",
         "1",
         "1",
         "3",
         "1",
         "1",
         "9",
         "1",
         "1",
         "1",
         "4",
         "1",
         "2",
         "1",
         "1",
         "4",
         "2",
         "1",
         "1",
         "2",
         "3",
         "1",
         "5",
         "1",
         "1",
         "1",
         "1",
         "2",
         "1",
         "1",
         "1",
         "1",
         "5",
         "1",
         "1",
         "1",
         "1",
         "2",
         "1",
         "2",
         "1",
         "2",
         "1",
         "1",
         "2",
         "3",
         "1",
         "1",
         "1",
         "1",
         "1",
         "1",
         "2",
         "1",
         "1",
         "1",
         "1",
         "1",
         "3",
         "1",
         "1",
         "4",
         "1",
         "1",
         "1",
         "1",
         "5",
         "1",
         "1",
         "1",
         "1",
         "1",
         "1",
         "1",
         "3",
         "1",
         "1",
         "1",
         "1",
         "5",
         "1",
         "2",
         "1",
         "1",
         "1",
         "1",
         "1",
         "1",
         "2",
         "2",
         "1",
         "1",
         "1",
         "1",
         "1",
         "1",
         "1",
         "4",
         "3",
         "1",
         "1",
         "1",
         "3",
         "1",
         "1",
         "4",
         "1",
         "1",
         "1",
         "4",
         "4",
         "1",
         "1",
         "1",
         "1",
         "3",
         "1",
         "2",
         "3",
         "8",
         "2",
         "1",
         "1",
         "3",
         "4",
         "1",
         "1",
         "3",
         "1",
         "1",
         "1",
         "1",
         "2",
         "4",
         "2",
         "1",
         "1",
         "2",
         "2",
         "1",
         "1",
         "1",
         "3",
         "1",
         "1",
         "1",
         "4",
         "1",
         "5",
         "1",
         "1",
         "1",
         "2",
         "3",
         "1",
         "1",
         "1",
         "2",
         "1",
         "1",
         "1",
         "2",
         "1",
         "4",
         "1",
         "1",
         "1",
         "2",
         "1",
         "1",
         "2",
         "2",
         "2",
         "1",
         "1",
         "1",
         "1",
         "1",
         "2",
         "2",
         "2",
         "2",
         "2",
         "1",
         "1",
         "5",
         "1",
         "1",
         "1",
         "3",
         "1",
         "2",
         "1",
         "1",
         "1",
         "1",
         "1",
         "1",
         "1",
         "1",
         "1",
         "1",
         "1",
         "1",
         "1",
         "1",
         "1",
         "1",
         "1",
         "1",
         "3",
         "1",
         "2",
         "6",
         "1",
         "1",
         "1",
         "1",
         "1",
         "2",
         "1",
         "1",
         "4",
         "1",
         "1",
         "1",
         "1",
         "1",
         "2",
         "2",
         "2",
         "1",
         "2",
         "3",
         "1",
         "1",
         "1",
         "1",
         "1",
         "2",
         "1",
         "1",
         "2",
         "1",
         "1",
         "1",
         "1",
         "4",
         "1",
         "2",
         "1",
         "4",
         "1",
         "1",
         "1",
         "1",
         "1",
         "1",
         "1",
         "1",
         "1",
         "1",
         "1",
         "1",
         "2",
         "1",
         "1",
         "1",
         "1",
         "1",
         "1",
         "1",
         "1",
         "1",
         "1",
         "1",
         "1",
         "2",
         "1",
         "1",
         "2",
         "1",
         "1",
         "1",
         "1",
         "1",
         "5",
         "2",
         "1",
         "1",
         "1",
         "5",
         "1",
         "1",
         "3",
         "2",
         "1",
         "1",
         "1",
         "1",
         "1",
         "2",
         "1",
         "2",
         "2",
         "1",
         "1",
         "1",
         "1",
         "1",
         "3",
         "2",
         "2",
         "1",
         "1",
         "1",
         "1",
         "1",
         "1",
         "1",
         "2",
         "1",
         "1",
         "1",
         "1",
         "1",
         "1",
         "10",
         "1",
         "1",
         "2",
         "4",
         "1",
         "1",
         "1",
         "1",
         "1",
         "1",
         "1",
         "2",
         "1",
         "1",
         "1",
         "1",
         "2",
         "1",
         "1",
         "1",
         "1",
         "1",
         "1",
         "1",
         "1",
         "1",
         "1",
         "1",
         "1",
         "1",
         "2",
         "1",
         "1",
         "1",
         "1",
         "1",
         "11",
         "1",
         "7",
         "2",
         "1",
         "1",
         "1",
         "2",
         "1",
         "1",
         "2",
         "2",
         "2",
         "2",
         "1",
         "1",
         "2",
         "4",
         "1",
         "1",
         "1",
         "1",
         "1",
         "1",
         "1",
         "3",
         "1",
         "1",
         "1",
         "1",
         "1",
         "1",
         "3",
         "1",
         "2",
         "1",
         "1",
         "1",
         "1",
         "1",
         "4",
         "2",
         "1",
         "1",
         "1",
         "1",
         "1",
         "1",
         "1",
         "2",
         "1",
         "2",
         "1",
         "1",
         "1",
         "1",
         "2",
         "1",
         "1",
         "1",
         "1",
         "1",
         "1",
         "1",
         "1",
         "1",
         "1",
         "1",
         "1",
         "1",
         "1",
         "2",
         "1",
         "3",
         "3",
         "1",
         "1",
         "1",
         "1",
         "1",
         "1",
         "1",
         "2",
         "2",
         "1",
         "1",
         "1",
         "1",
         "1",
         "1"
        ],
        [
         "woman",
         "1",
         "1",
         "1",
         "1",
         "26",
         "127",
         "26",
         "15",
         "3",
         "8",
         "4",
         "2",
         "2",
         "2",
         "7",
         "2",
         "4",
         "9",
         "7",
         "31",
         "64",
         "20",
         "7",
         "93",
         "7",
         "26",
         "1",
         "28",
         "4",
         "31",
         "5",
         "60",
         "4",
         "12",
         "2",
         "8",
         "17",
         "16",
         "153",
         "19",
         "1",
         "73",
         "8",
         "1",
         "2",
         "230",
         "3",
         "7",
         "14",
         "34",
         "2",
         "1",
         "5",
         "24",
         "3",
         "1",
         "8",
         "14",
         "18",
         "8",
         "23",
         "10",
         "38",
         "12",
         "15",
         "44",
         "51",
         "51",
         "2",
         "5",
         "22",
         "16",
         "40",
         "59",
         "4",
         "34",
         "46",
         "20",
         "5",
         "3",
         "8",
         "17",
         "8",
         "27",
         "2",
         "14",
         "10",
         "9",
         "5",
         "34",
         "6",
         "12",
         "1",
         "8",
         "3",
         "1",
         "54",
         "32",
         "20",
         "72",
         "2",
         "34",
         "13",
         "7",
         "7",
         "12",
         "33",
         "4",
         "2",
         "10",
         "28",
         "18",
         "39",
         "11",
         "5",
         "30",
         "31",
         "17",
         "16",
         "8",
         "17",
         "1",
         "2",
         "11",
         "1",
         "2",
         "15",
         "13",
         "5",
         "5",
         "12",
         "6",
         "3",
         "3",
         "55",
         "5",
         "2",
         "11",
         "83",
         "21",
         "2",
         "9",
         "8",
         "6",
         "1",
         "44",
         "8",
         "5",
         "27",
         "3",
         "17",
         "17",
         "1",
         "35",
         "2",
         "2",
         "30",
         "9",
         "3",
         "2",
         "2",
         "1",
         "1",
         "1",
         "2",
         "7",
         "15",
         "9",
         "7",
         "1",
         "1",
         "2",
         "2",
         "3",
         "45",
         "4",
         "11",
         "13",
         "7",
         "6",
         "4",
         "24",
         "6",
         "44",
         "7",
         "4",
         "1",
         "4",
         "48",
         "3",
         "11",
         "32",
         "11",
         "1",
         "14",
         "1",
         "5",
         "6",
         "19",
         "37",
         "16",
         "14",
         "4",
         "26",
         "15",
         "17",
         "7",
         "9",
         "1",
         "3",
         "2",
         "1",
         "9",
         "11",
         "12",
         "49",
         "6",
         "18",
         "25",
         "5",
         "3",
         "8",
         "13",
         "5",
         "2",
         "3",
         "3",
         "8",
         "1",
         "3",
         "1",
         "1",
         "3",
         "12",
         "12",
         "1",
         "6",
         "10",
         "3",
         "17",
         "1",
         "3",
         "8",
         "3",
         "15",
         "1",
         "3",
         "29",
         "14",
         "10",
         "26",
         "5",
         "1",
         "2",
         "5",
         "4",
         "1",
         "1",
         "7",
         "9",
         "4",
         "1",
         "6",
         "1",
         "32",
         "4",
         "7",
         "2",
         "5",
         "13",
         "8",
         "9",
         "4",
         "6",
         "6",
         "1",
         "2",
         "2",
         "1",
         "7",
         "1",
         "42",
         "5",
         "1",
         "19",
         "1",
         "4",
         "7",
         "17",
         "3",
         "1",
         "1",
         "3",
         "2",
         "3",
         "5",
         "6",
         "14",
         "25",
         "5",
         "1",
         "10",
         "4",
         "3",
         "1",
         "2",
         "24",
         "15",
         "1",
         "4",
         "3",
         "2",
         "4",
         "1",
         "3",
         "3",
         "4",
         "2",
         "3",
         "17",
         "8",
         "14",
         "15",
         "10",
         "1",
         "2",
         "1",
         "2",
         "35",
         "13",
         "8",
         "3",
         "16",
         "1",
         "53",
         "28",
         "9",
         "6",
         "2",
         "1",
         "1",
         "2",
         "1",
         "2",
         "1",
         "15",
         "2",
         "5",
         "1",
         "5",
         "54",
         "8",
         "12",
         "1",
         "13",
         "7",
         "1",
         "19",
         "4",
         "4",
         "1",
         "2",
         "1",
         "28",
         "1",
         "1",
         "25",
         "12",
         "1",
         "3",
         "12",
         "6",
         "3",
         "3",
         "8",
         "6",
         "1",
         "20",
         "3",
         "3",
         "2",
         "8",
         "5",
         "1",
         "2",
         "6",
         "7",
         "1",
         "9",
         "30",
         "5",
         "2",
         "28",
         "2",
         "9",
         "26",
         "5",
         "8",
         "1",
         "9",
         "2",
         "6",
         "7",
         "5",
         "2",
         "2",
         "2",
         "9",
         "4",
         "5",
         "20",
         "4",
         "4",
         "1",
         "5",
         "1",
         "1",
         "9",
         "5",
         "4",
         "1",
         "6",
         "17",
         "11",
         "21",
         "2",
         "1",
         "1",
         "1",
         "1",
         "5",
         "3",
         "2",
         "7",
         "3",
         "3",
         "2",
         "3",
         "3",
         "3",
         "6",
         "5",
         "14",
         "15",
         "2",
         "3",
         "2",
         "2",
         "11",
         "1",
         "1",
         "1",
         "1",
         "1",
         "2",
         "1",
         "13",
         "1",
         "1",
         "15",
         "6",
         "11",
         "2",
         "5",
         "1",
         "2",
         "1",
         "11",
         "1",
         "1",
         "2",
         "1",
         "1",
         "2",
         "1",
         "2",
         "8",
         "5",
         "1",
         "1",
         "1",
         "1",
         "6",
         "1",
         "2",
         "1",
         "1",
         "1",
         "1",
         "2",
         "1",
         "15",
         "6",
         "4",
         "4",
         "1",
         "2",
         "4",
         "2",
         "1",
         "1",
         "1",
         "9",
         "1",
         "17",
         "1",
         "4",
         "4",
         "1",
         "10",
         "16",
         "1",
         "1",
         "10",
         "1",
         "2",
         "1",
         "2",
         "1",
         "2",
         "5",
         "1",
         "1",
         "2",
         "6",
         "4",
         "2",
         "1",
         "4",
         "1",
         "9",
         "4",
         "13",
         "3",
         "1",
         "14",
         "11",
         "5",
         "1",
         "16",
         "2",
         "4",
         "3",
         "6",
         "7",
         "1",
         "1",
         "6",
         "1",
         "1",
         "1",
         "1",
         "2",
         "4",
         "17",
         "1",
         "1",
         "6",
         "2",
         "5",
         "15",
         "1",
         "1",
         "7",
         "15",
         "3",
         "4",
         "2",
         "4",
         "2",
         "1",
         "17",
         "16",
         "1",
         "1",
         "5",
         "2",
         "4",
         "2",
         "5",
         "2",
         "1",
         "2",
         "5",
         "2",
         "3",
         "7",
         "3",
         "1",
         "3",
         "1",
         "1",
         "4",
         "2",
         "8",
         "10",
         "1",
         "2",
         "1",
         "11",
         "1",
         "3",
         "1",
         "4",
         "8",
         "6",
         "2",
         "5",
         "13",
         "32",
         "1",
         "1",
         "4",
         "4",
         "1",
         "4",
         "6",
         "1",
         "4",
         "8",
         "5",
         "6",
         "1",
         "1",
         "2",
         "17",
         "1",
         "3",
         "4",
         "2",
         "3",
         "3",
         "1",
         "7",
         "3",
         "2",
         "1",
         "9",
         "1",
         "1",
         "2",
         "3",
         "11",
         "6",
         "19",
         "3",
         "4",
         "15",
         "4",
         "4",
         "4",
         "5",
         "2",
         "3",
         "4",
         "4",
         "1",
         "7",
         "3",
         "2",
         "7",
         "2",
         "1",
         "12",
         "1",
         "16",
         "3",
         "15",
         "1",
         "6",
         "7",
         "1",
         "4",
         "2",
         "2",
         "1",
         "4",
         "1",
         "1",
         "9",
         "1",
         "8",
         "1",
         "1",
         "4",
         "1",
         "5",
         "3",
         "6",
         "3",
         "4",
         "3",
         "1",
         "3",
         "9",
         "3",
         "6",
         "4",
         "3",
         "7",
         "1",
         "2",
         "1",
         "3",
         "2",
         "4",
         "1",
         "8",
         "1",
         "1",
         "1",
         "5",
         "2",
         "2",
         "1",
         "2",
         "1",
         "1",
         "1",
         "3",
         "3",
         "2",
         "2",
         "1",
         "1",
         "1",
         "6",
         "1",
         "2",
         "1",
         "3",
         "6",
         "5",
         "2",
         "2",
         "4",
         "1",
         "5",
         "1",
         "1",
         "6",
         "15",
         "4",
         "9",
         "8",
         "1",
         "1",
         "1",
         "1",
         "2",
         "2",
         "1",
         "6",
         "2",
         "4",
         "1",
         "3",
         "1",
         "4",
         "2",
         "1",
         "5",
         "2",
         "1",
         "3",
         "16",
         "15",
         "1",
         "3",
         "17",
         "5",
         "2",
         "2",
         "17",
         "1",
         "3",
         "1",
         "9",
         "10",
         "1",
         "1",
         "3",
         "1",
         "4",
         "1",
         "2",
         "3",
         "4",
         "1",
         "1",
         "1",
         "9",
         "1",
         "1",
         "3",
         "1",
         "6",
         "1",
         "47",
         "2",
         "1",
         "3",
         "2",
         "1",
         "5",
         "4",
         "1",
         "1",
         "2",
         "8",
         "1",
         "1",
         "1",
         "3",
         "3",
         "3",
         "2",
         "2",
         "1",
         "2",
         "2",
         "2",
         "1",
         "1",
         "1",
         "1",
         "2",
         "1",
         "1",
         "1",
         "2",
         "6",
         "1",
         "2",
         "4",
         "1",
         "1",
         "3",
         "2",
         "6",
         "2",
         "16",
         "1",
         "1",
         "1",
         "1",
         "16",
         "5",
         "5",
         "2",
         "4",
         "1",
         "1",
         "1",
         "3",
         "3",
         "2",
         "7",
         "8",
         "4",
         "2",
         "3",
         "4",
         "3",
         "2",
         "1",
         "1",
         "1",
         "2",
         "1",
         "1",
         "8",
         "1",
         "2",
         "1",
         "1",
         "3",
         "1",
         "6",
         "2",
         "2",
         "2",
         "1",
         "1",
         "1",
         "4",
         "3",
         "1",
         "5",
         "4",
         "2",
         "2",
         "1",
         "1",
         "5",
         "1",
         "1",
         "1",
         "2",
         "2",
         "7",
         "2",
         "1",
         "3",
         "1",
         "2",
         "1",
         "2",
         "1",
         "2",
         "1",
         "3",
         "1",
         "1",
         "1",
         "1",
         "1",
         "2",
         "1",
         "1",
         "1",
         "1",
         "11",
         "3",
         "3",
         "1",
         "2",
         "3",
         "2",
         "1",
         "3",
         "3",
         "3",
         "1",
         "1",
         "2",
         "4",
         "3",
         "2",
         "1",
         "1",
         "2",
         "2",
         "1",
         "1",
         "1",
         "1",
         "4",
         "6",
         "5",
         "5",
         "3",
         "1",
         "4",
         "1",
         "2",
         "5",
         "4",
         "2",
         "2",
         "1",
         "1",
         "1",
         "1",
         "9",
         "10",
         "2",
         "2",
         "5",
         "2",
         "1",
         "1",
         "1",
         "1",
         "1",
         "1",
         "2",
         "6",
         "2",
         "5",
         "7",
         "1",
         "2",
         "4",
         "1",
         "1",
         "1",
         "1",
         "1",
         "1",
         "9",
         "2",
         "2",
         "3",
         "1",
         "4",
         "1",
         "1",
         "10",
         "1",
         "3",
         "6",
         "4",
         "1",
         "2",
         "7",
         "1",
         "2",
         "1",
         "1",
         "3",
         "3",
         "2",
         "1",
         "3",
         "1",
         "4",
         "3",
         "2",
         "3",
         "1",
         "1",
         "1",
         "20",
         "5",
         "2",
         "1",
         "1",
         "1",
         "1",
         "1",
         "1",
         "1",
         "2",
         "1",
         "1",
         "2",
         "4",
         "3",
         "1",
         "1",
         "2",
         "1",
         "1",
         "1",
         "2",
         "20",
         "2",
         "1",
         "1",
         "4",
         "1",
         "1",
         "1",
         "1",
         "1",
         "1",
         "2",
         "1",
         "4",
         "14",
         "6",
         "2",
         "1",
         "1",
         "5",
         "4",
         "1",
         "2",
         "1",
         "1",
         "1",
         "1",
         "1",
         "2",
         "2",
         "1",
         "1",
         "3",
         "1",
         "5",
         "2",
         "4",
         "1",
         "2",
         "1",
         "1",
         "1",
         "1",
         "1",
         "1",
         "1",
         "7",
         "2",
         "1",
         "1",
         "1",
         "1",
         "1",
         "2",
         "1",
         "2",
         "1",
         "1",
         "1",
         "4",
         "2",
         "1",
         "12",
         "1",
         "1",
         "4",
         "2",
         "1",
         "9",
         "2",
         "4",
         "1",
         "2",
         "1",
         "3",
         "1",
         "3",
         "2",
         "1",
         "5",
         "1",
         "2",
         "1",
         "1",
         "2",
         "3",
         "1",
         "1",
         "2",
         "1",
         "1",
         "1",
         "3",
         "2",
         "3",
         "1",
         "1",
         "2",
         "1",
         "7",
         "6",
         "1",
         "1",
         "1",
         "1",
         "2",
         "2",
         "1",
         "3",
         "3",
         "8",
         "1",
         "2",
         "1",
         "1",
         "6",
         "2",
         "1",
         "2",
         "4",
         "1",
         "1",
         "1",
         "1",
         "3",
         "2",
         "1",
         "6",
         "1",
         "1",
         "1",
         "1",
         "1",
         "2",
         "4",
         "3",
         "1",
         "1",
         "2",
         "2",
         "3",
         "1",
         "6",
         "2",
         "4",
         "1",
         "1",
         "1",
         "1",
         "2",
         "1",
         "1",
         "4",
         "3",
         "3",
         "2",
         "1",
         "2",
         "5",
         "6",
         "1",
         "4",
         "1",
         "1",
         "2",
         "1",
         "1",
         "2",
         "4",
         "1",
         "1",
         "1",
         "1",
         "1",
         "1",
         "3",
         "1",
         "1",
         "9",
         "1",
         "1",
         "1",
         "4",
         "1",
         "2",
         "1",
         "1",
         "4",
         "2",
         "1",
         "1",
         "2",
         "3",
         "1",
         "5",
         "1",
         "1",
         "1",
         "1",
         "2",
         "1",
         "1",
         "1",
         "1",
         "5",
         "1",
         "1",
         "1",
         "1",
         "2",
         "1",
         "2",
         "1",
         "2",
         "1",
         "1",
         "2",
         "3",
         "1",
         "1",
         "1",
         "1",
         "1",
         "1",
         "2",
         "1",
         "1",
         "1",
         "1",
         "1",
         "3",
         "1",
         "1",
         "4",
         "1",
         "1",
         "1",
         "1",
         "5",
         "1",
         "1",
         "1",
         "1",
         "1",
         "1",
         "1",
         "3",
         "1",
         "1",
         "1",
         "1",
         "5",
         "1",
         "2",
         "1",
         "1",
         "1",
         "1",
         "1",
         "1",
         "2",
         "2",
         "1",
         "1",
         "1",
         "1",
         "1",
         "1",
         "1",
         "4",
         "3",
         "1",
         "1",
         "1",
         "3",
         "1",
         "1",
         "4",
         "1",
         "1",
         "1",
         "4",
         "4",
         "1",
         "1",
         "1",
         "1",
         "3",
         "1",
         "2",
         "3",
         "8",
         "2",
         "1",
         "1",
         "3",
         "4",
         "1",
         "1",
         "3",
         "1",
         "1",
         "1",
         "1",
         "2",
         "4",
         "2",
         "1",
         "1",
         "2",
         "2",
         "1",
         "1",
         "1",
         "3",
         "1",
         "1",
         "1",
         "4",
         "1",
         "5",
         "1",
         "1",
         "1",
         "2",
         "3",
         "1",
         "1",
         "1",
         "2",
         "1",
         "1",
         "1",
         "2",
         "1",
         "4",
         "1",
         "1",
         "1",
         "2",
         "1",
         "1",
         "2",
         "2",
         "2",
         "1",
         "1",
         "1",
         "1",
         "1",
         "2",
         "2",
         "2",
         "2",
         "2",
         "1",
         "1",
         "5",
         "1",
         "1",
         "1",
         "3",
         "1",
         "2",
         "1",
         "1",
         "1",
         "1",
         "1",
         "1",
         "1",
         "1",
         "1",
         "1",
         "1",
         "1",
         "1",
         "1",
         "1",
         "1",
         "1",
         "1",
         "3",
         "1",
         "2",
         "6",
         "1",
         "1",
         "1",
         "1",
         "1",
         "2",
         "1",
         "1",
         "4",
         "1",
         "1",
         "1",
         "1",
         "1",
         "2",
         "2",
         "2",
         "1",
         "2",
         "3",
         "1",
         "1",
         "1",
         "1",
         "1",
         "2",
         "1",
         "1",
         "2",
         "1",
         "1",
         "1",
         "1",
         "4",
         "1",
         "2",
         "1",
         "4",
         "1",
         "1",
         "1",
         "1",
         "1",
         "1",
         "1",
         "1",
         "1",
         "1",
         "1",
         "1",
         "2",
         "1",
         "1",
         "1",
         "1",
         "1",
         "1",
         "1",
         "1",
         "1",
         "1",
         "1",
         "1",
         "2",
         "1",
         "1",
         "2",
         "1",
         "1",
         "1",
         "1",
         "1",
         "5",
         "2",
         "1",
         "1",
         "1",
         "5",
         "1",
         "1",
         "3",
         "2",
         "1",
         "1",
         "1",
         "1",
         "1",
         "2",
         "1",
         "2",
         "2",
         "1",
         "1",
         "1",
         "1",
         "1",
         "3",
         "2",
         "2",
         "1",
         "1",
         "1",
         "1",
         "1",
         "1",
         "1",
         "2",
         "1",
         "1",
         "1",
         "1",
         "1",
         "1",
         "10",
         "1",
         "1",
         "2",
         "4",
         "1",
         "1",
         "1",
         "1",
         "1",
         "1",
         "1",
         "2",
         "1",
         "1",
         "1",
         "1",
         "2",
         "1",
         "1",
         "1",
         "1",
         "1",
         "1",
         "1",
         "1",
         "1",
         "1",
         "1",
         "1",
         "1",
         "2",
         "1",
         "1",
         "1",
         "1",
         "1",
         "11",
         "1",
         "7",
         "2",
         "1",
         "1",
         "1",
         "2",
         "1",
         "1",
         "2",
         "2",
         "2",
         "2",
         "1",
         "1",
         "2",
         "4",
         "1",
         "1",
         "1",
         "1",
         "1",
         "1",
         "1",
         "3",
         "1",
         "1",
         "1",
         "1",
         "1",
         "1",
         "3",
         "1",
         "2",
         "1",
         "1",
         "1",
         "1",
         "1",
         "4",
         "2",
         "1",
         "1",
         "1",
         "1",
         "1",
         "1",
         "1",
         "2",
         "1",
         "2",
         "1",
         "1",
         "1",
         "1",
         "2",
         "1",
         "1",
         "1",
         "1",
         "1",
         "1",
         "1",
         "1",
         "1",
         "1",
         "1",
         "1",
         "1",
         "1",
         "2",
         "1",
         "3",
         "3",
         "1",
         "1",
         "1",
         "1",
         "1",
         "1",
         "1",
         "2",
         "2",
         "1",
         "1",
         "1",
         "1",
         "1",
         "1"
        ],
        [
         "louisa",
         "1",
         "1",
         "1",
         "1",
         "26",
         "127",
         "26",
         "15",
         "3",
         "8",
         "4",
         "2",
         "2",
         "2",
         "7",
         "2",
         "4",
         "9",
         "7",
         "31",
         "64",
         "20",
         "7",
         "93",
         "7",
         "26",
         "1",
         "28",
         "4",
         "31",
         "5",
         "60",
         "4",
         "12",
         "2",
         "8",
         "17",
         "16",
         "153",
         "19",
         "1",
         "73",
         "8",
         "1",
         "2",
         "230",
         "3",
         "7",
         "14",
         "34",
         "2",
         "1",
         "5",
         "24",
         "3",
         "1",
         "8",
         "14",
         "18",
         "8",
         "23",
         "10",
         "38",
         "12",
         "15",
         "44",
         "51",
         "51",
         "2",
         "5",
         "22",
         "16",
         "40",
         "59",
         "4",
         "34",
         "46",
         "20",
         "5",
         "3",
         "8",
         "17",
         "8",
         "27",
         "2",
         "14",
         "10",
         "9",
         "5",
         "34",
         "6",
         "12",
         "1",
         "8",
         "3",
         "1",
         "54",
         "32",
         "20",
         "72",
         "2",
         "34",
         "13",
         "7",
         "7",
         "12",
         "33",
         "4",
         "2",
         "10",
         "28",
         "18",
         "39",
         "11",
         "5",
         "30",
         "31",
         "17",
         "16",
         "8",
         "17",
         "1",
         "2",
         "11",
         "1",
         "2",
         "15",
         "13",
         "5",
         "5",
         "12",
         "6",
         "3",
         "3",
         "55",
         "5",
         "2",
         "11",
         "83",
         "21",
         "2",
         "9",
         "8",
         "6",
         "1",
         "44",
         "8",
         "5",
         "27",
         "3",
         "17",
         "17",
         "1",
         "35",
         "2",
         "2",
         "30",
         "9",
         "3",
         "2",
         "2",
         "1",
         "1",
         "1",
         "2",
         "7",
         "15",
         "9",
         "7",
         "1",
         "1",
         "2",
         "2",
         "3",
         "45",
         "4",
         "11",
         "13",
         "7",
         "6",
         "4",
         "24",
         "6",
         "44",
         "7",
         "4",
         "1",
         "4",
         "48",
         "3",
         "11",
         "32",
         "11",
         "1",
         "14",
         "1",
         "5",
         "6",
         "19",
         "37",
         "16",
         "14",
         "4",
         "26",
         "15",
         "17",
         "7",
         "9",
         "1",
         "3",
         "2",
         "1",
         "9",
         "11",
         "12",
         "49",
         "6",
         "18",
         "25",
         "5",
         "3",
         "8",
         "13",
         "5",
         "2",
         "3",
         "3",
         "8",
         "1",
         "3",
         "1",
         "1",
         "3",
         "12",
         "12",
         "1",
         "6",
         "10",
         "3",
         "17",
         "1",
         "3",
         "8",
         "3",
         "15",
         "1",
         "3",
         "29",
         "14",
         "10",
         "26",
         "5",
         "1",
         "2",
         "5",
         "4",
         "1",
         "1",
         "7",
         "9",
         "4",
         "1",
         "6",
         "1",
         "32",
         "4",
         "7",
         "2",
         "5",
         "13",
         "8",
         "9",
         "4",
         "6",
         "6",
         "1",
         "2",
         "2",
         "1",
         "7",
         "1",
         "42",
         "5",
         "1",
         "19",
         "1",
         "4",
         "7",
         "17",
         "3",
         "1",
         "1",
         "3",
         "2",
         "3",
         "5",
         "6",
         "14",
         "25",
         "5",
         "1",
         "10",
         "4",
         "3",
         "1",
         "2",
         "24",
         "15",
         "1",
         "4",
         "3",
         "2",
         "4",
         "1",
         "3",
         "3",
         "4",
         "2",
         "3",
         "17",
         "8",
         "14",
         "15",
         "10",
         "1",
         "2",
         "1",
         "2",
         "35",
         "13",
         "8",
         "3",
         "16",
         "1",
         "53",
         "28",
         "9",
         "6",
         "2",
         "1",
         "1",
         "2",
         "1",
         "2",
         "1",
         "15",
         "2",
         "5",
         "1",
         "5",
         "54",
         "8",
         "12",
         "1",
         "13",
         "7",
         "1",
         "19",
         "4",
         "4",
         "1",
         "2",
         "1",
         "28",
         "1",
         "1",
         "25",
         "12",
         "1",
         "3",
         "12",
         "6",
         "3",
         "3",
         "8",
         "6",
         "1",
         "20",
         "3",
         "3",
         "2",
         "8",
         "5",
         "1",
         "2",
         "6",
         "7",
         "1",
         "9",
         "30",
         "5",
         "2",
         "28",
         "2",
         "9",
         "26",
         "5",
         "8",
         "1",
         "9",
         "2",
         "6",
         "7",
         "5",
         "2",
         "2",
         "2",
         "9",
         "4",
         "5",
         "20",
         "4",
         "4",
         "1",
         "5",
         "1",
         "1",
         "9",
         "5",
         "4",
         "1",
         "6",
         "17",
         "11",
         "21",
         "2",
         "1",
         "1",
         "1",
         "1",
         "5",
         "3",
         "2",
         "7",
         "3",
         "3",
         "2",
         "3",
         "3",
         "3",
         "6",
         "5",
         "14",
         "15",
         "2",
         "3",
         "2",
         "2",
         "11",
         "1",
         "1",
         "1",
         "1",
         "1",
         "2",
         "1",
         "13",
         "1",
         "1",
         "15",
         "6",
         "11",
         "2",
         "5",
         "1",
         "2",
         "1",
         "11",
         "1",
         "1",
         "2",
         "1",
         "1",
         "2",
         "1",
         "2",
         "8",
         "5",
         "1",
         "1",
         "1",
         "1",
         "6",
         "1",
         "2",
         "1",
         "1",
         "1",
         "1",
         "2",
         "1",
         "15",
         "6",
         "4",
         "4",
         "1",
         "2",
         "4",
         "2",
         "1",
         "1",
         "1",
         "9",
         "1",
         "17",
         "1",
         "4",
         "4",
         "1",
         "10",
         "16",
         "1",
         "1",
         "10",
         "1",
         "2",
         "1",
         "2",
         "1",
         "2",
         "5",
         "1",
         "1",
         "2",
         "6",
         "4",
         "2",
         "1",
         "4",
         "1",
         "9",
         "4",
         "13",
         "3",
         "1",
         "14",
         "11",
         "5",
         "1",
         "16",
         "2",
         "4",
         "3",
         "6",
         "7",
         "1",
         "1",
         "6",
         "1",
         "1",
         "1",
         "1",
         "2",
         "4",
         "17",
         "1",
         "1",
         "6",
         "2",
         "5",
         "15",
         "1",
         "1",
         "7",
         "15",
         "3",
         "4",
         "2",
         "4",
         "2",
         "1",
         "17",
         "16",
         "1",
         "1",
         "5",
         "2",
         "4",
         "2",
         "5",
         "2",
         "1",
         "2",
         "5",
         "2",
         "3",
         "7",
         "3",
         "1",
         "3",
         "1",
         "1",
         "4",
         "2",
         "8",
         "10",
         "1",
         "2",
         "1",
         "11",
         "1",
         "3",
         "1",
         "4",
         "8",
         "6",
         "2",
         "5",
         "13",
         "32",
         "1",
         "1",
         "4",
         "4",
         "1",
         "4",
         "6",
         "1",
         "4",
         "8",
         "5",
         "6",
         "1",
         "1",
         "2",
         "17",
         "1",
         "3",
         "4",
         "2",
         "3",
         "3",
         "1",
         "7",
         "3",
         "2",
         "1",
         "9",
         "1",
         "1",
         "2",
         "3",
         "11",
         "6",
         "19",
         "3",
         "4",
         "15",
         "4",
         "4",
         "4",
         "5",
         "2",
         "3",
         "4",
         "4",
         "1",
         "7",
         "3",
         "2",
         "7",
         "2",
         "1",
         "12",
         "1",
         "16",
         "3",
         "15",
         "1",
         "6",
         "7",
         "1",
         "4",
         "2",
         "2",
         "1",
         "4",
         "1",
         "1",
         "9",
         "1",
         "8",
         "1",
         "1",
         "4",
         "1",
         "5",
         "3",
         "6",
         "3",
         "4",
         "3",
         "1",
         "3",
         "9",
         "3",
         "6",
         "4",
         "3",
         "7",
         "1",
         "2",
         "1",
         "3",
         "2",
         "4",
         "1",
         "8",
         "1",
         "1",
         "1",
         "5",
         "2",
         "2",
         "1",
         "2",
         "1",
         "1",
         "1",
         "3",
         "3",
         "2",
         "2",
         "1",
         "1",
         "1",
         "6",
         "1",
         "2",
         "1",
         "3",
         "6",
         "5",
         "2",
         "2",
         "4",
         "1",
         "5",
         "1",
         "1",
         "6",
         "15",
         "4",
         "9",
         "8",
         "1",
         "1",
         "1",
         "1",
         "2",
         "2",
         "1",
         "6",
         "2",
         "4",
         "1",
         "3",
         "1",
         "4",
         "2",
         "1",
         "5",
         "2",
         "1",
         "3",
         "16",
         "15",
         "1",
         "3",
         "17",
         "5",
         "2",
         "2",
         "17",
         "1",
         "3",
         "1",
         "9",
         "10",
         "1",
         "1",
         "3",
         "1",
         "4",
         "1",
         "2",
         "3",
         "4",
         "1",
         "1",
         "1",
         "9",
         "1",
         "1",
         "3",
         "1",
         "6",
         "1",
         "47",
         "2",
         "1",
         "3",
         "2",
         "1",
         "5",
         "4",
         "1",
         "1",
         "2",
         "8",
         "1",
         "1",
         "1",
         "3",
         "3",
         "3",
         "2",
         "2",
         "1",
         "2",
         "2",
         "2",
         "1",
         "1",
         "1",
         "1",
         "2",
         "1",
         "1",
         "1",
         "2",
         "6",
         "1",
         "2",
         "4",
         "1",
         "1",
         "3",
         "2",
         "6",
         "2",
         "16",
         "1",
         "1",
         "1",
         "1",
         "16",
         "5",
         "5",
         "2",
         "4",
         "1",
         "1",
         "1",
         "3",
         "3",
         "2",
         "7",
         "8",
         "4",
         "2",
         "3",
         "4",
         "3",
         "2",
         "1",
         "1",
         "1",
         "2",
         "1",
         "1",
         "8",
         "1",
         "2",
         "1",
         "1",
         "3",
         "1",
         "6",
         "2",
         "2",
         "2",
         "1",
         "1",
         "1",
         "4",
         "3",
         "1",
         "5",
         "4",
         "2",
         "2",
         "1",
         "1",
         "5",
         "1",
         "1",
         "1",
         "2",
         "2",
         "7",
         "2",
         "1",
         "3",
         "1",
         "2",
         "1",
         "2",
         "1",
         "2",
         "1",
         "3",
         "1",
         "1",
         "1",
         "1",
         "1",
         "2",
         "1",
         "1",
         "1",
         "1",
         "11",
         "3",
         "3",
         "1",
         "2",
         "3",
         "2",
         "1",
         "3",
         "3",
         "3",
         "1",
         "1",
         "2",
         "4",
         "3",
         "2",
         "1",
         "1",
         "2",
         "2",
         "1",
         "1",
         "1",
         "1",
         "4",
         "6",
         "5",
         "5",
         "3",
         "1",
         "4",
         "1",
         "2",
         "5",
         "4",
         "2",
         "2",
         "1",
         "1",
         "1",
         "1",
         "9",
         "10",
         "2",
         "2",
         "5",
         "2",
         "1",
         "1",
         "1",
         "1",
         "1",
         "1",
         "2",
         "6",
         "2",
         "5",
         "7",
         "1",
         "2",
         "4",
         "1",
         "1",
         "1",
         "1",
         "1",
         "1",
         "9",
         "2",
         "2",
         "3",
         "1",
         "4",
         "1",
         "1",
         "10",
         "1",
         "3",
         "6",
         "4",
         "1",
         "2",
         "7",
         "1",
         "2",
         "1",
         "1",
         "3",
         "3",
         "2",
         "1",
         "3",
         "1",
         "4",
         "3",
         "2",
         "3",
         "1",
         "1",
         "1",
         "20",
         "5",
         "2",
         "1",
         "1",
         "1",
         "1",
         "1",
         "1",
         "1",
         "2",
         "1",
         "1",
         "2",
         "4",
         "3",
         "1",
         "1",
         "2",
         "1",
         "1",
         "1",
         "2",
         "20",
         "2",
         "1",
         "1",
         "4",
         "1",
         "1",
         "1",
         "1",
         "1",
         "1",
         "2",
         "1",
         "4",
         "14",
         "6",
         "2",
         "1",
         "1",
         "5",
         "4",
         "1",
         "2",
         "1",
         "1",
         "1",
         "1",
         "1",
         "2",
         "2",
         "1",
         "1",
         "3",
         "1",
         "5",
         "2",
         "4",
         "1",
         "2",
         "1",
         "1",
         "1",
         "1",
         "1",
         "1",
         "1",
         "7",
         "2",
         "1",
         "1",
         "1",
         "1",
         "1",
         "2",
         "1",
         "2",
         "1",
         "1",
         "1",
         "4",
         "2",
         "1",
         "12",
         "1",
         "1",
         "4",
         "2",
         "1",
         "9",
         "2",
         "4",
         "1",
         "2",
         "1",
         "3",
         "1",
         "3",
         "2",
         "1",
         "5",
         "1",
         "2",
         "1",
         "1",
         "2",
         "3",
         "1",
         "1",
         "2",
         "1",
         "1",
         "1",
         "3",
         "2",
         "3",
         "1",
         "1",
         "2",
         "1",
         "7",
         "6",
         "1",
         "1",
         "1",
         "1",
         "2",
         "2",
         "1",
         "3",
         "3",
         "8",
         "1",
         "2",
         "1",
         "1",
         "6",
         "2",
         "1",
         "2",
         "4",
         "1",
         "1",
         "1",
         "1",
         "3",
         "2",
         "1",
         "6",
         "1",
         "1",
         "1",
         "1",
         "1",
         "2",
         "4",
         "3",
         "1",
         "1",
         "2",
         "2",
         "3",
         "1",
         "6",
         "2",
         "4",
         "1",
         "1",
         "1",
         "1",
         "2",
         "1",
         "1",
         "4",
         "3",
         "3",
         "2",
         "1",
         "2",
         "5",
         "6",
         "1",
         "4",
         "1",
         "1",
         "2",
         "1",
         "1",
         "2",
         "4",
         "1",
         "1",
         "1",
         "1",
         "1",
         "1",
         "3",
         "1",
         "1",
         "9",
         "1",
         "1",
         "1",
         "4",
         "1",
         "2",
         "1",
         "1",
         "4",
         "2",
         "1",
         "1",
         "2",
         "3",
         "1",
         "5",
         "1",
         "1",
         "1",
         "1",
         "2",
         "1",
         "1",
         "1",
         "1",
         "5",
         "1",
         "1",
         "1",
         "1",
         "2",
         "1",
         "2",
         "1",
         "2",
         "1",
         "1",
         "2",
         "3",
         "1",
         "1",
         "1",
         "1",
         "1",
         "1",
         "2",
         "1",
         "1",
         "1",
         "1",
         "1",
         "3",
         "1",
         "1",
         "4",
         "1",
         "1",
         "1",
         "1",
         "5",
         "1",
         "1",
         "1",
         "1",
         "1",
         "1",
         "1",
         "3",
         "1",
         "1",
         "1",
         "1",
         "5",
         "1",
         "2",
         "1",
         "1",
         "1",
         "1",
         "1",
         "1",
         "2",
         "2",
         "1",
         "1",
         "1",
         "1",
         "1",
         "1",
         "1",
         "4",
         "3",
         "1",
         "1",
         "1",
         "3",
         "1",
         "1",
         "4",
         "1",
         "1",
         "1",
         "4",
         "4",
         "1",
         "1",
         "1",
         "1",
         "3",
         "1",
         "2",
         "3",
         "8",
         "2",
         "1",
         "1",
         "3",
         "4",
         "1",
         "1",
         "3",
         "1",
         "1",
         "1",
         "1",
         "2",
         "4",
         "2",
         "1",
         "1",
         "2",
         "2",
         "1",
         "1",
         "1",
         "3",
         "1",
         "1",
         "1",
         "4",
         "1",
         "5",
         "1",
         "1",
         "1",
         "2",
         "3",
         "1",
         "1",
         "1",
         "2",
         "1",
         "1",
         "1",
         "2",
         "1",
         "4",
         "1",
         "1",
         "1",
         "2",
         "1",
         "1",
         "2",
         "2",
         "2",
         "1",
         "1",
         "1",
         "1",
         "1",
         "2",
         "2",
         "2",
         "2",
         "2",
         "1",
         "1",
         "5",
         "1",
         "1",
         "1",
         "3",
         "1",
         "2",
         "1",
         "1",
         "1",
         "1",
         "1",
         "1",
         "1",
         "1",
         "1",
         "1",
         "1",
         "1",
         "1",
         "1",
         "1",
         "1",
         "1",
         "1",
         "3",
         "1",
         "2",
         "6",
         "1",
         "1",
         "1",
         "1",
         "1",
         "2",
         "1",
         "1",
         "4",
         "1",
         "1",
         "1",
         "1",
         "1",
         "2",
         "2",
         "2",
         "1",
         "2",
         "3",
         "1",
         "1",
         "1",
         "1",
         "1",
         "2",
         "1",
         "1",
         "2",
         "1",
         "1",
         "1",
         "1",
         "4",
         "1",
         "2",
         "1",
         "4",
         "1",
         "1",
         "1",
         "1",
         "1",
         "1",
         "1",
         "1",
         "1",
         "1",
         "1",
         "1",
         "2",
         "1",
         "1",
         "1",
         "1",
         "1",
         "1",
         "1",
         "1",
         "1",
         "1",
         "1",
         "1",
         "2",
         "1",
         "1",
         "2",
         "1",
         "1",
         "1",
         "1",
         "1",
         "5",
         "2",
         "1",
         "1",
         "1",
         "5",
         "1",
         "1",
         "3",
         "2",
         "1",
         "1",
         "1",
         "1",
         "1",
         "2",
         "1",
         "2",
         "2",
         "1",
         "1",
         "1",
         "1",
         "1",
         "3",
         "2",
         "2",
         "1",
         "1",
         "1",
         "1",
         "1",
         "1",
         "1",
         "2",
         "1",
         "1",
         "1",
         "1",
         "1",
         "1",
         "10",
         "1",
         "1",
         "2",
         "4",
         "1",
         "1",
         "1",
         "1",
         "1",
         "1",
         "1",
         "2",
         "1",
         "1",
         "1",
         "1",
         "2",
         "1",
         "1",
         "1",
         "1",
         "1",
         "1",
         "1",
         "1",
         "1",
         "1",
         "1",
         "1",
         "1",
         "2",
         "1",
         "1",
         "1",
         "1",
         "1",
         "11",
         "1",
         "7",
         "2",
         "1",
         "1",
         "1",
         "2",
         "1",
         "1",
         "2",
         "2",
         "2",
         "2",
         "1",
         "1",
         "2",
         "4",
         "1",
         "1",
         "1",
         "1",
         "1",
         "1",
         "1",
         "3",
         "1",
         "1",
         "1",
         "1",
         "1",
         "1",
         "3",
         "1",
         "2",
         "1",
         "1",
         "1",
         "1",
         "1",
         "4",
         "2",
         "1",
         "1",
         "1",
         "1",
         "1",
         "1",
         "1",
         "2",
         "1",
         "2",
         "1",
         "1",
         "1",
         "1",
         "2",
         "1",
         "1",
         "1",
         "1",
         "1",
         "1",
         "1",
         "1",
         "1",
         "1",
         "1",
         "1",
         "1",
         "1",
         "2",
         "1",
         "3",
         "3",
         "1",
         "1",
         "1",
         "1",
         "1",
         "1",
         "1",
         "2",
         "2",
         "1",
         "1",
         "1",
         "1",
         "1",
         "1"
        ],
        [
         "may",
         "1",
         "1",
         "1",
         "1",
         "26",
         "127",
         "26",
         "15",
         "3",
         "8",
         "4",
         "2",
         "2",
         "2",
         "7",
         "2",
         "4",
         "9",
         "7",
         "31",
         "64",
         "20",
         "7",
         "93",
         "7",
         "26",
         "1",
         "28",
         "4",
         "31",
         "5",
         "60",
         "4",
         "12",
         "2",
         "8",
         "17",
         "16",
         "153",
         "19",
         "1",
         "73",
         "8",
         "1",
         "2",
         "230",
         "3",
         "7",
         "14",
         "34",
         "2",
         "1",
         "5",
         "24",
         "3",
         "1",
         "8",
         "14",
         "18",
         "8",
         "23",
         "10",
         "38",
         "12",
         "15",
         "44",
         "51",
         "51",
         "2",
         "5",
         "22",
         "16",
         "40",
         "59",
         "4",
         "34",
         "46",
         "20",
         "5",
         "3",
         "8",
         "17",
         "8",
         "27",
         "2",
         "14",
         "10",
         "9",
         "5",
         "34",
         "6",
         "12",
         "1",
         "8",
         "3",
         "1",
         "54",
         "32",
         "20",
         "72",
         "2",
         "34",
         "13",
         "7",
         "7",
         "12",
         "33",
         "4",
         "2",
         "10",
         "28",
         "18",
         "39",
         "11",
         "5",
         "30",
         "31",
         "17",
         "16",
         "8",
         "17",
         "1",
         "2",
         "11",
         "1",
         "2",
         "15",
         "13",
         "5",
         "5",
         "12",
         "6",
         "3",
         "3",
         "55",
         "5",
         "2",
         "11",
         "83",
         "21",
         "2",
         "9",
         "8",
         "6",
         "1",
         "44",
         "8",
         "5",
         "27",
         "3",
         "17",
         "17",
         "1",
         "35",
         "2",
         "2",
         "30",
         "9",
         "3",
         "2",
         "2",
         "1",
         "1",
         "1",
         "2",
         "7",
         "15",
         "9",
         "7",
         "1",
         "1",
         "2",
         "2",
         "3",
         "45",
         "4",
         "11",
         "13",
         "7",
         "6",
         "4",
         "24",
         "6",
         "44",
         "7",
         "4",
         "1",
         "4",
         "48",
         "3",
         "11",
         "32",
         "11",
         "1",
         "14",
         "1",
         "5",
         "6",
         "19",
         "37",
         "16",
         "14",
         "4",
         "26",
         "15",
         "17",
         "7",
         "9",
         "1",
         "3",
         "2",
         "1",
         "9",
         "11",
         "12",
         "49",
         "6",
         "18",
         "25",
         "5",
         "3",
         "8",
         "13",
         "5",
         "2",
         "3",
         "3",
         "8",
         "1",
         "3",
         "1",
         "1",
         "3",
         "12",
         "12",
         "1",
         "6",
         "10",
         "3",
         "17",
         "1",
         "3",
         "8",
         "3",
         "15",
         "1",
         "3",
         "29",
         "14",
         "10",
         "26",
         "5",
         "1",
         "2",
         "5",
         "4",
         "1",
         "1",
         "7",
         "9",
         "4",
         "1",
         "6",
         "1",
         "32",
         "4",
         "7",
         "2",
         "5",
         "13",
         "8",
         "9",
         "4",
         "6",
         "6",
         "1",
         "2",
         "2",
         "1",
         "7",
         "1",
         "42",
         "5",
         "1",
         "19",
         "1",
         "4",
         "7",
         "17",
         "3",
         "1",
         "1",
         "3",
         "2",
         "3",
         "5",
         "6",
         "14",
         "25",
         "5",
         "1",
         "10",
         "4",
         "3",
         "1",
         "2",
         "24",
         "15",
         "1",
         "4",
         "3",
         "2",
         "4",
         "1",
         "3",
         "3",
         "4",
         "2",
         "3",
         "17",
         "8",
         "14",
         "15",
         "10",
         "1",
         "2",
         "1",
         "2",
         "35",
         "13",
         "8",
         "3",
         "16",
         "1",
         "53",
         "28",
         "9",
         "6",
         "2",
         "1",
         "1",
         "2",
         "1",
         "2",
         "1",
         "15",
         "2",
         "5",
         "1",
         "5",
         "54",
         "8",
         "12",
         "1",
         "13",
         "7",
         "1",
         "19",
         "4",
         "4",
         "1",
         "2",
         "1",
         "28",
         "1",
         "1",
         "25",
         "12",
         "1",
         "3",
         "12",
         "6",
         "3",
         "3",
         "8",
         "6",
         "1",
         "20",
         "3",
         "3",
         "2",
         "8",
         "5",
         "1",
         "2",
         "6",
         "7",
         "1",
         "9",
         "30",
         "5",
         "2",
         "28",
         "2",
         "9",
         "26",
         "5",
         "8",
         "1",
         "9",
         "2",
         "6",
         "7",
         "5",
         "2",
         "2",
         "2",
         "9",
         "4",
         "5",
         "20",
         "4",
         "4",
         "1",
         "5",
         "1",
         "1",
         "9",
         "5",
         "4",
         "1",
         "6",
         "17",
         "11",
         "21",
         "2",
         "1",
         "1",
         "1",
         "1",
         "5",
         "3",
         "2",
         "7",
         "3",
         "3",
         "2",
         "3",
         "3",
         "3",
         "6",
         "5",
         "14",
         "15",
         "2",
         "3",
         "2",
         "2",
         "11",
         "1",
         "1",
         "1",
         "1",
         "1",
         "2",
         "1",
         "13",
         "1",
         "1",
         "15",
         "6",
         "11",
         "2",
         "5",
         "1",
         "2",
         "1",
         "11",
         "1",
         "1",
         "2",
         "1",
         "1",
         "2",
         "1",
         "2",
         "8",
         "5",
         "1",
         "1",
         "1",
         "1",
         "6",
         "1",
         "2",
         "1",
         "1",
         "1",
         "1",
         "2",
         "1",
         "15",
         "6",
         "4",
         "4",
         "1",
         "2",
         "4",
         "2",
         "1",
         "1",
         "1",
         "9",
         "1",
         "17",
         "1",
         "4",
         "4",
         "1",
         "10",
         "16",
         "1",
         "1",
         "10",
         "1",
         "2",
         "1",
         "2",
         "1",
         "2",
         "5",
         "1",
         "1",
         "2",
         "6",
         "4",
         "2",
         "1",
         "4",
         "1",
         "9",
         "4",
         "13",
         "3",
         "1",
         "14",
         "11",
         "5",
         "1",
         "16",
         "2",
         "4",
         "3",
         "6",
         "7",
         "1",
         "1",
         "6",
         "1",
         "1",
         "1",
         "1",
         "2",
         "4",
         "17",
         "1",
         "1",
         "6",
         "2",
         "5",
         "15",
         "1",
         "1",
         "7",
         "15",
         "3",
         "4",
         "2",
         "4",
         "2",
         "1",
         "17",
         "16",
         "1",
         "1",
         "5",
         "2",
         "4",
         "2",
         "5",
         "2",
         "1",
         "2",
         "5",
         "2",
         "3",
         "7",
         "3",
         "1",
         "3",
         "1",
         "1",
         "4",
         "2",
         "8",
         "10",
         "1",
         "2",
         "1",
         "11",
         "1",
         "3",
         "1",
         "4",
         "8",
         "6",
         "2",
         "5",
         "13",
         "32",
         "1",
         "1",
         "4",
         "4",
         "1",
         "4",
         "6",
         "1",
         "4",
         "8",
         "5",
         "6",
         "1",
         "1",
         "2",
         "17",
         "1",
         "3",
         "4",
         "2",
         "3",
         "3",
         "1",
         "7",
         "3",
         "2",
         "1",
         "9",
         "1",
         "1",
         "2",
         "3",
         "11",
         "6",
         "19",
         "3",
         "4",
         "15",
         "4",
         "4",
         "4",
         "5",
         "2",
         "3",
         "4",
         "4",
         "1",
         "7",
         "3",
         "2",
         "7",
         "2",
         "1",
         "12",
         "1",
         "16",
         "3",
         "15",
         "1",
         "6",
         "7",
         "1",
         "4",
         "2",
         "2",
         "1",
         "4",
         "1",
         "1",
         "9",
         "1",
         "8",
         "1",
         "1",
         "4",
         "1",
         "5",
         "3",
         "6",
         "3",
         "4",
         "3",
         "1",
         "3",
         "9",
         "3",
         "6",
         "4",
         "3",
         "7",
         "1",
         "2",
         "1",
         "3",
         "2",
         "4",
         "1",
         "8",
         "1",
         "1",
         "1",
         "5",
         "2",
         "2",
         "1",
         "2",
         "1",
         "1",
         "1",
         "3",
         "3",
         "2",
         "2",
         "1",
         "1",
         "1",
         "6",
         "1",
         "2",
         "1",
         "3",
         "6",
         "5",
         "2",
         "2",
         "4",
         "1",
         "5",
         "1",
         "1",
         "6",
         "15",
         "4",
         "9",
         "8",
         "1",
         "1",
         "1",
         "1",
         "2",
         "2",
         "1",
         "6",
         "2",
         "4",
         "1",
         "3",
         "1",
         "4",
         "2",
         "1",
         "5",
         "2",
         "1",
         "3",
         "16",
         "15",
         "1",
         "3",
         "17",
         "5",
         "2",
         "2",
         "17",
         "1",
         "3",
         "1",
         "9",
         "10",
         "1",
         "1",
         "3",
         "1",
         "4",
         "1",
         "2",
         "3",
         "4",
         "1",
         "1",
         "1",
         "9",
         "1",
         "1",
         "3",
         "1",
         "6",
         "1",
         "47",
         "2",
         "1",
         "3",
         "2",
         "1",
         "5",
         "4",
         "1",
         "1",
         "2",
         "8",
         "1",
         "1",
         "1",
         "3",
         "3",
         "3",
         "2",
         "2",
         "1",
         "2",
         "2",
         "2",
         "1",
         "1",
         "1",
         "1",
         "2",
         "1",
         "1",
         "1",
         "2",
         "6",
         "1",
         "2",
         "4",
         "1",
         "1",
         "3",
         "2",
         "6",
         "2",
         "16",
         "1",
         "1",
         "1",
         "1",
         "16",
         "5",
         "5",
         "2",
         "4",
         "1",
         "1",
         "1",
         "3",
         "3",
         "2",
         "7",
         "8",
         "4",
         "2",
         "3",
         "4",
         "3",
         "2",
         "1",
         "1",
         "1",
         "2",
         "1",
         "1",
         "8",
         "1",
         "2",
         "1",
         "1",
         "3",
         "1",
         "6",
         "2",
         "2",
         "2",
         "1",
         "1",
         "1",
         "4",
         "3",
         "1",
         "5",
         "4",
         "2",
         "2",
         "1",
         "1",
         "5",
         "1",
         "1",
         "1",
         "2",
         "2",
         "7",
         "2",
         "1",
         "3",
         "1",
         "2",
         "1",
         "2",
         "1",
         "2",
         "1",
         "3",
         "1",
         "1",
         "1",
         "1",
         "1",
         "2",
         "1",
         "1",
         "1",
         "1",
         "11",
         "3",
         "3",
         "1",
         "2",
         "3",
         "2",
         "1",
         "3",
         "3",
         "3",
         "1",
         "1",
         "2",
         "4",
         "3",
         "2",
         "1",
         "1",
         "2",
         "2",
         "1",
         "1",
         "1",
         "1",
         "4",
         "6",
         "5",
         "5",
         "3",
         "1",
         "4",
         "1",
         "2",
         "5",
         "4",
         "2",
         "2",
         "1",
         "1",
         "1",
         "1",
         "9",
         "10",
         "2",
         "2",
         "5",
         "2",
         "1",
         "1",
         "1",
         "1",
         "1",
         "1",
         "2",
         "6",
         "2",
         "5",
         "7",
         "1",
         "2",
         "4",
         "1",
         "1",
         "1",
         "1",
         "1",
         "1",
         "9",
         "2",
         "2",
         "3",
         "1",
         "4",
         "1",
         "1",
         "10",
         "1",
         "3",
         "6",
         "4",
         "1",
         "2",
         "7",
         "1",
         "2",
         "1",
         "1",
         "3",
         "3",
         "2",
         "1",
         "3",
         "1",
         "4",
         "3",
         "2",
         "3",
         "1",
         "1",
         "1",
         "20",
         "5",
         "2",
         "1",
         "1",
         "1",
         "1",
         "1",
         "1",
         "1",
         "2",
         "1",
         "1",
         "2",
         "4",
         "3",
         "1",
         "1",
         "2",
         "1",
         "1",
         "1",
         "2",
         "20",
         "2",
         "1",
         "1",
         "4",
         "1",
         "1",
         "1",
         "1",
         "1",
         "1",
         "2",
         "1",
         "4",
         "14",
         "6",
         "2",
         "1",
         "1",
         "5",
         "4",
         "1",
         "2",
         "1",
         "1",
         "1",
         "1",
         "1",
         "2",
         "2",
         "1",
         "1",
         "3",
         "1",
         "5",
         "2",
         "4",
         "1",
         "2",
         "1",
         "1",
         "1",
         "1",
         "1",
         "1",
         "1",
         "7",
         "2",
         "1",
         "1",
         "1",
         "1",
         "1",
         "2",
         "1",
         "2",
         "1",
         "1",
         "1",
         "4",
         "2",
         "1",
         "12",
         "1",
         "1",
         "4",
         "2",
         "1",
         "9",
         "2",
         "4",
         "1",
         "2",
         "1",
         "3",
         "1",
         "3",
         "2",
         "1",
         "5",
         "1",
         "2",
         "1",
         "1",
         "2",
         "3",
         "1",
         "1",
         "2",
         "1",
         "1",
         "1",
         "3",
         "2",
         "3",
         "1",
         "1",
         "2",
         "1",
         "7",
         "6",
         "1",
         "1",
         "1",
         "1",
         "2",
         "2",
         "1",
         "3",
         "3",
         "8",
         "1",
         "2",
         "1",
         "1",
         "6",
         "2",
         "1",
         "2",
         "4",
         "1",
         "1",
         "1",
         "1",
         "3",
         "2",
         "1",
         "6",
         "1",
         "1",
         "1",
         "1",
         "1",
         "2",
         "4",
         "3",
         "1",
         "1",
         "2",
         "2",
         "3",
         "1",
         "6",
         "2",
         "4",
         "1",
         "1",
         "1",
         "1",
         "2",
         "1",
         "1",
         "4",
         "3",
         "3",
         "2",
         "1",
         "2",
         "5",
         "6",
         "1",
         "4",
         "1",
         "1",
         "2",
         "1",
         "1",
         "2",
         "4",
         "1",
         "1",
         "1",
         "1",
         "1",
         "1",
         "3",
         "1",
         "1",
         "9",
         "1",
         "1",
         "1",
         "4",
         "1",
         "2",
         "1",
         "1",
         "4",
         "2",
         "1",
         "1",
         "2",
         "3",
         "1",
         "5",
         "1",
         "1",
         "1",
         "1",
         "2",
         "1",
         "1",
         "1",
         "1",
         "5",
         "1",
         "1",
         "1",
         "1",
         "2",
         "1",
         "2",
         "1",
         "2",
         "1",
         "1",
         "2",
         "3",
         "1",
         "1",
         "1",
         "1",
         "1",
         "1",
         "2",
         "1",
         "1",
         "1",
         "1",
         "1",
         "3",
         "1",
         "1",
         "4",
         "1",
         "1",
         "1",
         "1",
         "5",
         "1",
         "1",
         "1",
         "1",
         "1",
         "1",
         "1",
         "3",
         "1",
         "1",
         "1",
         "1",
         "5",
         "1",
         "2",
         "1",
         "1",
         "1",
         "1",
         "1",
         "1",
         "2",
         "2",
         "1",
         "1",
         "1",
         "1",
         "1",
         "1",
         "1",
         "4",
         "3",
         "1",
         "1",
         "1",
         "3",
         "1",
         "1",
         "4",
         "1",
         "1",
         "1",
         "4",
         "4",
         "1",
         "1",
         "1",
         "1",
         "3",
         "1",
         "2",
         "3",
         "8",
         "2",
         "1",
         "1",
         "3",
         "4",
         "1",
         "1",
         "3",
         "1",
         "1",
         "1",
         "1",
         "2",
         "4",
         "2",
         "1",
         "1",
         "2",
         "2",
         "1",
         "1",
         "1",
         "3",
         "1",
         "1",
         "1",
         "4",
         "1",
         "5",
         "1",
         "1",
         "1",
         "2",
         "3",
         "1",
         "1",
         "1",
         "2",
         "1",
         "1",
         "1",
         "2",
         "1",
         "4",
         "1",
         "1",
         "1",
         "2",
         "1",
         "1",
         "2",
         "2",
         "2",
         "1",
         "1",
         "1",
         "1",
         "1",
         "2",
         "2",
         "2",
         "2",
         "2",
         "1",
         "1",
         "5",
         "1",
         "1",
         "1",
         "3",
         "1",
         "2",
         "1",
         "1",
         "1",
         "1",
         "1",
         "1",
         "1",
         "1",
         "1",
         "1",
         "1",
         "1",
         "1",
         "1",
         "1",
         "1",
         "1",
         "1",
         "3",
         "1",
         "2",
         "6",
         "1",
         "1",
         "1",
         "1",
         "1",
         "2",
         "1",
         "1",
         "4",
         "1",
         "1",
         "1",
         "1",
         "1",
         "2",
         "2",
         "2",
         "1",
         "2",
         "3",
         "1",
         "1",
         "1",
         "1",
         "1",
         "2",
         "1",
         "1",
         "2",
         "1",
         "1",
         "1",
         "1",
         "4",
         "1",
         "2",
         "1",
         "4",
         "1",
         "1",
         "1",
         "1",
         "1",
         "1",
         "1",
         "1",
         "1",
         "1",
         "1",
         "1",
         "2",
         "1",
         "1",
         "1",
         "1",
         "1",
         "1",
         "1",
         "1",
         "1",
         "1",
         "1",
         "1",
         "2",
         "1",
         "1",
         "2",
         "1",
         "1",
         "1",
         "1",
         "1",
         "5",
         "2",
         "1",
         "1",
         "1",
         "5",
         "1",
         "1",
         "3",
         "2",
         "1",
         "1",
         "1",
         "1",
         "1",
         "2",
         "1",
         "2",
         "2",
         "1",
         "1",
         "1",
         "1",
         "1",
         "3",
         "2",
         "2",
         "1",
         "1",
         "1",
         "1",
         "1",
         "1",
         "1",
         "2",
         "1",
         "1",
         "1",
         "1",
         "1",
         "1",
         "10",
         "1",
         "1",
         "2",
         "4",
         "1",
         "1",
         "1",
         "1",
         "1",
         "1",
         "1",
         "2",
         "1",
         "1",
         "1",
         "1",
         "2",
         "1",
         "1",
         "1",
         "1",
         "1",
         "1",
         "1",
         "1",
         "1",
         "1",
         "1",
         "1",
         "1",
         "2",
         "1",
         "1",
         "1",
         "1",
         "1",
         "11",
         "1",
         "7",
         "2",
         "1",
         "1",
         "1",
         "2",
         "1",
         "1",
         "2",
         "2",
         "2",
         "2",
         "1",
         "1",
         "2",
         "4",
         "1",
         "1",
         "1",
         "1",
         "1",
         "1",
         "1",
         "3",
         "1",
         "1",
         "1",
         "1",
         "1",
         "1",
         "3",
         "1",
         "2",
         "1",
         "1",
         "1",
         "1",
         "1",
         "4",
         "2",
         "1",
         "1",
         "1",
         "1",
         "1",
         "1",
         "1",
         "2",
         "1",
         "2",
         "1",
         "1",
         "1",
         "1",
         "2",
         "1",
         "1",
         "1",
         "1",
         "1",
         "1",
         "1",
         "1",
         "1",
         "1",
         "1",
         "1",
         "1",
         "1",
         "2",
         "1",
         "3",
         "3",
         "1",
         "1",
         "1",
         "1",
         "1",
         "1",
         "1",
         "2",
         "2",
         "1",
         "1",
         "1",
         "1",
         "1",
         "1"
        ],
        [
         "alcott",
         "1",
         "1",
         "1",
         "1",
         "26",
         "127",
         "26",
         "15",
         "3",
         "8",
         "4",
         "2",
         "2",
         "2",
         "7",
         "2",
         "4",
         "9",
         "7",
         "31",
         "64",
         "20",
         "7",
         "93",
         "7",
         "26",
         "1",
         "28",
         "4",
         "31",
         "5",
         "60",
         "4",
         "12",
         "2",
         "8",
         "17",
         "16",
         "153",
         "19",
         "1",
         "73",
         "8",
         "1",
         "2",
         "230",
         "3",
         "7",
         "14",
         "34",
         "2",
         "1",
         "5",
         "24",
         "3",
         "1",
         "8",
         "14",
         "18",
         "8",
         "23",
         "10",
         "38",
         "12",
         "15",
         "44",
         "51",
         "51",
         "2",
         "5",
         "22",
         "16",
         "40",
         "59",
         "4",
         "34",
         "46",
         "20",
         "5",
         "3",
         "8",
         "17",
         "8",
         "27",
         "2",
         "14",
         "10",
         "9",
         "5",
         "34",
         "6",
         "12",
         "1",
         "8",
         "3",
         "1",
         "54",
         "32",
         "20",
         "72",
         "2",
         "34",
         "13",
         "7",
         "7",
         "12",
         "33",
         "4",
         "2",
         "10",
         "28",
         "18",
         "39",
         "11",
         "5",
         "30",
         "31",
         "17",
         "16",
         "8",
         "17",
         "1",
         "2",
         "11",
         "1",
         "2",
         "15",
         "13",
         "5",
         "5",
         "12",
         "6",
         "3",
         "3",
         "55",
         "5",
         "2",
         "11",
         "83",
         "21",
         "2",
         "9",
         "8",
         "6",
         "1",
         "44",
         "8",
         "5",
         "27",
         "3",
         "17",
         "17",
         "1",
         "35",
         "2",
         "2",
         "30",
         "9",
         "3",
         "2",
         "2",
         "1",
         "1",
         "1",
         "2",
         "7",
         "15",
         "9",
         "7",
         "1",
         "1",
         "2",
         "2",
         "3",
         "45",
         "4",
         "11",
         "13",
         "7",
         "6",
         "4",
         "24",
         "6",
         "44",
         "7",
         "4",
         "1",
         "4",
         "48",
         "3",
         "11",
         "32",
         "11",
         "1",
         "14",
         "1",
         "5",
         "6",
         "19",
         "37",
         "16",
         "14",
         "4",
         "26",
         "15",
         "17",
         "7",
         "9",
         "1",
         "3",
         "2",
         "1",
         "9",
         "11",
         "12",
         "49",
         "6",
         "18",
         "25",
         "5",
         "3",
         "8",
         "13",
         "5",
         "2",
         "3",
         "3",
         "8",
         "1",
         "3",
         "1",
         "1",
         "3",
         "12",
         "12",
         "1",
         "6",
         "10",
         "3",
         "17",
         "1",
         "3",
         "8",
         "3",
         "15",
         "1",
         "3",
         "29",
         "14",
         "10",
         "26",
         "5",
         "1",
         "2",
         "5",
         "4",
         "1",
         "1",
         "7",
         "9",
         "4",
         "1",
         "6",
         "1",
         "32",
         "4",
         "7",
         "2",
         "5",
         "13",
         "8",
         "9",
         "4",
         "6",
         "6",
         "1",
         "2",
         "2",
         "1",
         "7",
         "1",
         "42",
         "5",
         "1",
         "19",
         "1",
         "4",
         "7",
         "17",
         "3",
         "1",
         "1",
         "3",
         "2",
         "3",
         "5",
         "6",
         "14",
         "25",
         "5",
         "1",
         "10",
         "4",
         "3",
         "1",
         "2",
         "24",
         "15",
         "1",
         "4",
         "3",
         "2",
         "4",
         "1",
         "3",
         "3",
         "4",
         "2",
         "3",
         "17",
         "8",
         "14",
         "15",
         "10",
         "1",
         "2",
         "1",
         "2",
         "35",
         "13",
         "8",
         "3",
         "16",
         "1",
         "53",
         "28",
         "9",
         "6",
         "2",
         "1",
         "1",
         "2",
         "1",
         "2",
         "1",
         "15",
         "2",
         "5",
         "1",
         "5",
         "54",
         "8",
         "12",
         "1",
         "13",
         "7",
         "1",
         "19",
         "4",
         "4",
         "1",
         "2",
         "1",
         "28",
         "1",
         "1",
         "25",
         "12",
         "1",
         "3",
         "12",
         "6",
         "3",
         "3",
         "8",
         "6",
         "1",
         "20",
         "3",
         "3",
         "2",
         "8",
         "5",
         "1",
         "2",
         "6",
         "7",
         "1",
         "9",
         "30",
         "5",
         "2",
         "28",
         "2",
         "9",
         "26",
         "5",
         "8",
         "1",
         "9",
         "2",
         "6",
         "7",
         "5",
         "2",
         "2",
         "2",
         "9",
         "4",
         "5",
         "20",
         "4",
         "4",
         "1",
         "5",
         "1",
         "1",
         "9",
         "5",
         "4",
         "1",
         "6",
         "17",
         "11",
         "21",
         "2",
         "1",
         "1",
         "1",
         "1",
         "5",
         "3",
         "2",
         "7",
         "3",
         "3",
         "2",
         "3",
         "3",
         "3",
         "6",
         "5",
         "14",
         "15",
         "2",
         "3",
         "2",
         "2",
         "11",
         "1",
         "1",
         "1",
         "1",
         "1",
         "2",
         "1",
         "13",
         "1",
         "1",
         "15",
         "6",
         "11",
         "2",
         "5",
         "1",
         "2",
         "1",
         "11",
         "1",
         "1",
         "2",
         "1",
         "1",
         "2",
         "1",
         "2",
         "8",
         "5",
         "1",
         "1",
         "1",
         "1",
         "6",
         "1",
         "2",
         "1",
         "1",
         "1",
         "1",
         "2",
         "1",
         "15",
         "6",
         "4",
         "4",
         "1",
         "2",
         "4",
         "2",
         "1",
         "1",
         "1",
         "9",
         "1",
         "17",
         "1",
         "4",
         "4",
         "1",
         "10",
         "16",
         "1",
         "1",
         "10",
         "1",
         "2",
         "1",
         "2",
         "1",
         "2",
         "5",
         "1",
         "1",
         "2",
         "6",
         "4",
         "2",
         "1",
         "4",
         "1",
         "9",
         "4",
         "13",
         "3",
         "1",
         "14",
         "11",
         "5",
         "1",
         "16",
         "2",
         "4",
         "3",
         "6",
         "7",
         "1",
         "1",
         "6",
         "1",
         "1",
         "1",
         "1",
         "2",
         "4",
         "17",
         "1",
         "1",
         "6",
         "2",
         "5",
         "15",
         "1",
         "1",
         "7",
         "15",
         "3",
         "4",
         "2",
         "4",
         "2",
         "1",
         "17",
         "16",
         "1",
         "1",
         "5",
         "2",
         "4",
         "2",
         "5",
         "2",
         "1",
         "2",
         "5",
         "2",
         "3",
         "7",
         "3",
         "1",
         "3",
         "1",
         "1",
         "4",
         "2",
         "8",
         "10",
         "1",
         "2",
         "1",
         "11",
         "1",
         "3",
         "1",
         "4",
         "8",
         "6",
         "2",
         "5",
         "13",
         "32",
         "1",
         "1",
         "4",
         "4",
         "1",
         "4",
         "6",
         "1",
         "4",
         "8",
         "5",
         "6",
         "1",
         "1",
         "2",
         "17",
         "1",
         "3",
         "4",
         "2",
         "3",
         "3",
         "1",
         "7",
         "3",
         "2",
         "1",
         "9",
         "1",
         "1",
         "2",
         "3",
         "11",
         "6",
         "19",
         "3",
         "4",
         "15",
         "4",
         "4",
         "4",
         "5",
         "2",
         "3",
         "4",
         "4",
         "1",
         "7",
         "3",
         "2",
         "7",
         "2",
         "1",
         "12",
         "1",
         "16",
         "3",
         "15",
         "1",
         "6",
         "7",
         "1",
         "4",
         "2",
         "2",
         "1",
         "4",
         "1",
         "1",
         "9",
         "1",
         "8",
         "1",
         "1",
         "4",
         "1",
         "5",
         "3",
         "6",
         "3",
         "4",
         "3",
         "1",
         "3",
         "9",
         "3",
         "6",
         "4",
         "3",
         "7",
         "1",
         "2",
         "1",
         "3",
         "2",
         "4",
         "1",
         "8",
         "1",
         "1",
         "1",
         "5",
         "2",
         "2",
         "1",
         "2",
         "1",
         "1",
         "1",
         "3",
         "3",
         "2",
         "2",
         "1",
         "1",
         "1",
         "6",
         "1",
         "2",
         "1",
         "3",
         "6",
         "5",
         "2",
         "2",
         "4",
         "1",
         "5",
         "1",
         "1",
         "6",
         "15",
         "4",
         "9",
         "8",
         "1",
         "1",
         "1",
         "1",
         "2",
         "2",
         "1",
         "6",
         "2",
         "4",
         "1",
         "3",
         "1",
         "4",
         "2",
         "1",
         "5",
         "2",
         "1",
         "3",
         "16",
         "15",
         "1",
         "3",
         "17",
         "5",
         "2",
         "2",
         "17",
         "1",
         "3",
         "1",
         "9",
         "10",
         "1",
         "1",
         "3",
         "1",
         "4",
         "1",
         "2",
         "3",
         "4",
         "1",
         "1",
         "1",
         "9",
         "1",
         "1",
         "3",
         "1",
         "6",
         "1",
         "47",
         "2",
         "1",
         "3",
         "2",
         "1",
         "5",
         "4",
         "1",
         "1",
         "2",
         "8",
         "1",
         "1",
         "1",
         "3",
         "3",
         "3",
         "2",
         "2",
         "1",
         "2",
         "2",
         "2",
         "1",
         "1",
         "1",
         "1",
         "2",
         "1",
         "1",
         "1",
         "2",
         "6",
         "1",
         "2",
         "4",
         "1",
         "1",
         "3",
         "2",
         "6",
         "2",
         "16",
         "1",
         "1",
         "1",
         "1",
         "16",
         "5",
         "5",
         "2",
         "4",
         "1",
         "1",
         "1",
         "3",
         "3",
         "2",
         "7",
         "8",
         "4",
         "2",
         "3",
         "4",
         "3",
         "2",
         "1",
         "1",
         "1",
         "2",
         "1",
         "1",
         "8",
         "1",
         "2",
         "1",
         "1",
         "3",
         "1",
         "6",
         "2",
         "2",
         "2",
         "1",
         "1",
         "1",
         "4",
         "3",
         "1",
         "5",
         "4",
         "2",
         "2",
         "1",
         "1",
         "5",
         "1",
         "1",
         "1",
         "2",
         "2",
         "7",
         "2",
         "1",
         "3",
         "1",
         "2",
         "1",
         "2",
         "1",
         "2",
         "1",
         "3",
         "1",
         "1",
         "1",
         "1",
         "1",
         "2",
         "1",
         "1",
         "1",
         "1",
         "11",
         "3",
         "3",
         "1",
         "2",
         "3",
         "2",
         "1",
         "3",
         "3",
         "3",
         "1",
         "1",
         "2",
         "4",
         "3",
         "2",
         "1",
         "1",
         "2",
         "2",
         "1",
         "1",
         "1",
         "1",
         "4",
         "6",
         "5",
         "5",
         "3",
         "1",
         "4",
         "1",
         "2",
         "5",
         "4",
         "2",
         "2",
         "1",
         "1",
         "1",
         "1",
         "9",
         "10",
         "2",
         "2",
         "5",
         "2",
         "1",
         "1",
         "1",
         "1",
         "1",
         "1",
         "2",
         "6",
         "2",
         "5",
         "7",
         "1",
         "2",
         "4",
         "1",
         "1",
         "1",
         "1",
         "1",
         "1",
         "9",
         "2",
         "2",
         "3",
         "1",
         "4",
         "1",
         "1",
         "10",
         "1",
         "3",
         "6",
         "4",
         "1",
         "2",
         "7",
         "1",
         "2",
         "1",
         "1",
         "3",
         "3",
         "2",
         "1",
         "3",
         "1",
         "4",
         "3",
         "2",
         "3",
         "1",
         "1",
         "1",
         "20",
         "5",
         "2",
         "1",
         "1",
         "1",
         "1",
         "1",
         "1",
         "1",
         "2",
         "1",
         "1",
         "2",
         "4",
         "3",
         "1",
         "1",
         "2",
         "1",
         "1",
         "1",
         "2",
         "20",
         "2",
         "1",
         "1",
         "4",
         "1",
         "1",
         "1",
         "1",
         "1",
         "1",
         "2",
         "1",
         "4",
         "14",
         "6",
         "2",
         "1",
         "1",
         "5",
         "4",
         "1",
         "2",
         "1",
         "1",
         "1",
         "1",
         "1",
         "2",
         "2",
         "1",
         "1",
         "3",
         "1",
         "5",
         "2",
         "4",
         "1",
         "2",
         "1",
         "1",
         "1",
         "1",
         "1",
         "1",
         "1",
         "7",
         "2",
         "1",
         "1",
         "1",
         "1",
         "1",
         "2",
         "1",
         "2",
         "1",
         "1",
         "1",
         "4",
         "2",
         "1",
         "12",
         "1",
         "1",
         "4",
         "2",
         "1",
         "9",
         "2",
         "4",
         "1",
         "2",
         "1",
         "3",
         "1",
         "3",
         "2",
         "1",
         "5",
         "1",
         "2",
         "1",
         "1",
         "2",
         "3",
         "1",
         "1",
         "2",
         "1",
         "1",
         "1",
         "3",
         "2",
         "3",
         "1",
         "1",
         "2",
         "1",
         "7",
         "6",
         "1",
         "1",
         "1",
         "1",
         "2",
         "2",
         "1",
         "3",
         "3",
         "8",
         "1",
         "2",
         "1",
         "1",
         "6",
         "2",
         "1",
         "2",
         "4",
         "1",
         "1",
         "1",
         "1",
         "3",
         "2",
         "1",
         "6",
         "1",
         "1",
         "1",
         "1",
         "1",
         "2",
         "4",
         "3",
         "1",
         "1",
         "2",
         "2",
         "3",
         "1",
         "6",
         "2",
         "4",
         "1",
         "1",
         "1",
         "1",
         "2",
         "1",
         "1",
         "4",
         "3",
         "3",
         "2",
         "1",
         "2",
         "5",
         "6",
         "1",
         "4",
         "1",
         "1",
         "2",
         "1",
         "1",
         "2",
         "4",
         "1",
         "1",
         "1",
         "1",
         "1",
         "1",
         "3",
         "1",
         "1",
         "9",
         "1",
         "1",
         "1",
         "4",
         "1",
         "2",
         "1",
         "1",
         "4",
         "2",
         "1",
         "1",
         "2",
         "3",
         "1",
         "5",
         "1",
         "1",
         "1",
         "1",
         "2",
         "1",
         "1",
         "1",
         "1",
         "5",
         "1",
         "1",
         "1",
         "1",
         "2",
         "1",
         "2",
         "1",
         "2",
         "1",
         "1",
         "2",
         "3",
         "1",
         "1",
         "1",
         "1",
         "1",
         "1",
         "2",
         "1",
         "1",
         "1",
         "1",
         "1",
         "3",
         "1",
         "1",
         "4",
         "1",
         "1",
         "1",
         "1",
         "5",
         "1",
         "1",
         "1",
         "1",
         "1",
         "1",
         "1",
         "3",
         "1",
         "1",
         "1",
         "1",
         "5",
         "1",
         "2",
         "1",
         "1",
         "1",
         "1",
         "1",
         "1",
         "2",
         "2",
         "1",
         "1",
         "1",
         "1",
         "1",
         "1",
         "1",
         "4",
         "3",
         "1",
         "1",
         "1",
         "3",
         "1",
         "1",
         "4",
         "1",
         "1",
         "1",
         "4",
         "4",
         "1",
         "1",
         "1",
         "1",
         "3",
         "1",
         "2",
         "3",
         "8",
         "2",
         "1",
         "1",
         "3",
         "4",
         "1",
         "1",
         "3",
         "1",
         "1",
         "1",
         "1",
         "2",
         "4",
         "2",
         "1",
         "1",
         "2",
         "2",
         "1",
         "1",
         "1",
         "3",
         "1",
         "1",
         "1",
         "4",
         "1",
         "5",
         "1",
         "1",
         "1",
         "2",
         "3",
         "1",
         "1",
         "1",
         "2",
         "1",
         "1",
         "1",
         "2",
         "1",
         "4",
         "1",
         "1",
         "1",
         "2",
         "1",
         "1",
         "2",
         "2",
         "2",
         "1",
         "1",
         "1",
         "1",
         "1",
         "2",
         "2",
         "2",
         "2",
         "2",
         "1",
         "1",
         "5",
         "1",
         "1",
         "1",
         "3",
         "1",
         "2",
         "1",
         "1",
         "1",
         "1",
         "1",
         "1",
         "1",
         "1",
         "1",
         "1",
         "1",
         "1",
         "1",
         "1",
         "1",
         "1",
         "1",
         "1",
         "3",
         "1",
         "2",
         "6",
         "1",
         "1",
         "1",
         "1",
         "1",
         "2",
         "1",
         "1",
         "4",
         "1",
         "1",
         "1",
         "1",
         "1",
         "2",
         "2",
         "2",
         "1",
         "2",
         "3",
         "1",
         "1",
         "1",
         "1",
         "1",
         "2",
         "1",
         "1",
         "2",
         "1",
         "1",
         "1",
         "1",
         "4",
         "1",
         "2",
         "1",
         "4",
         "1",
         "1",
         "1",
         "1",
         "1",
         "1",
         "1",
         "1",
         "1",
         "1",
         "1",
         "1",
         "2",
         "1",
         "1",
         "1",
         "1",
         "1",
         "1",
         "1",
         "1",
         "1",
         "1",
         "1",
         "1",
         "2",
         "1",
         "1",
         "2",
         "1",
         "1",
         "1",
         "1",
         "1",
         "5",
         "2",
         "1",
         "1",
         "1",
         "5",
         "1",
         "1",
         "3",
         "2",
         "1",
         "1",
         "1",
         "1",
         "1",
         "2",
         "1",
         "2",
         "2",
         "1",
         "1",
         "1",
         "1",
         "1",
         "3",
         "2",
         "2",
         "1",
         "1",
         "1",
         "1",
         "1",
         "1",
         "1",
         "2",
         "1",
         "1",
         "1",
         "1",
         "1",
         "1",
         "10",
         "1",
         "1",
         "2",
         "4",
         "1",
         "1",
         "1",
         "1",
         "1",
         "1",
         "1",
         "2",
         "1",
         "1",
         "1",
         "1",
         "2",
         "1",
         "1",
         "1",
         "1",
         "1",
         "1",
         "1",
         "1",
         "1",
         "1",
         "1",
         "1",
         "1",
         "2",
         "1",
         "1",
         "1",
         "1",
         "1",
         "11",
         "1",
         "7",
         "2",
         "1",
         "1",
         "1",
         "2",
         "1",
         "1",
         "2",
         "2",
         "2",
         "2",
         "1",
         "1",
         "2",
         "4",
         "1",
         "1",
         "1",
         "1",
         "1",
         "1",
         "1",
         "3",
         "1",
         "1",
         "1",
         "1",
         "1",
         "1",
         "3",
         "1",
         "2",
         "1",
         "1",
         "1",
         "1",
         "1",
         "4",
         "2",
         "1",
         "1",
         "1",
         "1",
         "1",
         "1",
         "1",
         "2",
         "1",
         "2",
         "1",
         "1",
         "1",
         "1",
         "2",
         "1",
         "1",
         "1",
         "1",
         "1",
         "1",
         "1",
         "1",
         "1",
         "1",
         "1",
         "1",
         "1",
         "1",
         "2",
         "1",
         "3",
         "3",
         "1",
         "1",
         "1",
         "1",
         "1",
         "1",
         "1",
         "2",
         "2",
         "1",
         "1",
         "1",
         "1",
         "1",
         "1"
        ]
       ],
       "shape": {
        "columns": 1672,
        "rows": 5
       }
      },
      "text/html": [
       "<div>\n",
       "<style scoped>\n",
       "    .dataframe tbody tr th:only-of-type {\n",
       "        vertical-align: middle;\n",
       "    }\n",
       "\n",
       "    .dataframe tbody tr th {\n",
       "        vertical-align: top;\n",
       "    }\n",
       "\n",
       "    .dataframe thead th {\n",
       "        text-align: right;\n",
       "    }\n",
       "</style>\n",
       "<table border=\"1\" class=\"dataframe\">\n",
       "  <thead>\n",
       "    <tr style=\"text-align: right;\">\n",
       "      <th></th>\n",
       "      <th>anthem</th>\n",
       "      <th>ayn</th>\n",
       "      <th>rand</th>\n",
       "      <th>content</th>\n",
       "      <th>part</th>\n",
       "      <th>one</th>\n",
       "      <th>two</th>\n",
       "      <th>three</th>\n",
       "      <th>four</th>\n",
       "      <th>five</th>\n",
       "      <th>...</th>\n",
       "      <th>remain</th>\n",
       "      <th>awaken</th>\n",
       "      <th>break</th>\n",
       "      <th>fort</th>\n",
       "      <th>louder</th>\n",
       "      <th>raze</th>\n",
       "      <th>capital</th>\n",
       "      <th>beacon</th>\n",
       "      <th>sacred</th>\n",
       "      <th>ego</th>\n",
       "    </tr>\n",
       "  </thead>\n",
       "  <tbody>\n",
       "    <tr>\n",
       "      <th>little</th>\n",
       "      <td>1</td>\n",
       "      <td>1</td>\n",
       "      <td>1</td>\n",
       "      <td>1</td>\n",
       "      <td>26</td>\n",
       "      <td>127</td>\n",
       "      <td>26</td>\n",
       "      <td>15</td>\n",
       "      <td>3</td>\n",
       "      <td>8</td>\n",
       "      <td>...</td>\n",
       "      <td>1</td>\n",
       "      <td>1</td>\n",
       "      <td>2</td>\n",
       "      <td>2</td>\n",
       "      <td>1</td>\n",
       "      <td>1</td>\n",
       "      <td>1</td>\n",
       "      <td>1</td>\n",
       "      <td>1</td>\n",
       "      <td>1</td>\n",
       "    </tr>\n",
       "    <tr>\n",
       "      <th>woman</th>\n",
       "      <td>1</td>\n",
       "      <td>1</td>\n",
       "      <td>1</td>\n",
       "      <td>1</td>\n",
       "      <td>26</td>\n",
       "      <td>127</td>\n",
       "      <td>26</td>\n",
       "      <td>15</td>\n",
       "      <td>3</td>\n",
       "      <td>8</td>\n",
       "      <td>...</td>\n",
       "      <td>1</td>\n",
       "      <td>1</td>\n",
       "      <td>2</td>\n",
       "      <td>2</td>\n",
       "      <td>1</td>\n",
       "      <td>1</td>\n",
       "      <td>1</td>\n",
       "      <td>1</td>\n",
       "      <td>1</td>\n",
       "      <td>1</td>\n",
       "    </tr>\n",
       "    <tr>\n",
       "      <th>louisa</th>\n",
       "      <td>1</td>\n",
       "      <td>1</td>\n",
       "      <td>1</td>\n",
       "      <td>1</td>\n",
       "      <td>26</td>\n",
       "      <td>127</td>\n",
       "      <td>26</td>\n",
       "      <td>15</td>\n",
       "      <td>3</td>\n",
       "      <td>8</td>\n",
       "      <td>...</td>\n",
       "      <td>1</td>\n",
       "      <td>1</td>\n",
       "      <td>2</td>\n",
       "      <td>2</td>\n",
       "      <td>1</td>\n",
       "      <td>1</td>\n",
       "      <td>1</td>\n",
       "      <td>1</td>\n",
       "      <td>1</td>\n",
       "      <td>1</td>\n",
       "    </tr>\n",
       "    <tr>\n",
       "      <th>may</th>\n",
       "      <td>1</td>\n",
       "      <td>1</td>\n",
       "      <td>1</td>\n",
       "      <td>1</td>\n",
       "      <td>26</td>\n",
       "      <td>127</td>\n",
       "      <td>26</td>\n",
       "      <td>15</td>\n",
       "      <td>3</td>\n",
       "      <td>8</td>\n",
       "      <td>...</td>\n",
       "      <td>1</td>\n",
       "      <td>1</td>\n",
       "      <td>2</td>\n",
       "      <td>2</td>\n",
       "      <td>1</td>\n",
       "      <td>1</td>\n",
       "      <td>1</td>\n",
       "      <td>1</td>\n",
       "      <td>1</td>\n",
       "      <td>1</td>\n",
       "    </tr>\n",
       "    <tr>\n",
       "      <th>alcott</th>\n",
       "      <td>1</td>\n",
       "      <td>1</td>\n",
       "      <td>1</td>\n",
       "      <td>1</td>\n",
       "      <td>26</td>\n",
       "      <td>127</td>\n",
       "      <td>26</td>\n",
       "      <td>15</td>\n",
       "      <td>3</td>\n",
       "      <td>8</td>\n",
       "      <td>...</td>\n",
       "      <td>1</td>\n",
       "      <td>1</td>\n",
       "      <td>2</td>\n",
       "      <td>2</td>\n",
       "      <td>1</td>\n",
       "      <td>1</td>\n",
       "      <td>1</td>\n",
       "      <td>1</td>\n",
       "      <td>1</td>\n",
       "      <td>1</td>\n",
       "    </tr>\n",
       "  </tbody>\n",
       "</table>\n",
       "<p>5 rows × 1672 columns</p>\n",
       "</div>"
      ],
      "text/plain": [
       "        anthem  ayn  rand  content  part  one  two  three  four  five  ...  \\\n",
       "little       1    1     1        1    26  127   26     15     3     8  ...   \n",
       "woman        1    1     1        1    26  127   26     15     3     8  ...   \n",
       "louisa       1    1     1        1    26  127   26     15     3     8  ...   \n",
       "may          1    1     1        1    26  127   26     15     3     8  ...   \n",
       "alcott       1    1     1        1    26  127   26     15     3     8  ...   \n",
       "\n",
       "        remain  awaken  break  fort  louder  raze  capital  beacon  sacred  \\\n",
       "little       1       1      2     2       1     1        1       1       1   \n",
       "woman        1       1      2     2       1     1        1       1       1   \n",
       "louisa       1       1      2     2       1     1        1       1       1   \n",
       "may          1       1      2     2       1     1        1       1       1   \n",
       "alcott       1       1      2     2       1     1        1       1       1   \n",
       "\n",
       "        ego  \n",
       "little    1  \n",
       "woman     1  \n",
       "louisa    1  \n",
       "may       1  \n",
       "alcott    1  \n",
       "\n",
       "[5 rows x 1672 columns]"
      ]
     },
     "execution_count": 160,
     "metadata": {},
     "output_type": "execute_result"
    }
   ],
   "source": [
    "test_df = pd.DataFrame(\n",
    "    anthem_dict,\n",
    "    lw_dict\n",
    ")\n",
    "test_df.head()"
   ]
  },
  {
   "cell_type": "code",
   "execution_count": 131,
   "id": "bb72ec93",
   "metadata": {},
   "outputs": [
    {
     "data": {
      "application/vnd.microsoft.datawrangler.viewer.v0+json": {
       "columns": [
        {
         "name": "index",
         "rawType": "int64",
         "type": "integer"
        },
        {
         "name": "0",
         "rawType": "float64",
         "type": "float"
        },
        {
         "name": "1",
         "rawType": "float64",
         "type": "float"
        },
        {
         "name": "2",
         "rawType": "float64",
         "type": "float"
        },
        {
         "name": "3",
         "rawType": "float64",
         "type": "float"
        },
        {
         "name": "4",
         "rawType": "float64",
         "type": "float"
        },
        {
         "name": "5",
         "rawType": "float64",
         "type": "float"
        },
        {
         "name": "6",
         "rawType": "float64",
         "type": "float"
        },
        {
         "name": "7",
         "rawType": "float64",
         "type": "float"
        },
        {
         "name": "8",
         "rawType": "float64",
         "type": "float"
        },
        {
         "name": "9",
         "rawType": "float64",
         "type": "float"
        },
        {
         "name": "10",
         "rawType": "float64",
         "type": "float"
        },
        {
         "name": "11",
         "rawType": "float64",
         "type": "float"
        },
        {
         "name": "12",
         "rawType": "float64",
         "type": "float"
        },
        {
         "name": "13",
         "rawType": "float64",
         "type": "float"
        },
        {
         "name": "14",
         "rawType": "float64",
         "type": "float"
        },
        {
         "name": "15",
         "rawType": "float64",
         "type": "float"
        },
        {
         "name": "16",
         "rawType": "float64",
         "type": "float"
        },
        {
         "name": "17",
         "rawType": "float64",
         "type": "float"
        },
        {
         "name": "18",
         "rawType": "float64",
         "type": "float"
        },
        {
         "name": "19",
         "rawType": "float64",
         "type": "float"
        },
        {
         "name": "20",
         "rawType": "float64",
         "type": "float"
        },
        {
         "name": "21",
         "rawType": "float64",
         "type": "float"
        },
        {
         "name": "22",
         "rawType": "float64",
         "type": "float"
        },
        {
         "name": "23",
         "rawType": "float64",
         "type": "float"
        },
        {
         "name": "24",
         "rawType": "float64",
         "type": "float"
        },
        {
         "name": "25",
         "rawType": "float64",
         "type": "float"
        },
        {
         "name": "26",
         "rawType": "float64",
         "type": "float"
        },
        {
         "name": "27",
         "rawType": "float64",
         "type": "float"
        },
        {
         "name": "28",
         "rawType": "float64",
         "type": "float"
        },
        {
         "name": "29",
         "rawType": "float64",
         "type": "float"
        },
        {
         "name": "30",
         "rawType": "float64",
         "type": "float"
        },
        {
         "name": "31",
         "rawType": "float64",
         "type": "float"
        },
        {
         "name": "32",
         "rawType": "float64",
         "type": "float"
        },
        {
         "name": "33",
         "rawType": "float64",
         "type": "float"
        },
        {
         "name": "34",
         "rawType": "float64",
         "type": "float"
        },
        {
         "name": "35",
         "rawType": "float64",
         "type": "float"
        },
        {
         "name": "36",
         "rawType": "float64",
         "type": "float"
        },
        {
         "name": "37",
         "rawType": "float64",
         "type": "float"
        },
        {
         "name": "38",
         "rawType": "float64",
         "type": "float"
        },
        {
         "name": "39",
         "rawType": "float64",
         "type": "float"
        },
        {
         "name": "40",
         "rawType": "float64",
         "type": "float"
        },
        {
         "name": "41",
         "rawType": "float64",
         "type": "float"
        },
        {
         "name": "42",
         "rawType": "float64",
         "type": "float"
        },
        {
         "name": "43",
         "rawType": "float64",
         "type": "float"
        },
        {
         "name": "44",
         "rawType": "float64",
         "type": "float"
        },
        {
         "name": "45",
         "rawType": "float64",
         "type": "float"
        },
        {
         "name": "46",
         "rawType": "float64",
         "type": "float"
        },
        {
         "name": "47",
         "rawType": "float64",
         "type": "float"
        },
        {
         "name": "48",
         "rawType": "float64",
         "type": "float"
        },
        {
         "name": "49",
         "rawType": "float64",
         "type": "float"
        },
        {
         "name": "50",
         "rawType": "float64",
         "type": "float"
        },
        {
         "name": "51",
         "rawType": "float64",
         "type": "float"
        },
        {
         "name": "52",
         "rawType": "float64",
         "type": "float"
        },
        {
         "name": "53",
         "rawType": "float64",
         "type": "float"
        },
        {
         "name": "54",
         "rawType": "float64",
         "type": "float"
        },
        {
         "name": "55",
         "rawType": "float64",
         "type": "float"
        }
       ],
       "conversionMethod": "pd.DataFrame",
       "ref": "15b8f9b4-7a3a-403f-98f0-ee354e1f176e",
       "rows": [
        [
         "0",
         "1.0000000000000013",
         "0.05723113290933498",
         "0.12282558030410098",
         "0.11868413356807987",
         "0.00024516122041088267",
         "0.10442869370823965",
         "0.06570470216788696",
         "0.11339507355152335",
         "0.09559183739505604",
         "0.08540150660735353",
         "0.1330390062062868",
         "0.1687886330108637",
         "0.07028827086789774",
         "0.12527841583246693",
         "0.14813225098657457",
         "0.13035897561049004",
         "0.14741708023163258",
         "0.07967122105331562",
         "0.10685462670983778",
         "0.05569268191608034",
         "0.08685602392870459",
         "0.04801947151022709",
         "0.08238214811381221",
         "0.10533064593842577",
         "0.11817478979938846",
         "0.08748717521534041",
         "0.07560069286837307",
         "0.03463964320896285",
         "0.053695676923092774",
         "0.1271468512653317",
         "0.09751899721400874",
         "0.08630600363091019",
         "0.09813084401275331",
         "0.053181488811014366",
         "0.10460380812120289",
         "0.09640920915125864",
         "0.10151125731433046",
         "0.06312882543371255",
         "0.024023054974044743",
         "0.10411973181317451",
         "0.10099419694042155",
         "0.056316005108953224",
         "0.1080658587147069",
         "0.13350041022896655",
         "0.08226203994069568",
         "0.09984069929712218",
         "0.08165818851940834",
         "0.1301652875198498",
         "0.10530113990727615",
         "0.06685836388468934",
         "0.11403822887815053",
         "0.1488542357986141",
         "0.15193758366637128",
         "0.13518556150179054",
         "0.10820042287777784",
         "0.08507573893742784"
        ],
        [
         "1",
         "0.05723113290933498",
         "1.0",
         "0.11356189060535946",
         "0.10771994486130472",
         "8.077237368035297e-05",
         "0.08728324961158013",
         "0.054975567855016554",
         "0.12156787567597996",
         "0.0890663101766341",
         "0.08674553445098515",
         "0.1343395712362713",
         "0.12558640041980446",
         "0.08309335466142467",
         "0.1706660534507836",
         "0.11002336766356831",
         "0.11038803925876992",
         "0.14116910059271162",
         "0.19124068583739787",
         "0.11673304682890569",
         "0.10969326270261938",
         "0.0877323375757343",
         "0.04719838591006366",
         "0.09217205669039673",
         "0.15042973376049998",
         "0.09747610522234744",
         "0.06305121157301201",
         "0.09278206399647834",
         "0.03845699439496388",
         "0.16157544848718644",
         "0.11488826779035517",
         "0.07882889227117071",
         "0.08496302418848205",
         "0.10096618446200765",
         "0.054365939185189296",
         "0.0925111049253942",
         "0.07462929522661682",
         "0.08874408996462145",
         "0.09157827374347594",
         "0.031442092637555874",
         "0.12055710966782592",
         "0.0939757123037696",
         "0.12169595026555959",
         "0.13160901479138354",
         "0.19775109044287575",
         "0.11792061908622713",
         "0.17877041663641988",
         "0.06940259890819343",
         "0.12186656614823994",
         "0.1013571651257554",
         "0.06176707427530384",
         "0.1131679933886335",
         "0.12598965471857942",
         "0.1490979190589241",
         "0.2017846901618153",
         "0.09406849721222367",
         "0.07794019308291984"
        ],
        [
         "2",
         "0.12282558030410098",
         "0.11356189060535946",
         "1.0000000000000007",
         "0.2355322745197314",
         "0.0008409005344071454",
         "0.20778192563911493",
         "0.12425219572620459",
         "0.23793811959167044",
         "0.1966193962015179",
         "0.1688928498083392",
         "0.2815125089004447",
         "0.3770567899992433",
         "0.18371634516160582",
         "0.27814209899208336",
         "0.31088044175180807",
         "0.2771161437929712",
         "0.3392564711719835",
         "0.18039740007940658",
         "0.2464609145918842",
         "0.1155661523604074",
         "0.1732321464732239",
         "0.10181254267958711",
         "0.17112195517650405",
         "0.2576334641598684",
         "0.2650288651742607",
         "0.1485393485732365",
         "0.1975302574196276",
         "0.06832503134033327",
         "0.12885823082734352",
         "0.2855764827372323",
         "0.18451454730497965",
         "0.20356439932745235",
         "0.20648115747637108",
         "0.11269165161246458",
         "0.226640962028846",
         "0.19857365692086892",
         "0.22308614169278998",
         "0.14179112587894968",
         "0.06741626680160968",
         "0.2158305908104436",
         "0.21292689155032807",
         "0.13817633956143155",
         "0.21445841989866543",
         "0.2699816750145903",
         "0.18265643137027285",
         "0.2202121236032764",
         "0.19423820292915603",
         "0.2647445882340476",
         "0.22552042524615382",
         "0.12815056905355296",
         "0.22634878508095735",
         "0.30754850060650435",
         "0.3254408817592212",
         "0.2909537687787663",
         "0.22473442842278424",
         "0.18526095220540634"
        ],
        [
         "3",
         "0.11868413356807987",
         "0.10771994486130472",
         "0.2355322745197314",
         "1.0000000000000002",
         "0.0008648787308459134",
         "0.21713092955051386",
         "0.17256088189403504",
         "0.19421622823671433",
         "0.22557642391736746",
         "0.19528414336039368",
         "0.29246308603913984",
         "0.31259638368422754",
         "0.13870526000690572",
         "0.20262858259038435",
         "0.2960959869072303",
         "0.30735311521005854",
         "0.2969043534052053",
         "0.15099876270988524",
         "0.20825931208581677",
         "0.11242443491355229",
         "0.20563536313360242",
         "0.10560213117955757",
         "0.1900334438720651",
         "0.23354415881841625",
         "0.22146365452371966",
         "0.1651268437006835",
         "0.1469961116560031",
         "0.09707090429299822",
         "0.13376983517874008",
         "0.24803622342034734",
         "0.4837824380964974",
         "0.17747627523593668",
         "0.23425791892495415",
         "0.1492339450462235",
         "0.18115390828056802",
         "0.2683002714174071",
         "0.20080155268677102",
         "0.11801713455542953",
         "0.06274970451028168",
         "0.23817399239769366",
         "0.22477765362240643",
         "0.14409844878275777",
         "0.1704468321889884",
         "0.2577763750547611",
         "0.13700460392485153",
         "0.21541000626174536",
         "0.14179877556437875",
         "0.2626550239310693",
         "0.2242017955745822",
         "0.13308047673508414",
         "0.3029993736264253",
         "0.4564024140837413",
         "0.3472606915760691",
         "0.31068457815751105",
         "0.21935643576505284",
         "0.1897550473804402"
        ],
        [
         "4",
         "0.00024516122041088267",
         "8.077237368035297e-05",
         "0.0008409005344071454",
         "0.0008648787308459134",
         "0.9999999999999987",
         "0.00032970712047713727",
         "0.0001286516060331743",
         "0.00023209622287825225",
         "0.0004653129331471698",
         "0.0006615163056071145",
         "0.0008822012476121333",
         "0.0022502730053803326",
         "0.0002924006618640059",
         "0.00147465768407506",
         "0.001303593761717997",
         "0.0006608858437341822",
         "0.0012560815074408583",
         "0.0006778504897997561",
         "0.0014185276085038688",
         "0.0006633501918176563",
         "0.0001653295123351773",
         "3.9387574623575536e-05",
         "0.0006751679962010857",
         "0.0008729583130755272",
         "0.0012076216816127275",
         "0.0038424378973154465",
         "0.00028888167575184435",
         "0.0002014423713610069",
         "0.0009285134497563863",
         "0.0011145618588605814",
         "0.0004191890112398829",
         "0.0004737091153651869",
         "0.00046761680291378664",
         "0.00035890399464175306",
         "0.0008700046503599664",
         "0.0003400588672649955",
         "0.0005725619615365534",
         "0.000336094600314906",
         "0.00011311185104659325",
         "0.000459895576045475",
         "0.0007772238469218441",
         "0.0004374010317899959",
         "0.007225903030156813",
         "0.000794373267157601",
         "0.0008816737226250115",
         "0.0005831551431311559",
         "0.0034921595001288384",
         "0.000434932392864552",
         "0.00042425518947270305",
         "0.00015210519880680214",
         "9.474633548934524e-05",
         "0.0013365232319300815",
         "0.005177879715506797",
         "0.0023446440478218805",
         "0.0010226224586913862",
         "0.0011416650676679386"
        ]
       ],
       "shape": {
        "columns": 56,
        "rows": 5
       }
      },
      "text/html": [
       "<div>\n",
       "<style scoped>\n",
       "    .dataframe tbody tr th:only-of-type {\n",
       "        vertical-align: middle;\n",
       "    }\n",
       "\n",
       "    .dataframe tbody tr th {\n",
       "        vertical-align: top;\n",
       "    }\n",
       "\n",
       "    .dataframe thead th {\n",
       "        text-align: right;\n",
       "    }\n",
       "</style>\n",
       "<table border=\"1\" class=\"dataframe\">\n",
       "  <thead>\n",
       "    <tr style=\"text-align: right;\">\n",
       "      <th></th>\n",
       "      <th>0</th>\n",
       "      <th>1</th>\n",
       "      <th>2</th>\n",
       "      <th>3</th>\n",
       "      <th>4</th>\n",
       "      <th>5</th>\n",
       "      <th>6</th>\n",
       "      <th>7</th>\n",
       "      <th>8</th>\n",
       "      <th>9</th>\n",
       "      <th>...</th>\n",
       "      <th>46</th>\n",
       "      <th>47</th>\n",
       "      <th>48</th>\n",
       "      <th>49</th>\n",
       "      <th>50</th>\n",
       "      <th>51</th>\n",
       "      <th>52</th>\n",
       "      <th>53</th>\n",
       "      <th>54</th>\n",
       "      <th>55</th>\n",
       "    </tr>\n",
       "  </thead>\n",
       "  <tbody>\n",
       "    <tr>\n",
       "      <th>0</th>\n",
       "      <td>1.000000</td>\n",
       "      <td>0.057231</td>\n",
       "      <td>0.122826</td>\n",
       "      <td>0.118684</td>\n",
       "      <td>0.000245</td>\n",
       "      <td>0.104429</td>\n",
       "      <td>0.065705</td>\n",
       "      <td>0.113395</td>\n",
       "      <td>0.095592</td>\n",
       "      <td>0.085402</td>\n",
       "      <td>...</td>\n",
       "      <td>0.081658</td>\n",
       "      <td>0.130165</td>\n",
       "      <td>0.105301</td>\n",
       "      <td>0.066858</td>\n",
       "      <td>0.114038</td>\n",
       "      <td>0.148854</td>\n",
       "      <td>0.151938</td>\n",
       "      <td>0.135186</td>\n",
       "      <td>0.108200</td>\n",
       "      <td>0.085076</td>\n",
       "    </tr>\n",
       "    <tr>\n",
       "      <th>1</th>\n",
       "      <td>0.057231</td>\n",
       "      <td>1.000000</td>\n",
       "      <td>0.113562</td>\n",
       "      <td>0.107720</td>\n",
       "      <td>0.000081</td>\n",
       "      <td>0.087283</td>\n",
       "      <td>0.054976</td>\n",
       "      <td>0.121568</td>\n",
       "      <td>0.089066</td>\n",
       "      <td>0.086746</td>\n",
       "      <td>...</td>\n",
       "      <td>0.069403</td>\n",
       "      <td>0.121867</td>\n",
       "      <td>0.101357</td>\n",
       "      <td>0.061767</td>\n",
       "      <td>0.113168</td>\n",
       "      <td>0.125990</td>\n",
       "      <td>0.149098</td>\n",
       "      <td>0.201785</td>\n",
       "      <td>0.094068</td>\n",
       "      <td>0.077940</td>\n",
       "    </tr>\n",
       "    <tr>\n",
       "      <th>2</th>\n",
       "      <td>0.122826</td>\n",
       "      <td>0.113562</td>\n",
       "      <td>1.000000</td>\n",
       "      <td>0.235532</td>\n",
       "      <td>0.000841</td>\n",
       "      <td>0.207782</td>\n",
       "      <td>0.124252</td>\n",
       "      <td>0.237938</td>\n",
       "      <td>0.196619</td>\n",
       "      <td>0.168893</td>\n",
       "      <td>...</td>\n",
       "      <td>0.194238</td>\n",
       "      <td>0.264745</td>\n",
       "      <td>0.225520</td>\n",
       "      <td>0.128151</td>\n",
       "      <td>0.226349</td>\n",
       "      <td>0.307549</td>\n",
       "      <td>0.325441</td>\n",
       "      <td>0.290954</td>\n",
       "      <td>0.224734</td>\n",
       "      <td>0.185261</td>\n",
       "    </tr>\n",
       "    <tr>\n",
       "      <th>3</th>\n",
       "      <td>0.118684</td>\n",
       "      <td>0.107720</td>\n",
       "      <td>0.235532</td>\n",
       "      <td>1.000000</td>\n",
       "      <td>0.000865</td>\n",
       "      <td>0.217131</td>\n",
       "      <td>0.172561</td>\n",
       "      <td>0.194216</td>\n",
       "      <td>0.225576</td>\n",
       "      <td>0.195284</td>\n",
       "      <td>...</td>\n",
       "      <td>0.141799</td>\n",
       "      <td>0.262655</td>\n",
       "      <td>0.224202</td>\n",
       "      <td>0.133080</td>\n",
       "      <td>0.302999</td>\n",
       "      <td>0.456402</td>\n",
       "      <td>0.347261</td>\n",
       "      <td>0.310685</td>\n",
       "      <td>0.219356</td>\n",
       "      <td>0.189755</td>\n",
       "    </tr>\n",
       "    <tr>\n",
       "      <th>4</th>\n",
       "      <td>0.000245</td>\n",
       "      <td>0.000081</td>\n",
       "      <td>0.000841</td>\n",
       "      <td>0.000865</td>\n",
       "      <td>1.000000</td>\n",
       "      <td>0.000330</td>\n",
       "      <td>0.000129</td>\n",
       "      <td>0.000232</td>\n",
       "      <td>0.000465</td>\n",
       "      <td>0.000662</td>\n",
       "      <td>...</td>\n",
       "      <td>0.003492</td>\n",
       "      <td>0.000435</td>\n",
       "      <td>0.000424</td>\n",
       "      <td>0.000152</td>\n",
       "      <td>0.000095</td>\n",
       "      <td>0.001337</td>\n",
       "      <td>0.005178</td>\n",
       "      <td>0.002345</td>\n",
       "      <td>0.001023</td>\n",
       "      <td>0.001142</td>\n",
       "    </tr>\n",
       "  </tbody>\n",
       "</table>\n",
       "<p>5 rows × 56 columns</p>\n",
       "</div>"
      ],
      "text/plain": [
       "         0         1         2         3         4         5         6   \\\n",
       "0  1.000000  0.057231  0.122826  0.118684  0.000245  0.104429  0.065705   \n",
       "1  0.057231  1.000000  0.113562  0.107720  0.000081  0.087283  0.054976   \n",
       "2  0.122826  0.113562  1.000000  0.235532  0.000841  0.207782  0.124252   \n",
       "3  0.118684  0.107720  0.235532  1.000000  0.000865  0.217131  0.172561   \n",
       "4  0.000245  0.000081  0.000841  0.000865  1.000000  0.000330  0.000129   \n",
       "\n",
       "         7         8         9   ...        46        47        48        49  \\\n",
       "0  0.113395  0.095592  0.085402  ...  0.081658  0.130165  0.105301  0.066858   \n",
       "1  0.121568  0.089066  0.086746  ...  0.069403  0.121867  0.101357  0.061767   \n",
       "2  0.237938  0.196619  0.168893  ...  0.194238  0.264745  0.225520  0.128151   \n",
       "3  0.194216  0.225576  0.195284  ...  0.141799  0.262655  0.224202  0.133080   \n",
       "4  0.000232  0.000465  0.000662  ...  0.003492  0.000435  0.000424  0.000152   \n",
       "\n",
       "         50        51        52        53        54        55  \n",
       "0  0.114038  0.148854  0.151938  0.135186  0.108200  0.085076  \n",
       "1  0.113168  0.125990  0.149098  0.201785  0.094068  0.077940  \n",
       "2  0.226349  0.307549  0.325441  0.290954  0.224734  0.185261  \n",
       "3  0.302999  0.456402  0.347261  0.310685  0.219356  0.189755  \n",
       "4  0.000095  0.001337  0.005178  0.002345  0.001023  0.001142  \n",
       "\n",
       "[5 rows x 56 columns]"
      ]
     },
     "execution_count": 131,
     "metadata": {},
     "output_type": "execute_result"
    }
   ],
   "source": [
    "books_df = pd.DataFrame(\n",
    "    cosine_sim\n",
    ")\n",
    "\n",
    "books_df.head()"
   ]
  }
 ],
 "metadata": {
  "kernelspec": {
   "display_name": "base",
   "language": "python",
   "name": "python3"
  },
  "language_info": {
   "codemirror_mode": {
    "name": "ipython",
    "version": 3
   },
   "file_extension": ".py",
   "mimetype": "text/x-python",
   "name": "python",
   "nbconvert_exporter": "python",
   "pygments_lexer": "ipython3",
   "version": "3.12.4"
  }
 },
 "nbformat": 4,
 "nbformat_minor": 5
}
